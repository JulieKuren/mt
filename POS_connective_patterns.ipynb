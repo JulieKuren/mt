{
 "cells": [
  {
   "cell_type": "code",
   "execution_count": 128,
   "metadata": {
    "collapsed": true
   },
   "outputs": [],
   "source": [
    "import nltk\n",
    "from nltk import pos_tag"
   ]
  },
  {
   "cell_type": "code",
   "execution_count": 129,
   "metadata": {},
   "outputs": [
    {
     "data": {
      "text/plain": [
       "'def show_file(file_path):\\n    with open(file_path, \"rt\") as f:\\n        contents = eval(f.read())\\n    print(contents[\"article\"])\\n    print(\"\")'"
      ]
     },
     "execution_count": 129,
     "metadata": {},
     "output_type": "execute_result"
    }
   ],
   "source": [
    "\"\"\"def show_file(file_path):\n",
    "    with open(file_path, \"rt\") as f:\n",
    "        contents = eval(f.read())\n",
    "    print(contents[\"article\"])\n",
    "    print(\"\")\"\"\""
   ]
  },
  {
   "cell_type": "code",
   "execution_count": 1,
   "metadata": {
    "collapsed": true
   },
   "outputs": [],
   "source": [
    "#show_file(\"RACE/train/middle/3407.txt\")"
   ]
  },
  {
   "cell_type": "code",
   "execution_count": 260,
   "metadata": {},
   "outputs": [
    {
     "name": "stdout",
     "output_type": "stream",
     "text": [
      "When I was a kid, the Easter   holidays in Australia were my favorite time of the year. As soon as they began in April, my family would head straight to the beach for a weekend of camping.\n",
      "Unlike most of the world, Easter falls in autumn in Australia. This means that Easter is our last chance to enjoy the warm weather, swim in the ocean and sleep in the bush under the stars.\n",
      "We'd pitch our tents  on clear patches of grass and look out onto an almost empty beach. Often we were the only ones camping and the whole beach would be ours alone.\n",
      "We used to spend all day outside - swimming, hiking and fishing. On Easter morning, my parents would wake up early and plan an Easter egg hunt for my three brothers and me. They would hide the eggs in the strangest places - in abandoned  bird nests in the trees, under our tents and in every corner of the stones that surround  the beach.\n",
      "In Australia, instead of chocolate bunnies, we had chocolate bilbies  . Bilbies are Australian animals with long ears. Chocolate bilbies were the best treat to find and there was always one for each of us.\n",
      "But sometimes, other animals found them first, and all we'd find were brightly colored wrappers  with animal tooth marks.\n",
      "After the hunt we would come back to the campsite with our bellies   full of chocolate. For us, Easter wasn't about chocolate eggs or religious tradition. It was about being with our family in the great outdoors.\n"
     ]
    }
   ],
   "source": [
    "print(text)"
   ]
  },
  {
   "cell_type": "code",
   "execution_count": 261,
   "metadata": {
    "collapsed": true
   },
   "outputs": [],
   "source": [
    "tokens = nltk.word_tokenize(text)\n",
    "pos_tokens = nltk.pos_tag(tokens)"
   ]
  },
  {
   "cell_type": "code",
   "execution_count": 269,
   "metadata": {},
   "outputs": [
    {
     "name": "stdout",
     "output_type": "stream",
     "text": [
      "[('When', 'WRB'), ('I', 'PRP'), ('was', 'VBD')]\n"
     ]
    }
   ],
   "source": [
    "print((pos_tokens)[:3])"
   ]
  },
  {
   "cell_type": "code",
   "execution_count": 262,
   "metadata": {
    "collapsed": true
   },
   "outputs": [],
   "source": [
    "# connectives in a text\n",
    "connectives = [\"When\", \"as soon as\", \"unlike\", \"that\", \"to\", \"and\", \"instead\", \"instead of\", \"but\", \"after\", \"for\"]"
   ]
  },
  {
   "cell_type": "markdown",
   "metadata": {},
   "source": [
    "### Make a list [connective + word with a POS-tag]"
   ]
  },
  {
   "cell_type": "code",
   "execution_count": 401,
   "metadata": {
    "collapsed": true
   },
   "outputs": [],
   "source": [
    "# from tuples to strings\n",
    "pos_tokens_str = [item for t in pos_tokens for item in t]"
   ]
  },
  {
   "cell_type": "code",
   "execution_count": 444,
   "metadata": {},
   "outputs": [
    {
     "name": "stdout",
     "output_type": "stream",
     "text": [
      "['When WRB I PRP']\n",
      "['to TO the DT']\n",
      "['for IN a DT']\n",
      "['that IN Easter NNP']\n",
      "['to TO the DT']\n",
      "['and CC sleep NN']\n",
      "['and CC sleep NN']\n",
      "['and CC sleep NN']\n",
      "['to TO the DT']\n",
      "['and CC sleep NN']\n",
      "['and CC sleep NN']\n",
      "['for IN a DT']\n",
      "['and CC sleep NN']\n",
      "['and CC sleep NN']\n",
      "['that IN Easter NNP']\n",
      "['instead RB of IN']\n",
      "['to TO the DT']\n",
      "['and CC sleep NN']\n",
      "['for IN a DT']\n",
      "['and CC sleep NN']\n",
      "['to TO the DT']\n"
     ]
    }
   ],
   "source": [
    "def find_patterns():\n",
    "    for w in pos_tokens_str:\n",
    "        for c in connectives:\n",
    "            if w == c:\n",
    "                # put w and its POS + the following word and its POS into a list\n",
    "                patterns = [pos_tokens_str[pos_tokens_str.index(w)] \n",
    "                + \" \" + pos_tokens_str[pos_tokens_str.index(w)+1] \n",
    "                + \" \" + pos_tokens_str[pos_tokens_str.index(w)+2]\n",
    "                + \" \" + pos_tokens_str[pos_tokens_str.index(w)+3]] \n",
    "                #patterns.append(pattern)\n",
    "                print(patterns)\n",
    "find_patterns()"
   ]
  },
  {
   "cell_type": "code",
   "execution_count": null,
   "metadata": {
    "collapsed": true
   },
   "outputs": [],
   "source": []
  },
  {
   "cell_type": "markdown",
   "metadata": {},
   "source": [
    "# https://www.smart-words.org/linking-words/linking-words.pdf\n",
    "all_connectives = ['in the first place', 'again', 'moreover',\n",
    "'not only ... but', 'also' 'to' 'as well as',\n",
    "'as a matter of fact', 'and', 'together', 'with', 'in like manner',\n",
    "               'also', 'of course', 'in addition', 'then',\n",
    "               'likewise', 'coupled with', 'equally', 'comparatively',\n",
    "               'in the same fashion', 'in the same way',\n",
    "               'identically', 'correspondingly',\n",
    "               'first', 'second', 'third', 'uniquely', 'similarly',\n",
    "               'in the light of', 'like', 'furthermore',\n",
    "               'not to mention', 'as', 'additionally',\n",
    "               'to say nothing of', 'too', 'equally important',\n",
    "               'by the same token',\n",
    "              in other words notably in fact\n",
    "to put it differently including in general\n",
    "for one thing like in particular\n",
    "as an illustration to be sure in detail\n",
    "in this case namely to demonstrate\n",
    "for this reason chiefly to emphasize\n",
    "to put it another way truly to repeat\n",
    "that is to say indeed to clarify\n",
    "with attention to certainly to explain\n",
    "by all means surely to enumerate\n",
    "important to realize markedly such as\n",
    "another key point especially for example\n",
    "first thing to remember specifically for instance\n",
    "most compelling evidence expressively to point out\n",
    "must be remembered surprisingly with this in mind\n",
    "point often overlooked frequently\n",
    "on the negative side significantly,\n",
    "              as a result for consequently\n",
    "under those circumstances thus therefore\n",
    "in that case because the thereupon\n",
    "for this reason then forthwith\n",
    "henceforth hence accordingly,\n",
    "              although this may be true but although\n",
    "in contrast (and) still instead\n",
    "different from unlike whereas\n",
    "of course ..., but or despite\n",
    "on the other hand (and) yet conversely\n",
    "on the contrary while otherwise\n",
    "at the same time albeit however\n",
    "in spite of besides rather\n",
    "even so / though as much as nevertheless\n",
    "be that as it may even though nonetheless\n",
    "then again regardless\n",
    "above all notwithstanding\n",
    "in reality\n",
    "after all,\n",
    "              in the event that if in case\n",
    "granted (that) ... then provided that\n",
    "as / so long as unless given that\n",
    "on (the) condition (that) only / even if\n",
    "for the purpose of when so that\n",
    "with this intention whenever so as to\n",
    "with this in mind since owing to\n",
    "in the hope that while due to\n",
    "to the end that\n",
    "for fear that because of inasmuch as\n",
    "in order to as\n",
    "seeing / being that since\n",
    "in view of while\n",
    "lest,\n",
    "              in the middle here further\n",
    "to the left/right there beyond\n",
    "in front of next nearby\n",
    "on this side where wherever\n",
    "in the distance from around\n",
    "here and there over before\n",
    "in the foreground near alongside\n",
    "in the background above amid\n",
    "in the center of below among\n",
    "down beneath\n",
    "adjacent to up beside\n",
    "opposite to under behind\n",
    "between across,\n",
    "              at the present time after henceforth\n",
    "from time to time later whenever\n",
    "sooner or later last eventually\n",
    "at the same time until meanwhile\n",
    "up to the present time till further\n",
    "to begin with since during\n",
    "in due time then first, second\n",
    "until now before in time\n",
    "as soon as hence prior to\n",
    "as long as forthwith\n",
    "in the meantime when straightaway\n",
    "in a moment once\n",
    "without delay about by the time\n",
    "in the first place next whenever\n",
    "all of a sudden now\n",
    "at this instant now that\n",
    "immediately formerly instantly\n",
    "quickly suddenly presently\n",
    "finally shortly occasionally,\n",
    "              as can be seen after all overall\n",
    "generally speaking in fact ordinarily\n",
    "in the final analysis in summary usually\n",
    "all things considered in conclusion by and large\n",
    "as shown above in short to sum up\n",
    "in the long run in brief on the whole\n",
    "given these points in essence in any event\n",
    "as has been noted to summarize in either case\n",
    "in a word on balance all in all\n",
    "for the most part altogether,\n",
    "              than That after Time\n",
    "rather than what as long as\n",
    "whether whatever as soon as\n",
    "as much as which before\n",
    "whereas whichever by the time\n",
    "now that,\n",
    "              though Who once\n",
    "although whoever since\n",
    "even though whom till\n",
    "while whomever until\n",
    "whose when\n",
    "if where whenever\n",
    "only if wherever while\n",
    "unless\n",
    "until how because\n",
    "provided that as though since\n",
    "assuming that as if so that\n",
    "even if in order (that)\n",
    "in case (that) why\n",
    "lest,\n",
    "              as . . . as either . . . or what with . . . and\n",
    "just as . . . so neither . . . nor whether . . . or\n",
    "both . . . and not only . . . but also\n",
    "hardly . . . when if . . . then no sooner . . . than\n",
    "scarcely . . . when not . . . but rather . . . than,\n",
    "              For And Nor But Or Yet So]"
   ]
  },
  {
   "cell_type": "code",
   "execution_count": null,
   "metadata": {
    "collapsed": true
   },
   "outputs": [],
   "source": []
  }
 ],
 "metadata": {
  "kernelspec": {
   "display_name": "Python 3",
   "language": "python",
   "name": "python3"
  },
  "language_info": {
   "codemirror_mode": {
    "name": "ipython",
    "version": 3
   },
   "file_extension": ".py",
   "mimetype": "text/x-python",
   "name": "python",
   "nbconvert_exporter": "python",
   "pygments_lexer": "ipython3",
   "version": "3.6.3"
  }
 },
 "nbformat": 4,
 "nbformat_minor": 2
}
