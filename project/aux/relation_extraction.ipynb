{
 "cells": [
  {
   "cell_type": "markdown",
   "metadata": {},
   "source": [
    "Defines types and **functions for reading RST trees**.\n",
    "\n",
    "See examples of the use of some of those functions at the end of the notebook."
   ]
  },
  {
   "cell_type": "code",
   "execution_count": 39,
   "metadata": {
    "collapsed": true
   },
   "outputs": [],
   "source": [
    "from collections import namedtuple\n",
    "from dataclasses import dataclass\n",
    "import re\n",
    "from typing import List, Mapping, Optional, Tuple, Union"
   ]
  },
  {
   "cell_type": "code",
   "execution_count": 63,
   "metadata": {
    "collapsed": true
   },
   "outputs": [],
   "source": [
    "# A segment is a piece of text corresponding to one of the parts\n",
    "# of an RST relation or to a whole RST relation.\n",
    "\n",
    "Segment = namedtuple(\"Segment\", [\"type\", \"start\", \"end\"])\n",
    "# type is either \"N\" (nucleus) or \"S\" (satellite)\n",
    "# start and end are indices\n",
    "\n",
    "\n",
    "@dataclass\n",
    "class Relation:\n",
    "    \"\"\"An RST Relation.\"\"\"\n",
    "\n",
    "    relation_type: str\n",
    "    #: e.g. Explanation, Joint, etc.\n",
    "    left: Segment\n",
    "    #: the left part of the relation\n",
    "    right: Segment\n",
    "    #: the right part of the relation\n",
    "    left_child: Optional[\"Relation\"]\n",
    "    #: the left subrelation or None if there is no nested structure\n",
    "    #: on the left\n",
    "    right_child: Optional[\"Relation\"]\n",
    "    #: the right subrelation or None if there is no nested structure\n",
    "    #: on the right\n",
    "\n",
    "    def get_first_nucleus(self) -> Tuple[Optional[\"Relation\"], Segment]:\n",
    "        \"\"\"Get the relation and the segment of the nucleus.\n",
    "\n",
    "        If the relation consists of two nuclei, get the relation and\n",
    "        the segment of the left nucleus. If the nucleus is flat (i.e.\n",
    "        there is no nested RST structue in it), the returned relation\n",
    "        is None.\n",
    "        \"\"\"\n",
    "        if self.left.type == \"N\":\n",
    "            return self.left_child, self.left\n",
    "        else:\n",
    "            return self.right_child, self.right\n",
    "\n",
    "    def get_satellite(\n",
    "        self,\n",
    "    ) -> Union[Tuple[Optional[\"Relation\"], Segment], Tuple[None, None]]:\n",
    "        \"\"\"Get the relation and the segment of the satellite.\n",
    "\n",
    "        If the relation consists of two nuclei, returns a pair of Nones.\n",
    "        If the satellite is flat (i.e. there is no nested RST structure\n",
    "        in it), the returned relation is None.\n",
    "        \"\"\"\n",
    "        if self.left.type == \"S\":\n",
    "            return self.left_child, self.left\n",
    "        elif self.right.type == \"S\":\n",
    "            return self.right_child, self.right\n",
    "        else:\n",
    "            return None, None"
   ]
  },
  {
   "cell_type": "code",
   "execution_count": 64,
   "metadata": {
    "collapsed": true
   },
   "outputs": [],
   "source": [
    "def skip_whitespace(text: str, pointer: int) -> int:\n",
    "    \"\"\"Get the position of the first non-whitespace character\n",
    "    in text right of pointer.\n",
    "\n",
    "    If text[pointer] is not a whitespace character, returns pointer.\n",
    "    Otherwise, scan text to the right until a non-whitespace character\n",
    "    is found.\n",
    "\n",
    "    :param text: the string to scan\n",
    "    :param pointer: the start position for the scanning process\n",
    "    :return: a pointer to the first non-whitespace character right of\n",
    "             the start position or a pointer to the position past the\n",
    "             end of the string if all the characters right of pointer\n",
    "             are whitespace\n",
    "    \"\"\"\n",
    "    cnt = 0\n",
    "    while pointer + cnt < len(text) and text[pointer + cnt].isspace():\n",
    "        cnt += 1\n",
    "    return cnt"
   ]
  },
  {
   "cell_type": "code",
   "execution_count": 65,
   "metadata": {
    "collapsed": true
   },
   "outputs": [],
   "source": [
    "def check_symbol(text: str, pointer: int, c: str) -> bool:\n",
    "    \"\"\"Safely check if pointer points at a given character.\n",
    "\n",
    "    If pointer is out of bounds, returns False. Otherwise, checks if\n",
    "    text[pointer] equals c.\n",
    "\n",
    "    :param text: the string to look at\n",
    "    :param pointer: the position to look at\n",
    "    :param c: the character to compare against\n",
    "    :return: True if text[pointer] == c, False if text[pointer] != c or if\n",
    "             pointer is out of bounds\n",
    "    \"\"\"\n",
    "    if pointer >= len(text):\n",
    "        return False\n",
    "    else:\n",
    "        return text[pointer] == c"
   ]
  },
  {
   "cell_type": "code",
   "execution_count": 66,
   "metadata": {
    "collapsed": true
   },
   "outputs": [],
   "source": [
    "def is_segment_start(tree_text: str, pointer: int) -> bool:\n",
    "    \"\"\"Check for the start of an RST segment.\n",
    "\n",
    "    :param tree_text: the text representation of an RST tree\n",
    "    :param pointer: the current position (character index) in tree_text\n",
    "    :return: True if the start of an RST segment is detected, False otherwise.\n",
    "    \"\"\"\n",
    "    return check_symbol(tree_text, pointer, \"_\") and check_symbol(\n",
    "        tree_text, pointer + 1, \"!\"\n",
    "    )\n",
    "\n",
    "\n",
    "def is_segment_end(tree_text: str, pointer: int) -> bool:\n",
    "    \"\"\"Check for the end of an RST segment.\n",
    "\n",
    "    :param tree_text: the text representation of an RST tree\n",
    "    :param pointer: the current position (character index) in tree_text\n",
    "    :return: True if the end of an RST segment is detected, False otherwise.\n",
    "    \"\"\"\n",
    "    return check_symbol(tree_text, pointer, \"!\") and check_symbol(\n",
    "        tree_text, pointer + 1, \"_\"\n",
    "    )"
   ]
  },
  {
   "cell_type": "code",
   "execution_count": 82,
   "metadata": {
    "collapsed": true
   },
   "outputs": [],
   "source": [
    "head_re = re.compile(r\"([^[]*)\\[(N|S)\\]\\[(N|S)\\]\")\n",
    "\n",
    "\n",
    "def read_head(tree_text: str, pointer: int) -> Tuple[str, str, str, int]:\n",
    "    \"\"\"Reads the head of an RST relation from the text represenation\n",
    "    of an RST tree.\n",
    "\n",
    "    For example, an RST relation head can look like\n",
    "    ```\n",
    "        (Explanation[N][S]\n",
    "    ```\n",
    "    :param tree_text: the text represenation of an RST tree\n",
    "    :param pointer: the starting position\n",
    "    :return: the type of the relation (e.g. 'Explanation'),\n",
    "             the type of the left part (\"N\" (nucleus) or \"S\" (satellite)),\n",
    "             the type of the right part (\"N\" (nucleus) or \"S\" (satellite)),\n",
    "             a new pointer (the position past the head)\n",
    "    \"\"\"\n",
    "    pointer += skip_whitespace(tree_text, pointer)\n",
    "    assert check_symbol(tree_text, pointer, \"(\")\n",
    "    pointer += 1\n",
    "\n",
    "    head_start = pointer\n",
    "    while pointer < len(tree_text) and not tree_text[pointer].isspace():\n",
    "        pointer += 1\n",
    "    head_end = pointer\n",
    "\n",
    "    relation_type, left_segment_type, right_segment_type = head_re.match(\n",
    "        tree_text[head_start:head_end]\n",
    "    ).groups()\n",
    "\n",
    "    return (relation_type, left_segment_type, right_segment_type, pointer)"
   ]
  },
  {
   "cell_type": "code",
   "execution_count": 83,
   "metadata": {
    "collapsed": true
   },
   "outputs": [],
   "source": [
    "def relation_to_segment(relation: Relation, segment_type: str) -> Segment:\n",
    "    \"\"\"Creates a Segment corresponding to a given relation.\n",
    "\n",
    "    :param relation:\n",
    "    :param segment_type: the type of the segment (\"N\" (nucleus) or\n",
    "                         \"S\" (satellite)) as read from the head of\n",
    "                         the parent relation\n",
    "    :return: an object representing the segment that corresponds to\n",
    "             the relation\n",
    "    \"\"\"\n",
    "    return Segment(segment_type, relation.left.start, relation.right.end)"
   ]
  },
  {
   "cell_type": "code",
   "execution_count": 84,
   "metadata": {
    "collapsed": true
   },
   "outputs": [],
   "source": [
    "def read_segment(\n",
    "    tree_text: str, pointer: int, text: List[str], segment_type: str\n",
    ") -> Tuple[Segment, int]:\n",
    "    \"\"\"Read a flat segment from the text represenation of an RST tree.\n",
    "\n",
    "    Appends the respective piece of the original text to a list passed\n",
    "    as the text parameter.\n",
    "\n",
    "    :param tree_text: the text represenation of an RST tree\n",
    "    :pointer: the position to start reading from\n",
    "    :text: a list for collecting pieces of the original text\n",
    "    :segment_type: the type of the segment (\"N\" (nucleus) or \"S\" (satellite))\n",
    "                   as read from the head of the relation that the segment\n",
    "                   belongs to\n",
    "    :return: an object representing the segment,\n",
    "             a new pointer\n",
    "    \"\"\"\n",
    "    pointer += skip_whitespace(tree_text, pointer)\n",
    "    assert is_segment_start(tree_text, pointer)\n",
    "    pointer += 2\n",
    "\n",
    "    segment_start = len(text)\n",
    "    while pointer < len(tree_text) and not (\n",
    "        check_symbol(tree_text, pointer, \"!\")\n",
    "        and check_symbol(tree_text, pointer + 1, \"_\")\n",
    "    ):\n",
    "        text.append(tree_text[pointer])\n",
    "        pointer += 1\n",
    "    assert is_segment_end(tree_text, pointer)\n",
    "    text.append(\" \")\n",
    "    segment_end = len(text)\n",
    "    pointer += 2\n",
    "\n",
    "    return (Segment(segment_type, segment_start, segment_end), pointer)"
   ]
  },
  {
   "cell_type": "code",
   "execution_count": 85,
   "metadata": {
    "collapsed": true
   },
   "outputs": [],
   "source": [
    "def read_relation_or_segment(\n",
    "    tree_text: str,\n",
    "    pointer: int,\n",
    "    text: List[str],\n",
    "    segment_type: str,\n",
    "    relations: Mapping[str, List[Relation]],\n",
    ") -> Tuple[Segment, int, Optional[Relation]]:\n",
    "    \"\"\"Read either an RST relation or a flat segment.\n",
    "\n",
    "    If the pointer is at the start of an RST relation, reads the relation.\n",
    "    Otherwise, reads a flat segment. If a relation is read, the function\n",
    "    creates an object representing the respective segment too. So, a Segment\n",
    "    is returned in either case.\n",
    "\n",
    "    :param tree_text: the text represenation of an RST tree\n",
    "    :pointer: the position to start reading from\n",
    "    :text: a list for collecting pieces of the original text\n",
    "    :segment_type: the type of the segment (\"N\" (nucleus) or \"S\" (satellite))\n",
    "                   as read from the head of the relation\n",
    "    :relations: a mapping between relation types and extracted relations\n",
    "    :return: an object representing the segment,\n",
    "             a new pointer, and\n",
    "             an object representing the relation (None if a flat segment\n",
    "             has been read)\n",
    "    \"\"\"\n",
    "    pointer += skip_whitespace(tree_text, pointer)\n",
    "    if check_symbol(tree_text, pointer, \"(\"):\n",
    "        relation, pointer = read_relation(tree_text, pointer, text, relations)\n",
    "        segment = relation_to_segment(relation, segment_type)\n",
    "        return segment, pointer, relation\n",
    "    else:\n",
    "        segment, pointer = read_segment(tree_text, pointer, text, segment_type)\n",
    "        return segment, pointer, None"
   ]
  },
  {
   "cell_type": "code",
   "execution_count": 86,
   "metadata": {
    "collapsed": true
   },
   "outputs": [],
   "source": [
    "def read_relation(\n",
    "    tree_text: str,\n",
    "    pointer: int,\n",
    "    text: List[str],\n",
    "    relations: Mapping[str, List[Relation]],\n",
    ") -> Tuple[Relation, int]:\n",
    "    \"\"\"Read an RST relation from a text representation of an RST tree.\n",
    "\n",
    "    Reads an RST relation and adds it to relations. Returns the\n",
    "    created relation together a new pointer. Nested relations\n",
    "    (in case there are any) are read and added to relations recursively.\n",
    "    The original text is reconstructed along the way (see the text parameter).\n",
    "\n",
    "    :param tree_text: the text represenation of an RST tree\n",
    "    :pointer: the position to start reading from\n",
    "    :text: a list for collecting pieces of the original text\n",
    "    :relations: a mapping between relation types and extracted relations\n",
    "    :return: the read relation and a new pointer. The new pointer is\n",
    "             the index of the first position past the text of the relation\n",
    "             in tree_text.\n",
    "    \"\"\"\n",
    "    # read the head of the relation\n",
    "    (\n",
    "        relation_type,\n",
    "        left_segment_type,\n",
    "        right_segment_type,\n",
    "        pointer,\n",
    "    ) = read_head(tree_text, pointer)\n",
    "\n",
    "    # read the left part (possibly, a relation on its own)\n",
    "    (left_segment, pointer, left_child,) = read_relation_or_segment(\n",
    "        tree_text, pointer, text, left_segment_type, relations\n",
    "    )\n",
    "\n",
    "    # read the right part (possibly, a relation on its own)\n",
    "    (right_segment, pointer, right_child,) = read_relation_or_segment(\n",
    "        tree_text, pointer, text, right_segment_type, relations\n",
    "    )\n",
    "\n",
    "    # read to the end of the relation's text\n",
    "    pointer += skip_whitespace(tree_text, pointer)\n",
    "    assert check_symbol(tree_text, pointer, \")\")\n",
    "    pointer += 1\n",
    "\n",
    "    relation = Relation(  # create a Relation object\n",
    "        relation_type, left_segment, right_segment, left_child, right_child\n",
    "    )\n",
    "    # add the created Relation object to the relations mapping\n",
    "    if relation_type not in relations:\n",
    "        relations[relation_type] = []\n",
    "    relations[relation_type].append(relation)\n",
    "\n",
    "    return relation, pointer"
   ]
  },
  {
   "cell_type": "code",
   "execution_count": 87,
   "metadata": {
    "collapsed": true
   },
   "outputs": [],
   "source": [
    "def read_relations(tree_text: str) -> Tuple[str, Mapping[str, List[Relation]]]:\n",
    "    \"\"\"Read RST relations from the text representation of an RST tree.\n",
    "\n",
    "    Recursively reads and collects RST relations. Recreates the original\n",
    "    text along the way.\n",
    "\n",
    "    :param tree_text: the text representation of an RST tree\n",
    "    :return: the reconstructed text,\n",
    "             the collected relations (grouped by the relation type)\n",
    "    \"\"\"\n",
    "    pointer = 0\n",
    "    text = []\n",
    "    relations = {}\n",
    "    read_relation(tree_text, pointer, text, relations)\n",
    "    return \"\".join(text), relations\n",
    "\n",
    "\n",
    "def extract_relations(\n",
    "    file_path: str,\n",
    ") -> Tuple[str, Mapping[str, List[Relation]]]:\n",
    "    \"\"\"Read RST relations from a file.\n",
    "\n",
    "    Recursively reads and collects RST relations. Recreates the original\n",
    "    text along the way.\n",
    "\n",
    "    :param file_path: a path to a file with an RST tree\n",
    "    :return: the reconstructed text,\n",
    "             the collected relations (grouped by the relation type)\n",
    "    \"\"\"\n",
    "    with open(file_path, \"rt\") as f:\n",
    "        tree_text = f.read()\n",
    "\n",
    "    return read_relations(tree_text.replace(\"<s>\", \"\").replace(\"<P>\", \"\"))"
   ]
  },
  {
   "cell_type": "code",
   "execution_count": 88,
   "metadata": {
    "collapsed": true
   },
   "outputs": [],
   "source": [
    "def read_relation_tree(tree_text: str) -> Relation:\n",
    "    \"\"\"Create an in-memory representation of an RST tree from its\n",
    "    text represenation.\n",
    "\n",
    "    Creates a nested data structure representing the tree.\n",
    "\n",
    "    :param tree_text: the text representation of an RST tree\n",
    "    :return: an object representing the root relation\n",
    "    \"\"\"\n",
    "    root, _ = read_relation(tree_text, 0, [], {})\n",
    "    return root\n",
    "\n",
    "\n",
    "def extract_relation_tree(file_path: str) -> Relation:\n",
    "    \"\"\"Create an in-memory representation of an RST tree from a file.\n",
    "\n",
    "    Creates a nested data structure representing the tree.\n",
    "\n",
    "    :param tree_text: a path to a file with an RST tree\n",
    "    :return: an object representing the root relation\n",
    "    \"\"\"\n",
    "    with open(file_path, \"rt\") as f:\n",
    "        tree_text = f.read()\n",
    "\n",
    "    return read_relation_tree(tree_text)\n",
    "\n",
    "\n",
    "def load_relations(file_path):\n",
    "    \"\"\"Read RST relations from a file.\n",
    "\n",
    "    Recursively reads and collects RST relations. Recreates the original\n",
    "    text along the way. Additionally, return a text representation of the\n",
    "    tree that is clear of `<s>` and `<P>` HTML tags.\n",
    "\n",
    "    :param file_path: a path to a file with an RST tree\n",
    "    :return: the reconstructed text,\n",
    "             the collected relations (grouped by the relation type),\n",
    "             the cleaned text representation of the RST tree\n",
    "    \"\"\"\n",
    "    with open(file_path, \"rt\") as f:\n",
    "        tree_text = f.read()\n",
    "\n",
    "    cleaned_tree_text = tree_text.replace(\"<s>\", \"\").replace(\"<P>\", \"\")\n",
    "\n",
    "    text, relations = read_relations(cleaned_tree_text)\n",
    "\n",
    "    return text, relations, cleaned_tree_text"
   ]
  },
  {
   "cell_type": "code",
   "execution_count": 89,
   "metadata": {},
   "outputs": [
    {
     "name": "stdout",
     "output_type": "stream",
     "text": [
      "('ha-ha  this is a  segment  a . b . ', {'Join': [Relation(relation_type='Join', left=Segment(type='N', start=27, end=31), right=Segment(type='N', start=31, end=35), left_child=None, right_child=None)], 'Elaboration': [Relation(relation_type='Elaboration', left=Segment(type='N', start=7, end=27), right=Segment(type='S', start=27, end=35), left_child=None, right_child=Relation(relation_type='Join', left=Segment(type='N', start=27, end=31), right=Segment(type='N', start=31, end=35), left_child=None, right_child=None)), Relation(relation_type='Elaboration', left=Segment(type='N', start=0, end=7), right=Segment(type='S', start=7, end=35), left_child=None, right_child=Relation(relation_type='Elaboration', left=Segment(type='N', start=7, end=27), right=Segment(type='S', start=27, end=35), left_child=None, right_child=Relation(relation_type='Join', left=Segment(type='N', start=27, end=31), right=Segment(type='N', start=31, end=35), left_child=None, right_child=None)))]})\n"
     ]
    }
   ],
   "source": [
    "if __name__ == \"__main__\" and \"__file__\" not in globals():\n",
    "    tree_text = \"\"\"\n",
    "        (Elaboration[N][S]\n",
    "           _!ha-ha !_\n",
    "           (Elaboration[N][S] _!this is a  segment !_\n",
    "           (Join[N][N] _!a .!_ _!b .!_)))\n",
    "    \"\"\"\n",
    "    print(read_relations(tree_text))"
   ]
  },
  {
   "cell_type": "code",
   "execution_count": 90,
   "metadata": {},
   "outputs": [
    {
     "name": "stdout",
     "output_type": "stream",
     "text": [
      "(Segment(type='S', start=0, end=35), 145, Relation(relation_type='Elaboration', left=Segment(type='N', start=0, end=7), right=Segment(type='S', start=7, end=35), left_child=None, right_child=Relation(relation_type='Elaboration', left=Segment(type='N', start=7, end=27), right=Segment(type='S', start=27, end=35), left_child=None, right_child=Relation(relation_type='Join', left=Segment(type='N', start=27, end=31), right=Segment(type='N', start=31, end=35), left_child=None, right_child=None))))\n"
     ]
    }
   ],
   "source": [
    "if __name__ == \"__main__\" and \"__file__\" not in globals():\n",
    "    text = []\n",
    "    relations = {}\n",
    "    print(read_relation_or_segment(tree_text, 0, text, \"S\", relations))"
   ]
  },
  {
   "cell_type": "code",
   "execution_count": 91,
   "metadata": {},
   "outputs": [
    {
     "name": "stdout",
     "output_type": "stream",
     "text": [
      "It 's no secret that doing good makes others happy - but did you know it can make you happy as well ?  According to a study , people participating in meaningful activities were happier and felt that their lives had more purpose than people who only engaged in pleasure-seeking behaviors .  Try giving these four things to others to start your journey to a happier and healthier lifestyle . 1 .  Your Time With a busy life , it can be hard to find any time to give away .  However , volunteering your time has great benefits , including making new friends and connections , learning new skills and even advancing your career .  According to a paper about the link between health and volunteering , volunteering is connected with lower instances of depression and reduces the risk of dying by 22 percent . 2 .  Your Attention Most of us think we 're good listeners , but according to psychologist Paul Donoghue , most people are aware that others do n't listen as well as they could .  In addition , they 're not fully aware that they themselves are n't listening .  When practicing mindfulness meditation , you focus on what you experience in the moment and let your thoughts and emotions pass through without judgment .  Did you know that giving someone your undivided attention helps you also ?  When done well , active listening strengthens your focus-which is a major part of good meditation . 3 .  Your Compassion The psychological meaning of compassion is the ability to understand another person 's emotional state .  Compassion differs from empathy in that those who experience compassion not only put themselves in another person 's shoes , but also want to reduce that person 's suffering .  A brain-imaging study showed that the brain 's pleasure centers are equally active when we give money to the poor as when we receive money ourselves . 4 .  Your Money According to an experiment , those who spend money on other people are significantly happier than those who spend the same quantity of money on themselves .  Whether or not you can offer other gifts , donating money helps make real change happen .  It represents time spent , compassion and careful attention to the needs of others .  \n",
      "\n",
      "{'Attribution': [Relation(relation_type='Attribution', left=Segment(type='S', start=0, end=16), right=Segment(type='N', start=16, end=53), left_child=None, right_child=None), Relation(relation_type='Attribution', left=Segment(type='S', start=53, end=61), right=Segment(type='N', start=61, end=70), left_child=None, right_child=None), Relation(relation_type='Attribution', left=Segment(type='S', start=53, end=70), right=Segment(type='N', start=70, end=103), left_child=Relation(relation_type='Attribution', left=Segment(type='S', start=53, end=61), right=Segment(type='N', start=61, end=70), left_child=None, right_child=None), right_child=None), Relation(relation_type='Attribution', left=Segment(type='S', start=185, end=194), right=Segment(type='N', start=194, end=290), left_child=None, right_child=Relation(relation_type='Elaboration', left=Segment(type='N', start=194, end=240), right=Segment(type='S', start=240, end=290), left_child=None, right_child=None)), Relation(relation_type='Attribution', left=Segment(type='S', start=103, end=126), right=Segment(type='N', start=126, end=290), left_child=None, right_child=Relation(relation_type='Joint', left=Segment(type='N', start=126, end=185), right=Segment(type='N', start=185, end=290), left_child=Relation(relation_type='same-unit', left=Segment(type='N', start=126, end=172), right=Segment(type='N', start=172, end=185), left_child=Relation(relation_type='Elaboration', left=Segment(type='N', start=126, end=133), right=Segment(type='S', start=133, end=172), left_child=None, right_child=None), right_child=None), right_child=Relation(relation_type='Attribution', left=Segment(type='S', start=185, end=194), right=Segment(type='N', start=194, end=290), left_child=None, right_child=Relation(relation_type='Elaboration', left=Segment(type='N', start=194, end=240), right=Segment(type='S', start=240, end=290), left_child=None, right_child=None)))), Relation(relation_type='Attribution', left=Segment(type='S', start=627, end=697), right=Segment(type='N', start=697, end=809), left_child=None, right_child=Relation(relation_type='Joint', left=Segment(type='N', start=697, end=758), right=Segment(type='N', start=758, end=809), left_child=None, right_child=Relation(relation_type='Elaboration', left=Segment(type='N', start=758, end=779), right=Segment(type='S', start=779, end=809), left_child=None, right_child=None))), Relation(relation_type='Attribution', left=Segment(type='S', start=809, end=841), right=Segment(type='N', start=841, end=865), left_child=None, right_child=None), Relation(relation_type='Attribution', left=Segment(type='S', start=911, end=933), right=Segment(type='N', start=933, end=984), left_child=None, right_child=Relation(relation_type='Background', left=Segment(type='N', start=933, end=967), right=Segment(type='S', start=967, end=984), left_child=None, right_child=None)), Relation(relation_type='Attribution', left=Segment(type='S', start=984, end=1023), right=Segment(type='N', start=1023, end=1065), left_child=None, right_child=None), Relation(relation_type='Attribution', left=Segment(type='S', start=1221, end=1234), right=Segment(type='N', start=1234, end=1297), left_child=None, right_child=None), Relation(relation_type='Attribution', left=Segment(type='S', start=1314, end=1343), right=Segment(type='N', start=1343, end=1402), left_child=None, right_child=None), Relation(relation_type='Attribution', left=Segment(type='S', start=1701, end=1730), right=Segment(type='N', start=1730, end=1857), left_child=None, right_child=Relation(relation_type='Background', left=Segment(type='N', start=1730, end=1784), right=Segment(type='S', start=1784, end=1857), left_child=None, right_child=Relation(relation_type='Background', left=Segment(type='N', start=1784, end=1818), right=Segment(type='S', start=1818, end=1857), left_child=None, right_child=None)))], 'Contrast': [Relation(relation_type='Contrast', left=Segment(type='S', start=0, end=53), right=Segment(type='N', start=53, end=103), left_child=Relation(relation_type='Attribution', left=Segment(type='S', start=0, end=16), right=Segment(type='N', start=16, end=53), left_child=None, right_child=None), right_child=Relation(relation_type='Attribution', left=Segment(type='S', start=53, end=70), right=Segment(type='N', start=70, end=103), left_child=Relation(relation_type='Attribution', left=Segment(type='S', start=53, end=61), right=Segment(type='N', start=61, end=70), left_child=None, right_child=None), right_child=None)), Relation(relation_type='Contrast', left=Segment(type='N', start=809, end=865), right=Segment(type='S', start=865, end=911), left_child=Relation(relation_type='Attribution', left=Segment(type='S', start=809, end=841), right=Segment(type='N', start=841, end=865), left_child=None, right_child=None), right_child=None), Relation(relation_type='Contrast', left=Segment(type='N', start=395, end=472), right=Segment(type='N', start=472, end=2203), left_child=None, right_child=Relation(relation_type='Elaboration', left=Segment(type='N', start=472, end=627), right=Segment(type='S', start=627, end=2203), left_child=Relation(relation_type='same-unit', left=Segment(type='N', start=472, end=482), right=Segment(type='N', start=482, end=627), left_child=None, right_child=Relation(relation_type='Elaboration', left=Segment(type='N', start=482, end=526), right=Segment(type='S', start=526, end=627), left_child=None, right_child=Relation(relation_type='Elaboration', left=Segment(type='N', start=526, end=573), right=Segment(type='S', start=573, end=627), left_child=None, right_child=Relation(relation_type='Joint', left=Segment(type='N', start=573, end=593), right=Segment(type='N', start=593, end=627), left_child=None, right_child=None)))), right_child=Relation(relation_type='Background', left=Segment(type='N', start=627, end=809), right=Segment(type='S', start=809, end=2203), left_child=Relation(relation_type='Attribution', left=Segment(type='S', start=627, end=697), right=Segment(type='N', start=697, end=809), left_child=None, right_child=Relation(relation_type='Joint', left=Segment(type='N', start=697, end=758), right=Segment(type='N', start=758, end=809), left_child=None, right_child=Relation(relation_type='Elaboration', left=Segment(type='N', start=758, end=779), right=Segment(type='S', start=779, end=809), left_child=None, right_child=None))), right_child=Relation(relation_type='Elaboration', left=Segment(type='N', start=809, end=984), right=Segment(type='S', start=984, end=2203), left_child=Relation(relation_type='Elaboration', left=Segment(type='N', start=809, end=911), right=Segment(type='S', start=911, end=984), left_child=Relation(relation_type='Contrast', left=Segment(type='N', start=809, end=865), right=Segment(type='S', start=865, end=911), left_child=Relation(relation_type='Attribution', left=Segment(type='S', start=809, end=841), right=Segment(type='N', start=841, end=865), left_child=None, right_child=None), right_child=None), right_child=Relation(relation_type='Attribution', left=Segment(type='S', start=911, end=933), right=Segment(type='N', start=933, end=984), left_child=None, right_child=Relation(relation_type='Background', left=Segment(type='N', start=933, end=967), right=Segment(type='S', start=967, end=984), left_child=None, right_child=None))), right_child=Relation(relation_type='Background', left=Segment(type='N', start=984, end=1065), right=Segment(type='S', start=1065, end=2203), left_child=Relation(relation_type='Attribution', left=Segment(type='S', start=984, end=1023), right=Segment(type='N', start=1023, end=1065), left_child=None, right_child=None), right_child=Relation(relation_type='Elaboration', left=Segment(type='N', start=1065, end=1221), right=Segment(type='S', start=1221, end=2203), left_child=Relation(relation_type='Background', left=Segment(type='S', start=1065, end=1106), right=Segment(type='N', start=1106, end=1221), left_child=None, right_child=Relation(relation_type='Joint', left=Segment(type='N', start=1106, end=1153), right=Segment(type='N', start=1153, end=1221), left_child=None, right_child=Relation(relation_type='Manner-Means', left=Segment(type='N', start=1153, end=1201), right=Segment(type='S', start=1201, end=1221), left_child=None, right_child=None))), right_child=Relation(relation_type='Topic-Comment', left=Segment(type='N', start=1221, end=1297), right=Segment(type='N', start=1297, end=2203), left_child=Relation(relation_type='Attribution', left=Segment(type='S', start=1221, end=1234), right=Segment(type='N', start=1234, end=1297), left_child=None, right_child=None), right_child=Relation(relation_type='Elaboration', left=Segment(type='N', start=1297, end=1402), right=Segment(type='S', start=1402, end=2203), left_child=Relation(relation_type='Background', left=Segment(type='S', start=1297, end=1314), right=Segment(type='N', start=1314, end=1402), left_child=None, right_child=Relation(relation_type='Attribution', left=Segment(type='S', start=1314, end=1343), right=Segment(type='N', start=1343, end=1402), left_child=None, right_child=None)), right_child=Relation(relation_type='Elaboration', left=Segment(type='N', start=1402, end=1524), right=Segment(type='S', start=1524, end=2203), left_child=Relation(relation_type='Enablement', left=Segment(type='N', start=1402, end=1473), right=Segment(type='S', start=1473, end=1524), left_child=None, right_child=None), right_child=Relation(relation_type='Elaboration', left=Segment(type='N', start=1524, end=1701), right=Segment(type='S', start=1701, end=2203), left_child=Relation(relation_type='Elaboration', left=Segment(type='N', start=1524, end=1556), right=Segment(type='S', start=1556, end=1701), left_child=None, right_child=Relation(relation_type='Joint', left=Segment(type='N', start=1556, end=1649), right=Segment(type='N', start=1649, end=1701), left_child=Relation(relation_type='same-unit', left=Segment(type='N', start=1556, end=1596), right=Segment(type='N', start=1596, end=1649), left_child=Relation(relation_type='Elaboration', left=Segment(type='N', start=1556, end=1570), right=Segment(type='S', start=1570, end=1596), left_child=None, right_child=None), right_child=None), right_child=None)), right_child=Relation(relation_type='Elaboration', left=Segment(type='N', start=1701, end=1857), right=Segment(type='S', start=1857, end=2203), left_child=Relation(relation_type='Attribution', left=Segment(type='S', start=1701, end=1730), right=Segment(type='N', start=1730, end=1857), left_child=None, right_child=Relation(relation_type='Background', left=Segment(type='N', start=1730, end=1784), right=Segment(type='S', start=1784, end=1857), left_child=None, right_child=Relation(relation_type='Background', left=Segment(type='N', start=1784, end=1818), right=Segment(type='S', start=1818, end=1857), left_child=None, right_child=None))), right_child=Relation(relation_type='Elaboration', left=Segment(type='N', start=1857, end=2026), right=Segment(type='S', start=2026, end=2203), left_child=Relation(relation_type='same-unit', left=Segment(type='N', start=1857, end=1868), right=Segment(type='N', start=1868, end=2026), left_child=None, right_child=Relation(relation_type='Elaboration', left=Segment(type='N', start=1868, end=1903), right=Segment(type='S', start=1903, end=2026), left_child=None, right_child=Relation(relation_type='Elaboration', left=Segment(type='N', start=1903, end=1972), right=Segment(type='S', start=1972, end=2026), left_child=None, right_child=None))), right_child=Relation(relation_type='Joint', left=Segment(type='N', start=2026, end=2117), right=Segment(type='N', start=2117, end=2203), left_child=Relation(relation_type='Background', left=Segment(type='S', start=2026, end=2069), right=Segment(type='N', start=2069, end=2117), left_child=None, right_child=None), right_child=None)))))))))))))], 'Elaboration': [Relation(relation_type='Elaboration', left=Segment(type='N', start=126, end=133), right=Segment(type='S', start=133, end=172), left_child=None, right_child=None), Relation(relation_type='Elaboration', left=Segment(type='N', start=194, end=240), right=Segment(type='S', start=240, end=290), left_child=None, right_child=None), Relation(relation_type='Elaboration', left=Segment(type='N', start=290, end=329), right=Segment(type='S', start=329, end=395), left_child=None, right_child=None), Relation(relation_type='Elaboration', left=Segment(type='N', start=103, end=290), right=Segment(type='S', start=290, end=395), left_child=Relation(relation_type='Attribution', left=Segment(type='S', start=103, end=126), right=Segment(type='N', start=126, end=290), left_child=None, right_child=Relation(relation_type='Joint', left=Segment(type='N', start=126, end=185), right=Segment(type='N', start=185, end=290), left_child=Relation(relation_type='same-unit', left=Segment(type='N', start=126, end=172), right=Segment(type='N', start=172, end=185), left_child=Relation(relation_type='Elaboration', left=Segment(type='N', start=126, end=133), right=Segment(type='S', start=133, end=172), left_child=None, right_child=None), right_child=None), right_child=Relation(relation_type='Attribution', left=Segment(type='S', start=185, end=194), right=Segment(type='N', start=194, end=290), left_child=None, right_child=Relation(relation_type='Elaboration', left=Segment(type='N', start=194, end=240), right=Segment(type='S', start=240, end=290), left_child=None, right_child=None)))), right_child=Relation(relation_type='Elaboration', left=Segment(type='N', start=290, end=329), right=Segment(type='S', start=329, end=395), left_child=None, right_child=None)), Relation(relation_type='Elaboration', left=Segment(type='N', start=0, end=103), right=Segment(type='S', start=103, end=395), left_child=Relation(relation_type='Contrast', left=Segment(type='S', start=0, end=53), right=Segment(type='N', start=53, end=103), left_child=Relation(relation_type='Attribution', left=Segment(type='S', start=0, end=16), right=Segment(type='N', start=16, end=53), left_child=None, right_child=None), right_child=Relation(relation_type='Attribution', left=Segment(type='S', start=53, end=70), right=Segment(type='N', start=70, end=103), left_child=Relation(relation_type='Attribution', left=Segment(type='S', start=53, end=61), right=Segment(type='N', start=61, end=70), left_child=None, right_child=None), right_child=None)), right_child=Relation(relation_type='Elaboration', left=Segment(type='N', start=103, end=290), right=Segment(type='S', start=290, end=395), left_child=Relation(relation_type='Attribution', left=Segment(type='S', start=103, end=126), right=Segment(type='N', start=126, end=290), left_child=None, right_child=Relation(relation_type='Joint', left=Segment(type='N', start=126, end=185), right=Segment(type='N', start=185, end=290), left_child=Relation(relation_type='same-unit', left=Segment(type='N', start=126, end=172), right=Segment(type='N', start=172, end=185), left_child=Relation(relation_type='Elaboration', left=Segment(type='N', start=126, end=133), right=Segment(type='S', start=133, end=172), left_child=None, right_child=None), right_child=None), right_child=Relation(relation_type='Attribution', left=Segment(type='S', start=185, end=194), right=Segment(type='N', start=194, end=290), left_child=None, right_child=Relation(relation_type='Elaboration', left=Segment(type='N', start=194, end=240), right=Segment(type='S', start=240, end=290), left_child=None, right_child=None)))), right_child=Relation(relation_type='Elaboration', left=Segment(type='N', start=290, end=329), right=Segment(type='S', start=329, end=395), left_child=None, right_child=None))), Relation(relation_type='Elaboration', left=Segment(type='N', start=526, end=573), right=Segment(type='S', start=573, end=627), left_child=None, right_child=Relation(relation_type='Joint', left=Segment(type='N', start=573, end=593), right=Segment(type='N', start=593, end=627), left_child=None, right_child=None)), Relation(relation_type='Elaboration', left=Segment(type='N', start=482, end=526), right=Segment(type='S', start=526, end=627), left_child=None, right_child=Relation(relation_type='Elaboration', left=Segment(type='N', start=526, end=573), right=Segment(type='S', start=573, end=627), left_child=None, right_child=Relation(relation_type='Joint', left=Segment(type='N', start=573, end=593), right=Segment(type='N', start=593, end=627), left_child=None, right_child=None))), Relation(relation_type='Elaboration', left=Segment(type='N', start=758, end=779), right=Segment(type='S', start=779, end=809), left_child=None, right_child=None), Relation(relation_type='Elaboration', left=Segment(type='N', start=809, end=911), right=Segment(type='S', start=911, end=984), left_child=Relation(relation_type='Contrast', left=Segment(type='N', start=809, end=865), right=Segment(type='S', start=865, end=911), left_child=Relation(relation_type='Attribution', left=Segment(type='S', start=809, end=841), right=Segment(type='N', start=841, end=865), left_child=None, right_child=None), right_child=None), right_child=Relation(relation_type='Attribution', left=Segment(type='S', start=911, end=933), right=Segment(type='N', start=933, end=984), left_child=None, right_child=Relation(relation_type='Background', left=Segment(type='N', start=933, end=967), right=Segment(type='S', start=967, end=984), left_child=None, right_child=None))), Relation(relation_type='Elaboration', left=Segment(type='N', start=1556, end=1570), right=Segment(type='S', start=1570, end=1596), left_child=None, right_child=None), Relation(relation_type='Elaboration', left=Segment(type='N', start=1524, end=1556), right=Segment(type='S', start=1556, end=1701), left_child=None, right_child=Relation(relation_type='Joint', left=Segment(type='N', start=1556, end=1649), right=Segment(type='N', start=1649, end=1701), left_child=Relation(relation_type='same-unit', left=Segment(type='N', start=1556, end=1596), right=Segment(type='N', start=1596, end=1649), left_child=Relation(relation_type='Elaboration', left=Segment(type='N', start=1556, end=1570), right=Segment(type='S', start=1570, end=1596), left_child=None, right_child=None), right_child=None), right_child=None)), Relation(relation_type='Elaboration', left=Segment(type='N', start=1903, end=1972), right=Segment(type='S', start=1972, end=2026), left_child=None, right_child=None), Relation(relation_type='Elaboration', left=Segment(type='N', start=1868, end=1903), right=Segment(type='S', start=1903, end=2026), left_child=None, right_child=Relation(relation_type='Elaboration', left=Segment(type='N', start=1903, end=1972), right=Segment(type='S', start=1972, end=2026), left_child=None, right_child=None)), Relation(relation_type='Elaboration', left=Segment(type='N', start=1857, end=2026), right=Segment(type='S', start=2026, end=2203), left_child=Relation(relation_type='same-unit', left=Segment(type='N', start=1857, end=1868), right=Segment(type='N', start=1868, end=2026), left_child=None, right_child=Relation(relation_type='Elaboration', left=Segment(type='N', start=1868, end=1903), right=Segment(type='S', start=1903, end=2026), left_child=None, right_child=Relation(relation_type='Elaboration', left=Segment(type='N', start=1903, end=1972), right=Segment(type='S', start=1972, end=2026), left_child=None, right_child=None))), right_child=Relation(relation_type='Joint', left=Segment(type='N', start=2026, end=2117), right=Segment(type='N', start=2117, end=2203), left_child=Relation(relation_type='Background', left=Segment(type='S', start=2026, end=2069), right=Segment(type='N', start=2069, end=2117), left_child=None, right_child=None), right_child=None)), Relation(relation_type='Elaboration', left=Segment(type='N', start=1701, end=1857), right=Segment(type='S', start=1857, end=2203), left_child=Relation(relation_type='Attribution', left=Segment(type='S', start=1701, end=1730), right=Segment(type='N', start=1730, end=1857), left_child=None, right_child=Relation(relation_type='Background', left=Segment(type='N', start=1730, end=1784), right=Segment(type='S', start=1784, end=1857), left_child=None, right_child=Relation(relation_type='Background', left=Segment(type='N', start=1784, end=1818), right=Segment(type='S', start=1818, end=1857), left_child=None, right_child=None))), right_child=Relation(relation_type='Elaboration', left=Segment(type='N', start=1857, end=2026), right=Segment(type='S', start=2026, end=2203), left_child=Relation(relation_type='same-unit', left=Segment(type='N', start=1857, end=1868), right=Segment(type='N', start=1868, end=2026), left_child=None, right_child=Relation(relation_type='Elaboration', left=Segment(type='N', start=1868, end=1903), right=Segment(type='S', start=1903, end=2026), left_child=None, right_child=Relation(relation_type='Elaboration', left=Segment(type='N', start=1903, end=1972), right=Segment(type='S', start=1972, end=2026), left_child=None, right_child=None))), right_child=Relation(relation_type='Joint', left=Segment(type='N', start=2026, end=2117), right=Segment(type='N', start=2117, end=2203), left_child=Relation(relation_type='Background', left=Segment(type='S', start=2026, end=2069), right=Segment(type='N', start=2069, end=2117), left_child=None, right_child=None), right_child=None))), Relation(relation_type='Elaboration', left=Segment(type='N', start=1524, end=1701), right=Segment(type='S', start=1701, end=2203), left_child=Relation(relation_type='Elaboration', left=Segment(type='N', start=1524, end=1556), right=Segment(type='S', start=1556, end=1701), left_child=None, right_child=Relation(relation_type='Joint', left=Segment(type='N', start=1556, end=1649), right=Segment(type='N', start=1649, end=1701), left_child=Relation(relation_type='same-unit', left=Segment(type='N', start=1556, end=1596), right=Segment(type='N', start=1596, end=1649), left_child=Relation(relation_type='Elaboration', left=Segment(type='N', start=1556, end=1570), right=Segment(type='S', start=1570, end=1596), left_child=None, right_child=None), right_child=None), right_child=None)), right_child=Relation(relation_type='Elaboration', left=Segment(type='N', start=1701, end=1857), right=Segment(type='S', start=1857, end=2203), left_child=Relation(relation_type='Attribution', left=Segment(type='S', start=1701, end=1730), right=Segment(type='N', start=1730, end=1857), left_child=None, right_child=Relation(relation_type='Background', left=Segment(type='N', start=1730, end=1784), right=Segment(type='S', start=1784, end=1857), left_child=None, right_child=Relation(relation_type='Background', left=Segment(type='N', start=1784, end=1818), right=Segment(type='S', start=1818, end=1857), left_child=None, right_child=None))), right_child=Relation(relation_type='Elaboration', left=Segment(type='N', start=1857, end=2026), right=Segment(type='S', start=2026, end=2203), left_child=Relation(relation_type='same-unit', left=Segment(type='N', start=1857, end=1868), right=Segment(type='N', start=1868, end=2026), left_child=None, right_child=Relation(relation_type='Elaboration', left=Segment(type='N', start=1868, end=1903), right=Segment(type='S', start=1903, end=2026), left_child=None, right_child=Relation(relation_type='Elaboration', left=Segment(type='N', start=1903, end=1972), right=Segment(type='S', start=1972, end=2026), left_child=None, right_child=None))), right_child=Relation(relation_type='Joint', left=Segment(type='N', start=2026, end=2117), right=Segment(type='N', start=2117, end=2203), left_child=Relation(relation_type='Background', left=Segment(type='S', start=2026, end=2069), right=Segment(type='N', start=2069, end=2117), left_child=None, right_child=None), right_child=None)))), Relation(relation_type='Elaboration', left=Segment(type='N', start=1402, end=1524), right=Segment(type='S', start=1524, end=2203), left_child=Relation(relation_type='Enablement', left=Segment(type='N', start=1402, end=1473), right=Segment(type='S', start=1473, end=1524), left_child=None, right_child=None), right_child=Relation(relation_type='Elaboration', left=Segment(type='N', start=1524, end=1701), right=Segment(type='S', start=1701, end=2203), left_child=Relation(relation_type='Elaboration', left=Segment(type='N', start=1524, end=1556), right=Segment(type='S', start=1556, end=1701), left_child=None, right_child=Relation(relation_type='Joint', left=Segment(type='N', start=1556, end=1649), right=Segment(type='N', start=1649, end=1701), left_child=Relation(relation_type='same-unit', left=Segment(type='N', start=1556, end=1596), right=Segment(type='N', start=1596, end=1649), left_child=Relation(relation_type='Elaboration', left=Segment(type='N', start=1556, end=1570), right=Segment(type='S', start=1570, end=1596), left_child=None, right_child=None), right_child=None), right_child=None)), right_child=Relation(relation_type='Elaboration', left=Segment(type='N', start=1701, end=1857), right=Segment(type='S', start=1857, end=2203), left_child=Relation(relation_type='Attribution', left=Segment(type='S', start=1701, end=1730), right=Segment(type='N', start=1730, end=1857), left_child=None, right_child=Relation(relation_type='Background', left=Segment(type='N', start=1730, end=1784), right=Segment(type='S', start=1784, end=1857), left_child=None, right_child=Relation(relation_type='Background', left=Segment(type='N', start=1784, end=1818), right=Segment(type='S', start=1818, end=1857), left_child=None, right_child=None))), right_child=Relation(relation_type='Elaboration', left=Segment(type='N', start=1857, end=2026), right=Segment(type='S', start=2026, end=2203), left_child=Relation(relation_type='same-unit', left=Segment(type='N', start=1857, end=1868), right=Segment(type='N', start=1868, end=2026), left_child=None, right_child=Relation(relation_type='Elaboration', left=Segment(type='N', start=1868, end=1903), right=Segment(type='S', start=1903, end=2026), left_child=None, right_child=Relation(relation_type='Elaboration', left=Segment(type='N', start=1903, end=1972), right=Segment(type='S', start=1972, end=2026), left_child=None, right_child=None))), right_child=Relation(relation_type='Joint', left=Segment(type='N', start=2026, end=2117), right=Segment(type='N', start=2117, end=2203), left_child=Relation(relation_type='Background', left=Segment(type='S', start=2026, end=2069), right=Segment(type='N', start=2069, end=2117), left_child=None, right_child=None), right_child=None))))), Relation(relation_type='Elaboration', left=Segment(type='N', start=1297, end=1402), right=Segment(type='S', start=1402, end=2203), left_child=Relation(relation_type='Background', left=Segment(type='S', start=1297, end=1314), right=Segment(type='N', start=1314, end=1402), left_child=None, right_child=Relation(relation_type='Attribution', left=Segment(type='S', start=1314, end=1343), right=Segment(type='N', start=1343, end=1402), left_child=None, right_child=None)), right_child=Relation(relation_type='Elaboration', left=Segment(type='N', start=1402, end=1524), right=Segment(type='S', start=1524, end=2203), left_child=Relation(relation_type='Enablement', left=Segment(type='N', start=1402, end=1473), right=Segment(type='S', start=1473, end=1524), left_child=None, right_child=None), right_child=Relation(relation_type='Elaboration', left=Segment(type='N', start=1524, end=1701), right=Segment(type='S', start=1701, end=2203), left_child=Relation(relation_type='Elaboration', left=Segment(type='N', start=1524, end=1556), right=Segment(type='S', start=1556, end=1701), left_child=None, right_child=Relation(relation_type='Joint', left=Segment(type='N', start=1556, end=1649), right=Segment(type='N', start=1649, end=1701), left_child=Relation(relation_type='same-unit', left=Segment(type='N', start=1556, end=1596), right=Segment(type='N', start=1596, end=1649), left_child=Relation(relation_type='Elaboration', left=Segment(type='N', start=1556, end=1570), right=Segment(type='S', start=1570, end=1596), left_child=None, right_child=None), right_child=None), right_child=None)), right_child=Relation(relation_type='Elaboration', left=Segment(type='N', start=1701, end=1857), right=Segment(type='S', start=1857, end=2203), left_child=Relation(relation_type='Attribution', left=Segment(type='S', start=1701, end=1730), right=Segment(type='N', start=1730, end=1857), left_child=None, right_child=Relation(relation_type='Background', left=Segment(type='N', start=1730, end=1784), right=Segment(type='S', start=1784, end=1857), left_child=None, right_child=Relation(relation_type='Background', left=Segment(type='N', start=1784, end=1818), right=Segment(type='S', start=1818, end=1857), left_child=None, right_child=None))), right_child=Relation(relation_type='Elaboration', left=Segment(type='N', start=1857, end=2026), right=Segment(type='S', start=2026, end=2203), left_child=Relation(relation_type='same-unit', left=Segment(type='N', start=1857, end=1868), right=Segment(type='N', start=1868, end=2026), left_child=None, right_child=Relation(relation_type='Elaboration', left=Segment(type='N', start=1868, end=1903), right=Segment(type='S', start=1903, end=2026), left_child=None, right_child=Relation(relation_type='Elaboration', left=Segment(type='N', start=1903, end=1972), right=Segment(type='S', start=1972, end=2026), left_child=None, right_child=None))), right_child=Relation(relation_type='Joint', left=Segment(type='N', start=2026, end=2117), right=Segment(type='N', start=2117, end=2203), left_child=Relation(relation_type='Background', left=Segment(type='S', start=2026, end=2069), right=Segment(type='N', start=2069, end=2117), left_child=None, right_child=None), right_child=None)))))), Relation(relation_type='Elaboration', left=Segment(type='N', start=1065, end=1221), right=Segment(type='S', start=1221, end=2203), left_child=Relation(relation_type='Background', left=Segment(type='S', start=1065, end=1106), right=Segment(type='N', start=1106, end=1221), left_child=None, right_child=Relation(relation_type='Joint', left=Segment(type='N', start=1106, end=1153), right=Segment(type='N', start=1153, end=1221), left_child=None, right_child=Relation(relation_type='Manner-Means', left=Segment(type='N', start=1153, end=1201), right=Segment(type='S', start=1201, end=1221), left_child=None, right_child=None))), right_child=Relation(relation_type='Topic-Comment', left=Segment(type='N', start=1221, end=1297), right=Segment(type='N', start=1297, end=2203), left_child=Relation(relation_type='Attribution', left=Segment(type='S', start=1221, end=1234), right=Segment(type='N', start=1234, end=1297), left_child=None, right_child=None), right_child=Relation(relation_type='Elaboration', left=Segment(type='N', start=1297, end=1402), right=Segment(type='S', start=1402, end=2203), left_child=Relation(relation_type='Background', left=Segment(type='S', start=1297, end=1314), right=Segment(type='N', start=1314, end=1402), left_child=None, right_child=Relation(relation_type='Attribution', left=Segment(type='S', start=1314, end=1343), right=Segment(type='N', start=1343, end=1402), left_child=None, right_child=None)), right_child=Relation(relation_type='Elaboration', left=Segment(type='N', start=1402, end=1524), right=Segment(type='S', start=1524, end=2203), left_child=Relation(relation_type='Enablement', left=Segment(type='N', start=1402, end=1473), right=Segment(type='S', start=1473, end=1524), left_child=None, right_child=None), right_child=Relation(relation_type='Elaboration', left=Segment(type='N', start=1524, end=1701), right=Segment(type='S', start=1701, end=2203), left_child=Relation(relation_type='Elaboration', left=Segment(type='N', start=1524, end=1556), right=Segment(type='S', start=1556, end=1701), left_child=None, right_child=Relation(relation_type='Joint', left=Segment(type='N', start=1556, end=1649), right=Segment(type='N', start=1649, end=1701), left_child=Relation(relation_type='same-unit', left=Segment(type='N', start=1556, end=1596), right=Segment(type='N', start=1596, end=1649), left_child=Relation(relation_type='Elaboration', left=Segment(type='N', start=1556, end=1570), right=Segment(type='S', start=1570, end=1596), left_child=None, right_child=None), right_child=None), right_child=None)), right_child=Relation(relation_type='Elaboration', left=Segment(type='N', start=1701, end=1857), right=Segment(type='S', start=1857, end=2203), left_child=Relation(relation_type='Attribution', left=Segment(type='S', start=1701, end=1730), right=Segment(type='N', start=1730, end=1857), left_child=None, right_child=Relation(relation_type='Background', left=Segment(type='N', start=1730, end=1784), right=Segment(type='S', start=1784, end=1857), left_child=None, right_child=Relation(relation_type='Background', left=Segment(type='N', start=1784, end=1818), right=Segment(type='S', start=1818, end=1857), left_child=None, right_child=None))), right_child=Relation(relation_type='Elaboration', left=Segment(type='N', start=1857, end=2026), right=Segment(type='S', start=2026, end=2203), left_child=Relation(relation_type='same-unit', left=Segment(type='N', start=1857, end=1868), right=Segment(type='N', start=1868, end=2026), left_child=None, right_child=Relation(relation_type='Elaboration', left=Segment(type='N', start=1868, end=1903), right=Segment(type='S', start=1903, end=2026), left_child=None, right_child=Relation(relation_type='Elaboration', left=Segment(type='N', start=1903, end=1972), right=Segment(type='S', start=1972, end=2026), left_child=None, right_child=None))), right_child=Relation(relation_type='Joint', left=Segment(type='N', start=2026, end=2117), right=Segment(type='N', start=2117, end=2203), left_child=Relation(relation_type='Background', left=Segment(type='S', start=2026, end=2069), right=Segment(type='N', start=2069, end=2117), left_child=None, right_child=None), right_child=None)))))))), Relation(relation_type='Elaboration', left=Segment(type='N', start=809, end=984), right=Segment(type='S', start=984, end=2203), left_child=Relation(relation_type='Elaboration', left=Segment(type='N', start=809, end=911), right=Segment(type='S', start=911, end=984), left_child=Relation(relation_type='Contrast', left=Segment(type='N', start=809, end=865), right=Segment(type='S', start=865, end=911), left_child=Relation(relation_type='Attribution', left=Segment(type='S', start=809, end=841), right=Segment(type='N', start=841, end=865), left_child=None, right_child=None), right_child=None), right_child=Relation(relation_type='Attribution', left=Segment(type='S', start=911, end=933), right=Segment(type='N', start=933, end=984), left_child=None, right_child=Relation(relation_type='Background', left=Segment(type='N', start=933, end=967), right=Segment(type='S', start=967, end=984), left_child=None, right_child=None))), right_child=Relation(relation_type='Background', left=Segment(type='N', start=984, end=1065), right=Segment(type='S', start=1065, end=2203), left_child=Relation(relation_type='Attribution', left=Segment(type='S', start=984, end=1023), right=Segment(type='N', start=1023, end=1065), left_child=None, right_child=None), right_child=Relation(relation_type='Elaboration', left=Segment(type='N', start=1065, end=1221), right=Segment(type='S', start=1221, end=2203), left_child=Relation(relation_type='Background', left=Segment(type='S', start=1065, end=1106), right=Segment(type='N', start=1106, end=1221), left_child=None, right_child=Relation(relation_type='Joint', left=Segment(type='N', start=1106, end=1153), right=Segment(type='N', start=1153, end=1221), left_child=None, right_child=Relation(relation_type='Manner-Means', left=Segment(type='N', start=1153, end=1201), right=Segment(type='S', start=1201, end=1221), left_child=None, right_child=None))), right_child=Relation(relation_type='Topic-Comment', left=Segment(type='N', start=1221, end=1297), right=Segment(type='N', start=1297, end=2203), left_child=Relation(relation_type='Attribution', left=Segment(type='S', start=1221, end=1234), right=Segment(type='N', start=1234, end=1297), left_child=None, right_child=None), right_child=Relation(relation_type='Elaboration', left=Segment(type='N', start=1297, end=1402), right=Segment(type='S', start=1402, end=2203), left_child=Relation(relation_type='Background', left=Segment(type='S', start=1297, end=1314), right=Segment(type='N', start=1314, end=1402), left_child=None, right_child=Relation(relation_type='Attribution', left=Segment(type='S', start=1314, end=1343), right=Segment(type='N', start=1343, end=1402), left_child=None, right_child=None)), right_child=Relation(relation_type='Elaboration', left=Segment(type='N', start=1402, end=1524), right=Segment(type='S', start=1524, end=2203), left_child=Relation(relation_type='Enablement', left=Segment(type='N', start=1402, end=1473), right=Segment(type='S', start=1473, end=1524), left_child=None, right_child=None), right_child=Relation(relation_type='Elaboration', left=Segment(type='N', start=1524, end=1701), right=Segment(type='S', start=1701, end=2203), left_child=Relation(relation_type='Elaboration', left=Segment(type='N', start=1524, end=1556), right=Segment(type='S', start=1556, end=1701), left_child=None, right_child=Relation(relation_type='Joint', left=Segment(type='N', start=1556, end=1649), right=Segment(type='N', start=1649, end=1701), left_child=Relation(relation_type='same-unit', left=Segment(type='N', start=1556, end=1596), right=Segment(type='N', start=1596, end=1649), left_child=Relation(relation_type='Elaboration', left=Segment(type='N', start=1556, end=1570), right=Segment(type='S', start=1570, end=1596), left_child=None, right_child=None), right_child=None), right_child=None)), right_child=Relation(relation_type='Elaboration', left=Segment(type='N', start=1701, end=1857), right=Segment(type='S', start=1857, end=2203), left_child=Relation(relation_type='Attribution', left=Segment(type='S', start=1701, end=1730), right=Segment(type='N', start=1730, end=1857), left_child=None, right_child=Relation(relation_type='Background', left=Segment(type='N', start=1730, end=1784), right=Segment(type='S', start=1784, end=1857), left_child=None, right_child=Relation(relation_type='Background', left=Segment(type='N', start=1784, end=1818), right=Segment(type='S', start=1818, end=1857), left_child=None, right_child=None))), right_child=Relation(relation_type='Elaboration', left=Segment(type='N', start=1857, end=2026), right=Segment(type='S', start=2026, end=2203), left_child=Relation(relation_type='same-unit', left=Segment(type='N', start=1857, end=1868), right=Segment(type='N', start=1868, end=2026), left_child=None, right_child=Relation(relation_type='Elaboration', left=Segment(type='N', start=1868, end=1903), right=Segment(type='S', start=1903, end=2026), left_child=None, right_child=Relation(relation_type='Elaboration', left=Segment(type='N', start=1903, end=1972), right=Segment(type='S', start=1972, end=2026), left_child=None, right_child=None))), right_child=Relation(relation_type='Joint', left=Segment(type='N', start=2026, end=2117), right=Segment(type='N', start=2117, end=2203), left_child=Relation(relation_type='Background', left=Segment(type='S', start=2026, end=2069), right=Segment(type='N', start=2069, end=2117), left_child=None, right_child=None), right_child=None)))))))))), Relation(relation_type='Elaboration', left=Segment(type='N', start=472, end=627), right=Segment(type='S', start=627, end=2203), left_child=Relation(relation_type='same-unit', left=Segment(type='N', start=472, end=482), right=Segment(type='N', start=482, end=627), left_child=None, right_child=Relation(relation_type='Elaboration', left=Segment(type='N', start=482, end=526), right=Segment(type='S', start=526, end=627), left_child=None, right_child=Relation(relation_type='Elaboration', left=Segment(type='N', start=526, end=573), right=Segment(type='S', start=573, end=627), left_child=None, right_child=Relation(relation_type='Joint', left=Segment(type='N', start=573, end=593), right=Segment(type='N', start=593, end=627), left_child=None, right_child=None)))), right_child=Relation(relation_type='Background', left=Segment(type='N', start=627, end=809), right=Segment(type='S', start=809, end=2203), left_child=Relation(relation_type='Attribution', left=Segment(type='S', start=627, end=697), right=Segment(type='N', start=697, end=809), left_child=None, right_child=Relation(relation_type='Joint', left=Segment(type='N', start=697, end=758), right=Segment(type='N', start=758, end=809), left_child=None, right_child=Relation(relation_type='Elaboration', left=Segment(type='N', start=758, end=779), right=Segment(type='S', start=779, end=809), left_child=None, right_child=None))), right_child=Relation(relation_type='Elaboration', left=Segment(type='N', start=809, end=984), right=Segment(type='S', start=984, end=2203), left_child=Relation(relation_type='Elaboration', left=Segment(type='N', start=809, end=911), right=Segment(type='S', start=911, end=984), left_child=Relation(relation_type='Contrast', left=Segment(type='N', start=809, end=865), right=Segment(type='S', start=865, end=911), left_child=Relation(relation_type='Attribution', left=Segment(type='S', start=809, end=841), right=Segment(type='N', start=841, end=865), left_child=None, right_child=None), right_child=None), right_child=Relation(relation_type='Attribution', left=Segment(type='S', start=911, end=933), right=Segment(type='N', start=933, end=984), left_child=None, right_child=Relation(relation_type='Background', left=Segment(type='N', start=933, end=967), right=Segment(type='S', start=967, end=984), left_child=None, right_child=None))), right_child=Relation(relation_type='Background', left=Segment(type='N', start=984, end=1065), right=Segment(type='S', start=1065, end=2203), left_child=Relation(relation_type='Attribution', left=Segment(type='S', start=984, end=1023), right=Segment(type='N', start=1023, end=1065), left_child=None, right_child=None), right_child=Relation(relation_type='Elaboration', left=Segment(type='N', start=1065, end=1221), right=Segment(type='S', start=1221, end=2203), left_child=Relation(relation_type='Background', left=Segment(type='S', start=1065, end=1106), right=Segment(type='N', start=1106, end=1221), left_child=None, right_child=Relation(relation_type='Joint', left=Segment(type='N', start=1106, end=1153), right=Segment(type='N', start=1153, end=1221), left_child=None, right_child=Relation(relation_type='Manner-Means', left=Segment(type='N', start=1153, end=1201), right=Segment(type='S', start=1201, end=1221), left_child=None, right_child=None))), right_child=Relation(relation_type='Topic-Comment', left=Segment(type='N', start=1221, end=1297), right=Segment(type='N', start=1297, end=2203), left_child=Relation(relation_type='Attribution', left=Segment(type='S', start=1221, end=1234), right=Segment(type='N', start=1234, end=1297), left_child=None, right_child=None), right_child=Relation(relation_type='Elaboration', left=Segment(type='N', start=1297, end=1402), right=Segment(type='S', start=1402, end=2203), left_child=Relation(relation_type='Background', left=Segment(type='S', start=1297, end=1314), right=Segment(type='N', start=1314, end=1402), left_child=None, right_child=Relation(relation_type='Attribution', left=Segment(type='S', start=1314, end=1343), right=Segment(type='N', start=1343, end=1402), left_child=None, right_child=None)), right_child=Relation(relation_type='Elaboration', left=Segment(type='N', start=1402, end=1524), right=Segment(type='S', start=1524, end=2203), left_child=Relation(relation_type='Enablement', left=Segment(type='N', start=1402, end=1473), right=Segment(type='S', start=1473, end=1524), left_child=None, right_child=None), right_child=Relation(relation_type='Elaboration', left=Segment(type='N', start=1524, end=1701), right=Segment(type='S', start=1701, end=2203), left_child=Relation(relation_type='Elaboration', left=Segment(type='N', start=1524, end=1556), right=Segment(type='S', start=1556, end=1701), left_child=None, right_child=Relation(relation_type='Joint', left=Segment(type='N', start=1556, end=1649), right=Segment(type='N', start=1649, end=1701), left_child=Relation(relation_type='same-unit', left=Segment(type='N', start=1556, end=1596), right=Segment(type='N', start=1596, end=1649), left_child=Relation(relation_type='Elaboration', left=Segment(type='N', start=1556, end=1570), right=Segment(type='S', start=1570, end=1596), left_child=None, right_child=None), right_child=None), right_child=None)), right_child=Relation(relation_type='Elaboration', left=Segment(type='N', start=1701, end=1857), right=Segment(type='S', start=1857, end=2203), left_child=Relation(relation_type='Attribution', left=Segment(type='S', start=1701, end=1730), right=Segment(type='N', start=1730, end=1857), left_child=None, right_child=Relation(relation_type='Background', left=Segment(type='N', start=1730, end=1784), right=Segment(type='S', start=1784, end=1857), left_child=None, right_child=Relation(relation_type='Background', left=Segment(type='N', start=1784, end=1818), right=Segment(type='S', start=1818, end=1857), left_child=None, right_child=None))), right_child=Relation(relation_type='Elaboration', left=Segment(type='N', start=1857, end=2026), right=Segment(type='S', start=2026, end=2203), left_child=Relation(relation_type='same-unit', left=Segment(type='N', start=1857, end=1868), right=Segment(type='N', start=1868, end=2026), left_child=None, right_child=Relation(relation_type='Elaboration', left=Segment(type='N', start=1868, end=1903), right=Segment(type='S', start=1903, end=2026), left_child=None, right_child=Relation(relation_type='Elaboration', left=Segment(type='N', start=1903, end=1972), right=Segment(type='S', start=1972, end=2026), left_child=None, right_child=None))), right_child=Relation(relation_type='Joint', left=Segment(type='N', start=2026, end=2117), right=Segment(type='N', start=2117, end=2203), left_child=Relation(relation_type='Background', left=Segment(type='S', start=2026, end=2069), right=Segment(type='N', start=2069, end=2117), left_child=None, right_child=None), right_child=None)))))))))))), Relation(relation_type='Elaboration', left=Segment(type='N', start=0, end=395), right=Segment(type='S', start=395, end=2203), left_child=Relation(relation_type='Elaboration', left=Segment(type='N', start=0, end=103), right=Segment(type='S', start=103, end=395), left_child=Relation(relation_type='Contrast', left=Segment(type='S', start=0, end=53), right=Segment(type='N', start=53, end=103), left_child=Relation(relation_type='Attribution', left=Segment(type='S', start=0, end=16), right=Segment(type='N', start=16, end=53), left_child=None, right_child=None), right_child=Relation(relation_type='Attribution', left=Segment(type='S', start=53, end=70), right=Segment(type='N', start=70, end=103), left_child=Relation(relation_type='Attribution', left=Segment(type='S', start=53, end=61), right=Segment(type='N', start=61, end=70), left_child=None, right_child=None), right_child=None)), right_child=Relation(relation_type='Elaboration', left=Segment(type='N', start=103, end=290), right=Segment(type='S', start=290, end=395), left_child=Relation(relation_type='Attribution', left=Segment(type='S', start=103, end=126), right=Segment(type='N', start=126, end=290), left_child=None, right_child=Relation(relation_type='Joint', left=Segment(type='N', start=126, end=185), right=Segment(type='N', start=185, end=290), left_child=Relation(relation_type='same-unit', left=Segment(type='N', start=126, end=172), right=Segment(type='N', start=172, end=185), left_child=Relation(relation_type='Elaboration', left=Segment(type='N', start=126, end=133), right=Segment(type='S', start=133, end=172), left_child=None, right_child=None), right_child=None), right_child=Relation(relation_type='Attribution', left=Segment(type='S', start=185, end=194), right=Segment(type='N', start=194, end=290), left_child=None, right_child=Relation(relation_type='Elaboration', left=Segment(type='N', start=194, end=240), right=Segment(type='S', start=240, end=290), left_child=None, right_child=None)))), right_child=Relation(relation_type='Elaboration', left=Segment(type='N', start=290, end=329), right=Segment(type='S', start=329, end=395), left_child=None, right_child=None))), right_child=Relation(relation_type='Contrast', left=Segment(type='N', start=395, end=472), right=Segment(type='N', start=472, end=2203), left_child=None, right_child=Relation(relation_type='Elaboration', left=Segment(type='N', start=472, end=627), right=Segment(type='S', start=627, end=2203), left_child=Relation(relation_type='same-unit', left=Segment(type='N', start=472, end=482), right=Segment(type='N', start=482, end=627), left_child=None, right_child=Relation(relation_type='Elaboration', left=Segment(type='N', start=482, end=526), right=Segment(type='S', start=526, end=627), left_child=None, right_child=Relation(relation_type='Elaboration', left=Segment(type='N', start=526, end=573), right=Segment(type='S', start=573, end=627), left_child=None, right_child=Relation(relation_type='Joint', left=Segment(type='N', start=573, end=593), right=Segment(type='N', start=593, end=627), left_child=None, right_child=None)))), right_child=Relation(relation_type='Background', left=Segment(type='N', start=627, end=809), right=Segment(type='S', start=809, end=2203), left_child=Relation(relation_type='Attribution', left=Segment(type='S', start=627, end=697), right=Segment(type='N', start=697, end=809), left_child=None, right_child=Relation(relation_type='Joint', left=Segment(type='N', start=697, end=758), right=Segment(type='N', start=758, end=809), left_child=None, right_child=Relation(relation_type='Elaboration', left=Segment(type='N', start=758, end=779), right=Segment(type='S', start=779, end=809), left_child=None, right_child=None))), right_child=Relation(relation_type='Elaboration', left=Segment(type='N', start=809, end=984), right=Segment(type='S', start=984, end=2203), left_child=Relation(relation_type='Elaboration', left=Segment(type='N', start=809, end=911), right=Segment(type='S', start=911, end=984), left_child=Relation(relation_type='Contrast', left=Segment(type='N', start=809, end=865), right=Segment(type='S', start=865, end=911), left_child=Relation(relation_type='Attribution', left=Segment(type='S', start=809, end=841), right=Segment(type='N', start=841, end=865), left_child=None, right_child=None), right_child=None), right_child=Relation(relation_type='Attribution', left=Segment(type='S', start=911, end=933), right=Segment(type='N', start=933, end=984), left_child=None, right_child=Relation(relation_type='Background', left=Segment(type='N', start=933, end=967), right=Segment(type='S', start=967, end=984), left_child=None, right_child=None))), right_child=Relation(relation_type='Background', left=Segment(type='N', start=984, end=1065), right=Segment(type='S', start=1065, end=2203), left_child=Relation(relation_type='Attribution', left=Segment(type='S', start=984, end=1023), right=Segment(type='N', start=1023, end=1065), left_child=None, right_child=None), right_child=Relation(relation_type='Elaboration', left=Segment(type='N', start=1065, end=1221), right=Segment(type='S', start=1221, end=2203), left_child=Relation(relation_type='Background', left=Segment(type='S', start=1065, end=1106), right=Segment(type='N', start=1106, end=1221), left_child=None, right_child=Relation(relation_type='Joint', left=Segment(type='N', start=1106, end=1153), right=Segment(type='N', start=1153, end=1221), left_child=None, right_child=Relation(relation_type='Manner-Means', left=Segment(type='N', start=1153, end=1201), right=Segment(type='S', start=1201, end=1221), left_child=None, right_child=None))), right_child=Relation(relation_type='Topic-Comment', left=Segment(type='N', start=1221, end=1297), right=Segment(type='N', start=1297, end=2203), left_child=Relation(relation_type='Attribution', left=Segment(type='S', start=1221, end=1234), right=Segment(type='N', start=1234, end=1297), left_child=None, right_child=None), right_child=Relation(relation_type='Elaboration', left=Segment(type='N', start=1297, end=1402), right=Segment(type='S', start=1402, end=2203), left_child=Relation(relation_type='Background', left=Segment(type='S', start=1297, end=1314), right=Segment(type='N', start=1314, end=1402), left_child=None, right_child=Relation(relation_type='Attribution', left=Segment(type='S', start=1314, end=1343), right=Segment(type='N', start=1343, end=1402), left_child=None, right_child=None)), right_child=Relation(relation_type='Elaboration', left=Segment(type='N', start=1402, end=1524), right=Segment(type='S', start=1524, end=2203), left_child=Relation(relation_type='Enablement', left=Segment(type='N', start=1402, end=1473), right=Segment(type='S', start=1473, end=1524), left_child=None, right_child=None), right_child=Relation(relation_type='Elaboration', left=Segment(type='N', start=1524, end=1701), right=Segment(type='S', start=1701, end=2203), left_child=Relation(relation_type='Elaboration', left=Segment(type='N', start=1524, end=1556), right=Segment(type='S', start=1556, end=1701), left_child=None, right_child=Relation(relation_type='Joint', left=Segment(type='N', start=1556, end=1649), right=Segment(type='N', start=1649, end=1701), left_child=Relation(relation_type='same-unit', left=Segment(type='N', start=1556, end=1596), right=Segment(type='N', start=1596, end=1649), left_child=Relation(relation_type='Elaboration', left=Segment(type='N', start=1556, end=1570), right=Segment(type='S', start=1570, end=1596), left_child=None, right_child=None), right_child=None), right_child=None)), right_child=Relation(relation_type='Elaboration', left=Segment(type='N', start=1701, end=1857), right=Segment(type='S', start=1857, end=2203), left_child=Relation(relation_type='Attribution', left=Segment(type='S', start=1701, end=1730), right=Segment(type='N', start=1730, end=1857), left_child=None, right_child=Relation(relation_type='Background', left=Segment(type='N', start=1730, end=1784), right=Segment(type='S', start=1784, end=1857), left_child=None, right_child=Relation(relation_type='Background', left=Segment(type='N', start=1784, end=1818), right=Segment(type='S', start=1818, end=1857), left_child=None, right_child=None))), right_child=Relation(relation_type='Elaboration', left=Segment(type='N', start=1857, end=2026), right=Segment(type='S', start=2026, end=2203), left_child=Relation(relation_type='same-unit', left=Segment(type='N', start=1857, end=1868), right=Segment(type='N', start=1868, end=2026), left_child=None, right_child=Relation(relation_type='Elaboration', left=Segment(type='N', start=1868, end=1903), right=Segment(type='S', start=1903, end=2026), left_child=None, right_child=Relation(relation_type='Elaboration', left=Segment(type='N', start=1903, end=1972), right=Segment(type='S', start=1972, end=2026), left_child=None, right_child=None))), right_child=Relation(relation_type='Joint', left=Segment(type='N', start=2026, end=2117), right=Segment(type='N', start=2117, end=2203), left_child=Relation(relation_type='Background', left=Segment(type='S', start=2026, end=2069), right=Segment(type='N', start=2069, end=2117), left_child=None, right_child=None), right_child=None))))))))))))))], 'same-unit': [Relation(relation_type='same-unit', left=Segment(type='N', start=126, end=172), right=Segment(type='N', start=172, end=185), left_child=Relation(relation_type='Elaboration', left=Segment(type='N', start=126, end=133), right=Segment(type='S', start=133, end=172), left_child=None, right_child=None), right_child=None), Relation(relation_type='same-unit', left=Segment(type='N', start=472, end=482), right=Segment(type='N', start=482, end=627), left_child=None, right_child=Relation(relation_type='Elaboration', left=Segment(type='N', start=482, end=526), right=Segment(type='S', start=526, end=627), left_child=None, right_child=Relation(relation_type='Elaboration', left=Segment(type='N', start=526, end=573), right=Segment(type='S', start=573, end=627), left_child=None, right_child=Relation(relation_type='Joint', left=Segment(type='N', start=573, end=593), right=Segment(type='N', start=593, end=627), left_child=None, right_child=None)))), Relation(relation_type='same-unit', left=Segment(type='N', start=1556, end=1596), right=Segment(type='N', start=1596, end=1649), left_child=Relation(relation_type='Elaboration', left=Segment(type='N', start=1556, end=1570), right=Segment(type='S', start=1570, end=1596), left_child=None, right_child=None), right_child=None), Relation(relation_type='same-unit', left=Segment(type='N', start=1857, end=1868), right=Segment(type='N', start=1868, end=2026), left_child=None, right_child=Relation(relation_type='Elaboration', left=Segment(type='N', start=1868, end=1903), right=Segment(type='S', start=1903, end=2026), left_child=None, right_child=Relation(relation_type='Elaboration', left=Segment(type='N', start=1903, end=1972), right=Segment(type='S', start=1972, end=2026), left_child=None, right_child=None)))], 'Joint': [Relation(relation_type='Joint', left=Segment(type='N', start=126, end=185), right=Segment(type='N', start=185, end=290), left_child=Relation(relation_type='same-unit', left=Segment(type='N', start=126, end=172), right=Segment(type='N', start=172, end=185), left_child=Relation(relation_type='Elaboration', left=Segment(type='N', start=126, end=133), right=Segment(type='S', start=133, end=172), left_child=None, right_child=None), right_child=None), right_child=Relation(relation_type='Attribution', left=Segment(type='S', start=185, end=194), right=Segment(type='N', start=194, end=290), left_child=None, right_child=Relation(relation_type='Elaboration', left=Segment(type='N', start=194, end=240), right=Segment(type='S', start=240, end=290), left_child=None, right_child=None))), Relation(relation_type='Joint', left=Segment(type='N', start=573, end=593), right=Segment(type='N', start=593, end=627), left_child=None, right_child=None), Relation(relation_type='Joint', left=Segment(type='N', start=697, end=758), right=Segment(type='N', start=758, end=809), left_child=None, right_child=Relation(relation_type='Elaboration', left=Segment(type='N', start=758, end=779), right=Segment(type='S', start=779, end=809), left_child=None, right_child=None)), Relation(relation_type='Joint', left=Segment(type='N', start=1106, end=1153), right=Segment(type='N', start=1153, end=1221), left_child=None, right_child=Relation(relation_type='Manner-Means', left=Segment(type='N', start=1153, end=1201), right=Segment(type='S', start=1201, end=1221), left_child=None, right_child=None)), Relation(relation_type='Joint', left=Segment(type='N', start=1556, end=1649), right=Segment(type='N', start=1649, end=1701), left_child=Relation(relation_type='same-unit', left=Segment(type='N', start=1556, end=1596), right=Segment(type='N', start=1596, end=1649), left_child=Relation(relation_type='Elaboration', left=Segment(type='N', start=1556, end=1570), right=Segment(type='S', start=1570, end=1596), left_child=None, right_child=None), right_child=None), right_child=None), Relation(relation_type='Joint', left=Segment(type='N', start=2026, end=2117), right=Segment(type='N', start=2117, end=2203), left_child=Relation(relation_type='Background', left=Segment(type='S', start=2026, end=2069), right=Segment(type='N', start=2069, end=2117), left_child=None, right_child=None), right_child=None)], 'Background': [Relation(relation_type='Background', left=Segment(type='N', start=933, end=967), right=Segment(type='S', start=967, end=984), left_child=None, right_child=None), Relation(relation_type='Background', left=Segment(type='S', start=1065, end=1106), right=Segment(type='N', start=1106, end=1221), left_child=None, right_child=Relation(relation_type='Joint', left=Segment(type='N', start=1106, end=1153), right=Segment(type='N', start=1153, end=1221), left_child=None, right_child=Relation(relation_type='Manner-Means', left=Segment(type='N', start=1153, end=1201), right=Segment(type='S', start=1201, end=1221), left_child=None, right_child=None))), Relation(relation_type='Background', left=Segment(type='S', start=1297, end=1314), right=Segment(type='N', start=1314, end=1402), left_child=None, right_child=Relation(relation_type='Attribution', left=Segment(type='S', start=1314, end=1343), right=Segment(type='N', start=1343, end=1402), left_child=None, right_child=None)), Relation(relation_type='Background', left=Segment(type='N', start=1784, end=1818), right=Segment(type='S', start=1818, end=1857), left_child=None, right_child=None), Relation(relation_type='Background', left=Segment(type='N', start=1730, end=1784), right=Segment(type='S', start=1784, end=1857), left_child=None, right_child=Relation(relation_type='Background', left=Segment(type='N', start=1784, end=1818), right=Segment(type='S', start=1818, end=1857), left_child=None, right_child=None)), Relation(relation_type='Background', left=Segment(type='S', start=2026, end=2069), right=Segment(type='N', start=2069, end=2117), left_child=None, right_child=None), Relation(relation_type='Background', left=Segment(type='N', start=984, end=1065), right=Segment(type='S', start=1065, end=2203), left_child=Relation(relation_type='Attribution', left=Segment(type='S', start=984, end=1023), right=Segment(type='N', start=1023, end=1065), left_child=None, right_child=None), right_child=Relation(relation_type='Elaboration', left=Segment(type='N', start=1065, end=1221), right=Segment(type='S', start=1221, end=2203), left_child=Relation(relation_type='Background', left=Segment(type='S', start=1065, end=1106), right=Segment(type='N', start=1106, end=1221), left_child=None, right_child=Relation(relation_type='Joint', left=Segment(type='N', start=1106, end=1153), right=Segment(type='N', start=1153, end=1221), left_child=None, right_child=Relation(relation_type='Manner-Means', left=Segment(type='N', start=1153, end=1201), right=Segment(type='S', start=1201, end=1221), left_child=None, right_child=None))), right_child=Relation(relation_type='Topic-Comment', left=Segment(type='N', start=1221, end=1297), right=Segment(type='N', start=1297, end=2203), left_child=Relation(relation_type='Attribution', left=Segment(type='S', start=1221, end=1234), right=Segment(type='N', start=1234, end=1297), left_child=None, right_child=None), right_child=Relation(relation_type='Elaboration', left=Segment(type='N', start=1297, end=1402), right=Segment(type='S', start=1402, end=2203), left_child=Relation(relation_type='Background', left=Segment(type='S', start=1297, end=1314), right=Segment(type='N', start=1314, end=1402), left_child=None, right_child=Relation(relation_type='Attribution', left=Segment(type='S', start=1314, end=1343), right=Segment(type='N', start=1343, end=1402), left_child=None, right_child=None)), right_child=Relation(relation_type='Elaboration', left=Segment(type='N', start=1402, end=1524), right=Segment(type='S', start=1524, end=2203), left_child=Relation(relation_type='Enablement', left=Segment(type='N', start=1402, end=1473), right=Segment(type='S', start=1473, end=1524), left_child=None, right_child=None), right_child=Relation(relation_type='Elaboration', left=Segment(type='N', start=1524, end=1701), right=Segment(type='S', start=1701, end=2203), left_child=Relation(relation_type='Elaboration', left=Segment(type='N', start=1524, end=1556), right=Segment(type='S', start=1556, end=1701), left_child=None, right_child=Relation(relation_type='Joint', left=Segment(type='N', start=1556, end=1649), right=Segment(type='N', start=1649, end=1701), left_child=Relation(relation_type='same-unit', left=Segment(type='N', start=1556, end=1596), right=Segment(type='N', start=1596, end=1649), left_child=Relation(relation_type='Elaboration', left=Segment(type='N', start=1556, end=1570), right=Segment(type='S', start=1570, end=1596), left_child=None, right_child=None), right_child=None), right_child=None)), right_child=Relation(relation_type='Elaboration', left=Segment(type='N', start=1701, end=1857), right=Segment(type='S', start=1857, end=2203), left_child=Relation(relation_type='Attribution', left=Segment(type='S', start=1701, end=1730), right=Segment(type='N', start=1730, end=1857), left_child=None, right_child=Relation(relation_type='Background', left=Segment(type='N', start=1730, end=1784), right=Segment(type='S', start=1784, end=1857), left_child=None, right_child=Relation(relation_type='Background', left=Segment(type='N', start=1784, end=1818), right=Segment(type='S', start=1818, end=1857), left_child=None, right_child=None))), right_child=Relation(relation_type='Elaboration', left=Segment(type='N', start=1857, end=2026), right=Segment(type='S', start=2026, end=2203), left_child=Relation(relation_type='same-unit', left=Segment(type='N', start=1857, end=1868), right=Segment(type='N', start=1868, end=2026), left_child=None, right_child=Relation(relation_type='Elaboration', left=Segment(type='N', start=1868, end=1903), right=Segment(type='S', start=1903, end=2026), left_child=None, right_child=Relation(relation_type='Elaboration', left=Segment(type='N', start=1903, end=1972), right=Segment(type='S', start=1972, end=2026), left_child=None, right_child=None))), right_child=Relation(relation_type='Joint', left=Segment(type='N', start=2026, end=2117), right=Segment(type='N', start=2117, end=2203), left_child=Relation(relation_type='Background', left=Segment(type='S', start=2026, end=2069), right=Segment(type='N', start=2069, end=2117), left_child=None, right_child=None), right_child=None))))))))), Relation(relation_type='Background', left=Segment(type='N', start=627, end=809), right=Segment(type='S', start=809, end=2203), left_child=Relation(relation_type='Attribution', left=Segment(type='S', start=627, end=697), right=Segment(type='N', start=697, end=809), left_child=None, right_child=Relation(relation_type='Joint', left=Segment(type='N', start=697, end=758), right=Segment(type='N', start=758, end=809), left_child=None, right_child=Relation(relation_type='Elaboration', left=Segment(type='N', start=758, end=779), right=Segment(type='S', start=779, end=809), left_child=None, right_child=None))), right_child=Relation(relation_type='Elaboration', left=Segment(type='N', start=809, end=984), right=Segment(type='S', start=984, end=2203), left_child=Relation(relation_type='Elaboration', left=Segment(type='N', start=809, end=911), right=Segment(type='S', start=911, end=984), left_child=Relation(relation_type='Contrast', left=Segment(type='N', start=809, end=865), right=Segment(type='S', start=865, end=911), left_child=Relation(relation_type='Attribution', left=Segment(type='S', start=809, end=841), right=Segment(type='N', start=841, end=865), left_child=None, right_child=None), right_child=None), right_child=Relation(relation_type='Attribution', left=Segment(type='S', start=911, end=933), right=Segment(type='N', start=933, end=984), left_child=None, right_child=Relation(relation_type='Background', left=Segment(type='N', start=933, end=967), right=Segment(type='S', start=967, end=984), left_child=None, right_child=None))), right_child=Relation(relation_type='Background', left=Segment(type='N', start=984, end=1065), right=Segment(type='S', start=1065, end=2203), left_child=Relation(relation_type='Attribution', left=Segment(type='S', start=984, end=1023), right=Segment(type='N', start=1023, end=1065), left_child=None, right_child=None), right_child=Relation(relation_type='Elaboration', left=Segment(type='N', start=1065, end=1221), right=Segment(type='S', start=1221, end=2203), left_child=Relation(relation_type='Background', left=Segment(type='S', start=1065, end=1106), right=Segment(type='N', start=1106, end=1221), left_child=None, right_child=Relation(relation_type='Joint', left=Segment(type='N', start=1106, end=1153), right=Segment(type='N', start=1153, end=1221), left_child=None, right_child=Relation(relation_type='Manner-Means', left=Segment(type='N', start=1153, end=1201), right=Segment(type='S', start=1201, end=1221), left_child=None, right_child=None))), right_child=Relation(relation_type='Topic-Comment', left=Segment(type='N', start=1221, end=1297), right=Segment(type='N', start=1297, end=2203), left_child=Relation(relation_type='Attribution', left=Segment(type='S', start=1221, end=1234), right=Segment(type='N', start=1234, end=1297), left_child=None, right_child=None), right_child=Relation(relation_type='Elaboration', left=Segment(type='N', start=1297, end=1402), right=Segment(type='S', start=1402, end=2203), left_child=Relation(relation_type='Background', left=Segment(type='S', start=1297, end=1314), right=Segment(type='N', start=1314, end=1402), left_child=None, right_child=Relation(relation_type='Attribution', left=Segment(type='S', start=1314, end=1343), right=Segment(type='N', start=1343, end=1402), left_child=None, right_child=None)), right_child=Relation(relation_type='Elaboration', left=Segment(type='N', start=1402, end=1524), right=Segment(type='S', start=1524, end=2203), left_child=Relation(relation_type='Enablement', left=Segment(type='N', start=1402, end=1473), right=Segment(type='S', start=1473, end=1524), left_child=None, right_child=None), right_child=Relation(relation_type='Elaboration', left=Segment(type='N', start=1524, end=1701), right=Segment(type='S', start=1701, end=2203), left_child=Relation(relation_type='Elaboration', left=Segment(type='N', start=1524, end=1556), right=Segment(type='S', start=1556, end=1701), left_child=None, right_child=Relation(relation_type='Joint', left=Segment(type='N', start=1556, end=1649), right=Segment(type='N', start=1649, end=1701), left_child=Relation(relation_type='same-unit', left=Segment(type='N', start=1556, end=1596), right=Segment(type='N', start=1596, end=1649), left_child=Relation(relation_type='Elaboration', left=Segment(type='N', start=1556, end=1570), right=Segment(type='S', start=1570, end=1596), left_child=None, right_child=None), right_child=None), right_child=None)), right_child=Relation(relation_type='Elaboration', left=Segment(type='N', start=1701, end=1857), right=Segment(type='S', start=1857, end=2203), left_child=Relation(relation_type='Attribution', left=Segment(type='S', start=1701, end=1730), right=Segment(type='N', start=1730, end=1857), left_child=None, right_child=Relation(relation_type='Background', left=Segment(type='N', start=1730, end=1784), right=Segment(type='S', start=1784, end=1857), left_child=None, right_child=Relation(relation_type='Background', left=Segment(type='N', start=1784, end=1818), right=Segment(type='S', start=1818, end=1857), left_child=None, right_child=None))), right_child=Relation(relation_type='Elaboration', left=Segment(type='N', start=1857, end=2026), right=Segment(type='S', start=2026, end=2203), left_child=Relation(relation_type='same-unit', left=Segment(type='N', start=1857, end=1868), right=Segment(type='N', start=1868, end=2026), left_child=None, right_child=Relation(relation_type='Elaboration', left=Segment(type='N', start=1868, end=1903), right=Segment(type='S', start=1903, end=2026), left_child=None, right_child=Relation(relation_type='Elaboration', left=Segment(type='N', start=1903, end=1972), right=Segment(type='S', start=1972, end=2026), left_child=None, right_child=None))), right_child=Relation(relation_type='Joint', left=Segment(type='N', start=2026, end=2117), right=Segment(type='N', start=2117, end=2203), left_child=Relation(relation_type='Background', left=Segment(type='S', start=2026, end=2069), right=Segment(type='N', start=2069, end=2117), left_child=None, right_child=None), right_child=None)))))))))))], 'Manner-Means': [Relation(relation_type='Manner-Means', left=Segment(type='N', start=1153, end=1201), right=Segment(type='S', start=1201, end=1221), left_child=None, right_child=None)], 'Enablement': [Relation(relation_type='Enablement', left=Segment(type='N', start=1402, end=1473), right=Segment(type='S', start=1473, end=1524), left_child=None, right_child=None)], 'Topic-Comment': [Relation(relation_type='Topic-Comment', left=Segment(type='N', start=1221, end=1297), right=Segment(type='N', start=1297, end=2203), left_child=Relation(relation_type='Attribution', left=Segment(type='S', start=1221, end=1234), right=Segment(type='N', start=1234, end=1297), left_child=None, right_child=None), right_child=Relation(relation_type='Elaboration', left=Segment(type='N', start=1297, end=1402), right=Segment(type='S', start=1402, end=2203), left_child=Relation(relation_type='Background', left=Segment(type='S', start=1297, end=1314), right=Segment(type='N', start=1314, end=1402), left_child=None, right_child=Relation(relation_type='Attribution', left=Segment(type='S', start=1314, end=1343), right=Segment(type='N', start=1343, end=1402), left_child=None, right_child=None)), right_child=Relation(relation_type='Elaboration', left=Segment(type='N', start=1402, end=1524), right=Segment(type='S', start=1524, end=2203), left_child=Relation(relation_type='Enablement', left=Segment(type='N', start=1402, end=1473), right=Segment(type='S', start=1473, end=1524), left_child=None, right_child=None), right_child=Relation(relation_type='Elaboration', left=Segment(type='N', start=1524, end=1701), right=Segment(type='S', start=1701, end=2203), left_child=Relation(relation_type='Elaboration', left=Segment(type='N', start=1524, end=1556), right=Segment(type='S', start=1556, end=1701), left_child=None, right_child=Relation(relation_type='Joint', left=Segment(type='N', start=1556, end=1649), right=Segment(type='N', start=1649, end=1701), left_child=Relation(relation_type='same-unit', left=Segment(type='N', start=1556, end=1596), right=Segment(type='N', start=1596, end=1649), left_child=Relation(relation_type='Elaboration', left=Segment(type='N', start=1556, end=1570), right=Segment(type='S', start=1570, end=1596), left_child=None, right_child=None), right_child=None), right_child=None)), right_child=Relation(relation_type='Elaboration', left=Segment(type='N', start=1701, end=1857), right=Segment(type='S', start=1857, end=2203), left_child=Relation(relation_type='Attribution', left=Segment(type='S', start=1701, end=1730), right=Segment(type='N', start=1730, end=1857), left_child=None, right_child=Relation(relation_type='Background', left=Segment(type='N', start=1730, end=1784), right=Segment(type='S', start=1784, end=1857), left_child=None, right_child=Relation(relation_type='Background', left=Segment(type='N', start=1784, end=1818), right=Segment(type='S', start=1818, end=1857), left_child=None, right_child=None))), right_child=Relation(relation_type='Elaboration', left=Segment(type='N', start=1857, end=2026), right=Segment(type='S', start=2026, end=2203), left_child=Relation(relation_type='same-unit', left=Segment(type='N', start=1857, end=1868), right=Segment(type='N', start=1868, end=2026), left_child=None, right_child=Relation(relation_type='Elaboration', left=Segment(type='N', start=1868, end=1903), right=Segment(type='S', start=1903, end=2026), left_child=None, right_child=Relation(relation_type='Elaboration', left=Segment(type='N', start=1903, end=1972), right=Segment(type='S', start=1972, end=2026), left_child=None, right_child=None))), right_child=Relation(relation_type='Joint', left=Segment(type='N', start=2026, end=2117), right=Segment(type='N', start=2117, end=2203), left_child=Relation(relation_type='Background', left=Segment(type='S', start=2026, end=2069), right=Segment(type='N', start=2069, end=2117), left_child=None, right_child=None), right_child=None)))))))]}\n"
     ]
    }
   ],
   "source": [
    "if __name__ == \"__main__\" and \"__file__\" not in globals():\n",
    "    text, relations = extract_relations(\n",
    "        \"../../parsed/race/train/high/10324.txt.tree\"\n",
    "    )\n",
    "    print(text)\n",
    "    print()\n",
    "    print(relations)"
   ]
  },
  {
   "cell_type": "code",
   "execution_count": null,
   "metadata": {
    "collapsed": true
   },
   "outputs": [],
   "source": []
  }
 ],
 "metadata": {
  "kernelspec": {
   "display_name": "Python 3",
   "language": "python",
   "name": "python3"
  },
  "language_info": {
   "codemirror_mode": {
    "name": "ipython",
    "version": 3
   },
   "file_extension": ".py",
   "mimetype": "text/x-python",
   "name": "python",
   "nbconvert_exporter": "python",
   "pygments_lexer": "ipython3",
   "version": "3.6.10"
  }
 },
 "nbformat": 4,
 "nbformat_minor": 2
}
