{
 "cells": [
  {
   "cell_type": "code",
   "execution_count": 11,
   "metadata": {
    "collapsed": true
   },
   "outputs": [],
   "source": [
    "import os\n",
    "import re\n",
    "from collections import namedtuple\n",
    "from enum import Enum"
   ]
  },
  {
   "cell_type": "code",
   "execution_count": 24,
   "metadata": {
    "collapsed": true
   },
   "outputs": [],
   "source": [
    "Segment = namedtuple(\"Segment\", [\"type\", \"start\", \"end\"])\n",
    "\n",
    "\n",
    "class Relation:\n",
    "    def __init__(\n",
    "        self,\n",
    "        relation_type,\n",
    "        left_segment,\n",
    "        right_segment,\n",
    "        left_relation,\n",
    "        right_relation\n",
    "    ):\n",
    "        self.type = relation_type\n",
    "        self.left = left_segment\n",
    "        self.right = right_segment\n",
    "        self.left_child = left_relation\n",
    "        self.right_child = right_relation\n",
    "        \n",
    "    def get_first_nucleus(self):\n",
    "        if self.left.type == \"N\":\n",
    "            return self.left_child, self.left\n",
    "        else:\n",
    "            return self.right_child, self.right\n",
    "        \n",
    "    def get_satellite(self):\n",
    "        if self.left.type == \"S\":\n",
    "            return self.left_child, self.left\n",
    "        elif self.right.type == \"S\":\n",
    "            return self.right_child, self.right\n",
    "        else:\n",
    "            return None, None"
   ]
  },
  {
   "cell_type": "code",
   "execution_count": 13,
   "metadata": {
    "collapsed": true
   },
   "outputs": [],
   "source": [
    "def skip_whitespace(text, pointer):\n",
    "    cnt = 0\n",
    "    while pointer + cnt < len(text) and text[pointer + cnt].isspace():\n",
    "        cnt += 1\n",
    "    return cnt"
   ]
  },
  {
   "cell_type": "code",
   "execution_count": 14,
   "metadata": {
    "collapsed": true
   },
   "outputs": [],
   "source": [
    "def check_symbol(text, pointer, c):\n",
    "    if pointer >= len(text):\n",
    "        return False\n",
    "    else:\n",
    "        return text[pointer] == c"
   ]
  },
  {
   "cell_type": "code",
   "execution_count": 15,
   "metadata": {
    "collapsed": true
   },
   "outputs": [],
   "source": [
    "def is_segment_start(tree_text, pointer):\n",
    "    return (\n",
    "        check_symbol(tree_text, pointer, '_')\n",
    "        and check_symbol(tree_text, pointer + 1, '!')\n",
    "    )\n",
    "\n",
    "\n",
    "def is_segment_end(tree_text, pointer):\n",
    "    return (\n",
    "        check_symbol(tree_text, pointer, '!')\n",
    "        and check_symbol(tree_text, pointer + 1, '_')\n",
    "    )"
   ]
  },
  {
   "cell_type": "code",
   "execution_count": 16,
   "metadata": {
    "collapsed": true
   },
   "outputs": [],
   "source": [
    "head_re = re.compile(\"([^[]*)\\[(N|S)\\]\\[(N|S)\\]\")\n",
    "\n",
    "def read_head(tree_text, pointer):\n",
    "    pointer += skip_whitespace(tree_text, pointer)\n",
    "    assert(check_symbol(tree_text, pointer, '('))\n",
    "    pointer += 1\n",
    "    \n",
    "    head_start = pointer\n",
    "    while (\n",
    "        pointer < len(tree_text) \n",
    "        and not tree_text[pointer].isspace()\n",
    "    ):\n",
    "        pointer += 1\n",
    "    head_end = pointer\n",
    "    \n",
    "    relation_type, left_segment_type, right_segment_type = \\\n",
    "        head_re.match(tree_text[head_start:head_end]).groups()\n",
    "    \n",
    "    return (\n",
    "        relation_type, \n",
    "        left_segment_type, \n",
    "        right_segment_type, \n",
    "        pointer\n",
    "    )"
   ]
  },
  {
   "cell_type": "code",
   "execution_count": 17,
   "metadata": {
    "collapsed": true
   },
   "outputs": [],
   "source": [
    "def relation_to_segment(relation, segment_type):\n",
    "    return Segment(\n",
    "        segment_type, \n",
    "        relation.left.start, \n",
    "        relation.right.end\n",
    "    )"
   ]
  },
  {
   "cell_type": "code",
   "execution_count": 18,
   "metadata": {
    "collapsed": true
   },
   "outputs": [],
   "source": [
    "def read_segment(tree_text, pointer, text, segment_type):\n",
    "    pointer += skip_whitespace(tree_text, pointer)\n",
    "    assert(\n",
    "        is_segment_start(tree_text, pointer)\n",
    "    )\n",
    "    pointer += 2\n",
    "    segment_start = len(text)\n",
    "    while (\n",
    "        pointer < len(tree_text)\n",
    "        and not (\n",
    "            check_symbol(tree_text, pointer, '!')\n",
    "            and check_symbol(tree_text, pointer + 1, '_')\n",
    "        )\n",
    "    ):\n",
    "        text.append(tree_text[pointer])\n",
    "        pointer += 1\n",
    "    assert(\n",
    "        is_segment_end(tree_text, pointer)\n",
    "    )\n",
    "    text.append(\" \")\n",
    "    segment_end = len(text)\n",
    "    pointer += 2\n",
    "    return (\n",
    "        Segment(\n",
    "            segment_type,\n",
    "            segment_start,\n",
    "            segment_end\n",
    "        ),\n",
    "        pointer\n",
    "    )"
   ]
  },
  {
   "cell_type": "code",
   "execution_count": 19,
   "metadata": {
    "collapsed": true
   },
   "outputs": [],
   "source": [
    "def read_relation_or_segment(\n",
    "    tree_text, \n",
    "    pointer, \n",
    "    text, \n",
    "    segment_type,\n",
    "    relations\n",
    "):\n",
    "    pointer += skip_whitespace(tree_text, pointer)\n",
    "    if check_symbol(tree_text, pointer, '('):\n",
    "        relation, pointer = read_relation(\n",
    "            tree_text, \n",
    "            pointer,\n",
    "            text,\n",
    "            relations\n",
    "        )\n",
    "        segment = relation_to_segment(\n",
    "            relation, segment_type\n",
    "        )\n",
    "        return segment, pointer, relation\n",
    "    else:\n",
    "        segment, pointer = read_segment(\n",
    "            tree_text, pointer, text, segment_type\n",
    "        )\n",
    "        return segment, pointer, None"
   ]
  },
  {
   "cell_type": "code",
   "execution_count": 20,
   "metadata": {
    "collapsed": true
   },
   "outputs": [],
   "source": [
    "def read_relation(tree_text, pointer, text, relations):\n",
    "    relation_type, left_segment_type, right_segment_type, pointer = \\\n",
    "        read_head(tree_text, pointer)\n",
    "        \n",
    "    left_segment, pointer, left_child = read_relation_or_segment(\n",
    "        tree_text, pointer, text, left_segment_type, relations)\n",
    "    \n",
    "    right_segment, pointer, right_child = read_relation_or_segment(\n",
    "        tree_text, pointer, text, right_segment_type, relations)\n",
    "    \n",
    "    pointer += skip_whitespace(tree_text, pointer)\n",
    "    assert(check_symbol(tree_text, pointer, ')'))\n",
    "    pointer += 1\n",
    "    \n",
    "    relation = Relation(\n",
    "        relation_type,\n",
    "        left_segment,\n",
    "        right_segment,\n",
    "        left_child,\n",
    "        right_child\n",
    "    )\n",
    "    if not relation_type in relations:\n",
    "        relations[relation_type] = []\n",
    "    relations[relation_type].append(relation)\n",
    "    \n",
    "    return relation, pointer"
   ]
  },
  {
   "cell_type": "code",
   "execution_count": 21,
   "metadata": {
    "collapsed": true
   },
   "outputs": [],
   "source": [
    "def read_relations(tree_text):\n",
    "    pointer = 0\n",
    "    text = []\n",
    "    relations = {}\n",
    "    read_relation(tree_text, pointer, text, relations)\n",
    "    return \"\".join(text), relations\n",
    "\n",
    "\n",
    "def extract_relations(file_path):\n",
    "    with open(file_path, \"rt\") as f:\n",
    "        tree_text = f.read()\n",
    "\n",
    "    return read_relations(tree_text)"
   ]
  },
  {
   "cell_type": "code",
   "execution_count": 29,
   "metadata": {
    "collapsed": true
   },
   "outputs": [],
   "source": [
    "def read_relation_tree(tree_text):\n",
    "    root, _ = read_relation(tree_text, 0, [], {})\n",
    "    return root\n",
    "\n",
    "\n",
    "def extract_relation_tree(file_path):\n",
    "    with open(file_path, \"rt\") as f:\n",
    "        tree_text = f.read()\n",
    "\n",
    "    return read_relation_tree(tree_text)"
   ]
  },
  {
   "cell_type": "code",
   "execution_count": 23,
   "metadata": {},
   "outputs": [
    {
     "data": {
      "text/plain": [
       "('ha-ha  this is a  segment  a . b . ',\n",
       " {'Elaboration': [Relation(type='Elaboration', left=Segment(type='N', start=7, end=27), right=Segment(type='S', start=27, end=35), left_child=None, right_child=Relation(type='Join', left=Segment(type='N', start=27, end=31), right=Segment(type='N', start=31, end=35), left_child=None, right_child=None)),\n",
       "   Relation(type='Elaboration', left=Segment(type='N', start=0, end=7), right=Segment(type='S', start=7, end=35), left_child=None, right_child=Relation(type='Elaboration', left=Segment(type='N', start=7, end=27), right=Segment(type='S', start=27, end=35), left_child=None, right_child=Relation(type='Join', left=Segment(type='N', start=27, end=31), right=Segment(type='N', start=31, end=35), left_child=None, right_child=None)))],\n",
       "  'Join': [Relation(type='Join', left=Segment(type='N', start=27, end=31), right=Segment(type='N', start=31, end=35), left_child=None, right_child=None)]})"
      ]
     },
     "execution_count": 23,
     "metadata": {},
     "output_type": "execute_result"
    }
   ],
   "source": [
    "# tree_text = \"\"\"\n",
    "#     (Elaboration[N][S]\n",
    "#        _!ha-ha !_\n",
    "#        (Elaboration[N][S] _!this is a  segment !_ \n",
    "#        (Join[N][N] _!a .!_ _!b .!_)))\n",
    "# \"\"\"\n",
    "# read_relations(tree_text)"
   ]
  },
  {
   "cell_type": "code",
   "execution_count": 239,
   "metadata": {
    "collapsed": true
   },
   "outputs": [],
   "source": [
    "# text = []\n",
    "# relations = {}\n",
    "# read_relation_or_segment(\n",
    "#     tree_text, \n",
    "#     0, \n",
    "#     text, \n",
    "#     SegmentType.SATELLITE, \n",
    "#     relations\n",
    "# )"
   ]
  },
  {
   "cell_type": "code",
   "execution_count": 240,
   "metadata": {
    "collapsed": true
   },
   "outputs": [],
   "source": [
    "# text, relations = extract_relations(\n",
    "#     \"parsed/race/train/high/10324.txt.tree\"\n",
    "# )"
   ]
  }
 ],
 "metadata": {
  "kernelspec": {
   "display_name": "Python 3",
   "language": "python",
   "name": "python3"
  },
  "language_info": {
   "codemirror_mode": {
    "name": "ipython",
    "version": 3
   },
   "file_extension": ".py",
   "mimetype": "text/x-python",
   "name": "python",
   "nbconvert_exporter": "python",
   "pygments_lexer": "ipython3",
   "version": "3.6.3"
  }
 },
 "nbformat": 4,
 "nbformat_minor": 2
}
