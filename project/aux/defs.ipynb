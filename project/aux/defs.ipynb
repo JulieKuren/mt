{
 "cells": [
  {
   "cell_type": "markdown",
   "metadata": {},
   "source": [
    "**Defines** basic **data structures** for statement generation."
   ]
  },
  {
   "cell_type": "code",
   "execution_count": 68,
   "metadata": {
    "collapsed": true
   },
   "outputs": [],
   "source": [
    "import collections"
   ]
  },
  {
   "cell_type": "code",
   "execution_count": 69,
   "metadata": {
    "collapsed": true
   },
   "outputs": [],
   "source": [
    "Statement = collections.namedtuple(  # represents a generated statement\n",
    "    \"Statement\",\n",
    "    [\n",
    "        \"statement_text\",\n",
    "        \"nucleus\",\n",
    "        \"connective\",\n",
    "        \"satellite_nucleus\",\n",
    "        \"left_boundary\",\n",
    "        \"right_boundary\",\n",
    "        \"split_point\",\n",
    "        \"nucleus_proximity\",\n",
    "        \"rule\",\n",
    "        \"reason\",\n",
    "    ],\n",
    ")"
   ]
  },
  {
   "cell_type": "code",
   "execution_count": 70,
   "metadata": {
    "collapsed": true
   },
   "outputs": [],
   "source": [
    "Reason = collections.namedtuple(  # represents a criterion for applying a rule\n",
    "    \"Reason\",\n",
    "    [\n",
    "        \"id\",  # an internal code of the criterion\n",
    "        \"explanation\",  # a meaningful text description of the criterion\n",
    "    ],\n",
    ")"
   ]
  }
 ],
 "metadata": {
  "kernelspec": {
   "display_name": "Python 3",
   "language": "python",
   "name": "python3"
  },
  "language_info": {
   "codemirror_mode": {
    "name": "ipython",
    "version": 3
   },
   "file_extension": ".py",
   "mimetype": "text/x-python",
   "name": "python",
   "nbconvert_exporter": "python",
   "pygments_lexer": "ipython3",
   "version": "3.6.10"
  }
 },
 "nbformat": 4,
 "nbformat_minor": 2
}
