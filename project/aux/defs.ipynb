{
 "cells": [
  {
   "cell_type": "code",
   "execution_count": 68,
   "metadata": {
    "collapsed": true
   },
   "outputs": [],
   "source": [
    "import abc\n",
    "import enum\n",
    "import collections"
   ]
  },
  {
   "cell_type": "code",
   "execution_count": 69,
   "metadata": {
    "collapsed": true
   },
   "outputs": [],
   "source": [
    "Statement = collections.namedtuple(\n",
    "    \"Statement\",\n",
    "    [\n",
    "        \"statement_text\",\n",
    "        \"nucleus\",\n",
    "        \"satellite_nucleus\",\n",
    "        \"left_boundary\",\n",
    "        \"right_boundary\",\n",
    "        \"nucleus_proximity\",\n",
    "        \"rule\",\n",
    "        \"reason\"\n",
    "    ]\n",
    ")"
   ]
  },
  {
   "cell_type": "code",
   "execution_count": 70,
   "metadata": {
    "collapsed": true
   },
   "outputs": [],
   "source": [
    "Reason = collections.namedtuple(\n",
    "    \"Reason\",\n",
    "    [\n",
    "        \"id\",\n",
    "        \"explanation\"\n",
    "    ]\n",
    ")"
   ]
  },
  {
   "cell_type": "code",
   "execution_count": 71,
   "metadata": {
    "collapsed": true
   },
   "outputs": [],
   "source": [
    "class Rule(metaclass=abc.ABCMeta):\n",
    "    @property\n",
    "    @abc.abstractmethod\n",
    "    def name(self):\n",
    "        pass\n",
    "    \n",
    "    @property\n",
    "    @abc.abstractmethod\n",
    "    def relation_type(self):\n",
    "        pass\n",
    "    \n",
    "    @property\n",
    "    @abc.abstractmethod\n",
    "    def reasons(self):\n",
    "        pass\n",
    "    \n",
    "    @abc.abstractmethod\n",
    "    def generate_statement(self, text, relation, verbose):\n",
    "        pass"
   ]
  },
  {
   "cell_type": "code",
   "execution_count": 63,
   "metadata": {
    "collapsed": true
   },
   "outputs": [],
   "source": [
    "# A template\n",
    "#\n",
    "# class TmpRule(Rule):\n",
    "#     name = \"tmp rule\"\n",
    "#     reasons = {\n",
    "#         \"CONTAINS_BECAUSE\": Reason(1, \"Contains because\")\n",
    "#     }\n",
    "    \n",
    "#     def generate_statement(self, text, relation, verbose):\n",
    "#         return Statement(\n",
    "#             \"\", \n",
    "#             \"\", \n",
    "#             \"\", \n",
    "#             0, \n",
    "#             0, \n",
    "#             NucleusProximity.NEAR.value, \n",
    "#             TmpRule.name, \n",
    "#             TmpRule.reasons[\"CONTAINS_BECAUSE\"]\n",
    "#         )"
   ]
  }
 ],
 "metadata": {
  "kernelspec": {
   "display_name": "Python 3",
   "language": "python",
   "name": "python3"
  },
  "language_info": {
   "codemirror_mode": {
    "name": "ipython",
    "version": 3
   },
   "file_extension": ".py",
   "mimetype": "text/x-python",
   "name": "python",
   "nbconvert_exporter": "python",
   "pygments_lexer": "ipython3",
   "version": "3.6.3"
  }
 },
 "nbformat": 4,
 "nbformat_minor": 2
}
