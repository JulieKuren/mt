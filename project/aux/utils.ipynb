{
 "cells": [
  {
   "cell_type": "code",
   "execution_count": 1,
   "metadata": {
    "collapsed": true
   },
   "outputs": [],
   "source": [
    "import re"
   ]
  },
  {
   "cell_type": "code",
   "execution_count": 2,
   "metadata": {
    "collapsed": true
   },
   "outputs": [],
   "source": [
    "from nltk.tokenize import word_tokenize\n",
    "from nltk import pos_tag"
   ]
  },
  {
   "cell_type": "code",
   "execution_count": 4,
   "metadata": {
    "collapsed": true
   },
   "outputs": [],
   "source": [
    "def print_if_verbose(text, verbose):\n",
    "    if verbose:\n",
    "        print(text)"
   ]
  },
  {
   "cell_type": "code",
   "execution_count": 5,
   "metadata": {
    "collapsed": true
   },
   "outputs": [],
   "source": [
    "def lowercase_and_tokenize(s):\n",
    "    return [t.lower() for t in word_tokenize(s)]\n",
    "\n",
    "\n",
    "def get_first_token(s):\n",
    "    tokenized = word_tokenize(s)\n",
    "    if len(tokenized) == 0:\n",
    "        return None\n",
    "    else:\n",
    "        return tokenized[0].lower()"
   ]
  },
  {
   "cell_type": "code",
   "execution_count": 6,
   "metadata": {
    "collapsed": true
   },
   "outputs": [],
   "source": [
    "def find_nested_relation(\n",
    "    relation_type, relation, cur_depth=1, max_depth=3\n",
    "):\n",
    "    if relation is None or cur_depth > max_depth:\n",
    "        return None, None\n",
    "    elif relation_type == relation.type:\n",
    "        return relation, cur_depth\n",
    "    else:\n",
    "        left_result, depth = find_nested_relation(\n",
    "            relation_type, relation.left_child, cur_depth + 1\n",
    "        )\n",
    "        if left_result is None:\n",
    "            return find_nested_relation(\n",
    "                relation_type, relation.right_child, cur_depth + 1\n",
    "            )\n",
    "        else:\n",
    "            return left_result, depth"
   ]
  },
  {
   "cell_type": "code",
   "execution_count": 7,
   "metadata": {
    "collapsed": true
   },
   "outputs": [],
   "source": [
    "# Testing\n",
    "\n",
    "# %run ./relation_extraction.ipynb\n",
    "\n",
    "# relation = Relation(\n",
    "#     \"Explanation\", \n",
    "#     1, \n",
    "#     None,\n",
    "#     Relation(\n",
    "#         \"Background\",\n",
    "#         2,\n",
    "#         None,\n",
    "#         None,\n",
    "#         None\n",
    "#     ),\n",
    "#     None\n",
    "# )\n",
    "\n",
    "# print(find_nested_relation(\"Background\", None))\n",
    "\n",
    "# print(find_nested_relation(\"Explanation\", relation))\n",
    "\n",
    "# print(find_nested_relation(\"Background\", relation))\n",
    "\n",
    "# relation = Relation(\n",
    "#     \"Explanation\", \n",
    "#     1, \n",
    "#     None,\n",
    "#     Relation(\n",
    "#         \"Background\",\n",
    "#         2,\n",
    "#         None,\n",
    "#         None,\n",
    "#         None\n",
    "#     ),\n",
    "#     Relation(\n",
    "#         \"Background\",\n",
    "#         3,\n",
    "#         None,\n",
    "#         Relation(\n",
    "#             \"Elaboration\",\n",
    "#             4,\n",
    "#             None,\n",
    "#             None,\n",
    "#             None\n",
    "#         ),\n",
    "#         None\n",
    "#     )\n",
    "# )\n",
    "\n",
    "# print(find_nested_relation(\"Background\", relation))\n",
    "\n",
    "# print(find_nested_relation(\"Elaboration\", relation))"
   ]
  },
  {
   "cell_type": "code",
   "execution_count": null,
   "metadata": {
    "collapsed": true
   },
   "outputs": [],
   "source": [
    "with open(\"aux/connectives.txt\", \"rt\") as f:\n",
    "    connectives = set(\n",
    "        [line.strip() for line in f.readlines()]\n",
    "    )"
   ]
  },
  {
   "cell_type": "code",
   "execution_count": null,
   "metadata": {
    "collapsed": true
   },
   "outputs": [],
   "source": [
    "punctuation = set([\".\", \",\", \"!\", \"?\", \";\"])"
   ]
  },
  {
   "cell_type": "code",
   "execution_count": null,
   "metadata": {
    "collapsed": true
   },
   "outputs": [],
   "source": [
    "def remove_trailing_punctuation(string):\n",
    "    if len(string) == 0 or string[-1] not in punctuation:\n",
    "        return string\n",
    "    else:\n",
    "        return string[:-1]"
   ]
  },
  {
   "cell_type": "code",
   "execution_count": null,
   "metadata": {
    "collapsed": true
   },
   "outputs": [],
   "source": [
    "def fix_spacing(string):\n",
    "    if len(string) > 0 and string[-1] in punctuation:\n",
    "        return string[:-1].strip() + string[-1]\n",
    "    else:\n",
    "        return string"
   ]
  },
  {
   "cell_type": "code",
   "execution_count": null,
   "metadata": {
    "collapsed": true
   },
   "outputs": [],
   "source": [
    "def remove_leading_punctuation(string):\n",
    "    if len(string) == 0 or string[0] not in punctuation:\n",
    "        return string\n",
    "    else:\n",
    "        return string[1:].strip()"
   ]
  },
  {
   "cell_type": "code",
   "execution_count": 6,
   "metadata": {
    "collapsed": true
   },
   "outputs": [],
   "source": [
    "def uppercase_first_letter(string):\n",
    "    return string[:1].upper() + string[1:]"
   ]
  },
  {
   "cell_type": "code",
   "execution_count": null,
   "metadata": {
    "collapsed": true
   },
   "outputs": [],
   "source": [
    "def trim_connective(string):\n",
    "    lower = string.lower()\n",
    "    for c in connectives:\n",
    "        if lower[:len(c)] == c:\n",
    "            if (\n",
    "                c != \"last\" \n",
    "                or (len(lower) > len(c) and lower[len(c)] == \",\")\n",
    "            ):\n",
    "                return remove_leading_punctuation(\n",
    "                    string[len(c):]\n",
    "                )\n",
    "            else:\n",
    "                return string\n",
    "    return string"
   ]
  },
  {
   "cell_type": "code",
   "execution_count": null,
   "metadata": {
    "collapsed": true
   },
   "outputs": [],
   "source": [
    "def get_relation_type(relation):\n",
    "    if relation is None:\n",
    "        return \"-\"\n",
    "    else:\n",
    "        return relation.type"
   ]
  },
  {
   "cell_type": "code",
   "execution_count": null,
   "metadata": {
    "collapsed": true
   },
   "outputs": [],
   "source": [
    "def remove_extra_space(s):\n",
    "    return \" \".join(s.split())\n",
    "\n",
    "\n",
    "def contains_any_of(s, s_array):\n",
    "    for other_s in s_array:\n",
    "        if other_s in s:\n",
    "            return True\n",
    "    return False"
   ]
  },
  {
   "cell_type": "code",
   "execution_count": null,
   "metadata": {
    "collapsed": true
   },
   "outputs": [],
   "source": [
    "def is_nn(relation):\n",
    "    return (\n",
    "        relation is not None\n",
    "            and relation.left.type == \"N\"\n",
    "            and relation.right.type == \"N\"\n",
    "    )"
   ]
  },
  {
   "cell_type": "code",
   "execution_count": 10,
   "metadata": {},
   "outputs": [
    {
     "name": "stdout",
     "output_type": "stream",
     "text": [
      "importing Jupyter notebook from relation_extraction.ipynb\n"
     ]
    }
   ],
   "source": [
    "def is_background(relation):\n",
    "    return relation is not None and relation.type == \"Background\"\n",
    "\n",
    "\n",
    "def has_nested_background(relation):\n",
    "    return (\n",
    "        relation is not None\n",
    "        and\n",
    "        (\n",
    "            is_background(relation.left_child)\n",
    "            or is_background(relation.right_child)\n",
    "            or has_nested_background(relation.left_child)\n",
    "            or has_nested_background(relation.right_child)\n",
    "        )\n",
    "    )\n",
    "\n",
    "\n",
    "if __name__ == \"__main__\" and \"__file__\" not in globals():\n",
    "    \n",
    "    import import_ipynb\n",
    "    import relation_extraction\n",
    "    \n",
    "    def test__has_nested_background():\n",
    "        r010 = relation_extraction.Relation(\"Background\", None, None, None, None)\n",
    "        r011 = relation_extraction.Relation(\"-\", None, None, None, None)\n",
    "        r000 = relation_extraction.Relation(\"-\", None, None, None, None)\n",
    "        r001 = relation_extraction.Relation(\"-\", None, None, None, None)\n",
    "        r01  = relation_extraction.Relation(\"-\", None, None, r010, r011)\n",
    "        r00  = relation_extraction.Relation(\"-\", None, None, r000, r001)\n",
    "        r0   = relation_extraction.Relation(\"-\", None, None, r00, r01)\n",
    "\n",
    "        assert has_nested_background(r0)\n",
    "\n",
    "        r010 = relation_extraction.Relation(\"-\", None, None, None, None)\n",
    "        r011 = relation_extraction.Relation(\"-\", None, None, None, None)\n",
    "        r000 = relation_extraction.Relation(\"-\", None, None, None, None)\n",
    "        r001 = relation_extraction.Relation(\"-\", None, None, None, None)\n",
    "        r01  = relation_extraction.Relation(\"-\", None, None, r010, r011)\n",
    "        r00  = relation_extraction.Relation(\"-\", None, None, r000, r001)\n",
    "        r0   = relation_extraction.Relation(\"-\", None, None, r00, r01)\n",
    "\n",
    "        assert has_nested_background(r0) is False\n",
    "\n",
    "        r010 = relation_extraction.Relation(\"-\", None, None, None, None)\n",
    "        r011 = relation_extraction.Relation(\"-\", None, None, None, None)\n",
    "        r000 = relation_extraction.Relation(\"-\", None, None, None, None)\n",
    "        r001 = relation_extraction.Relation(\"-\", None, None, None, None)\n",
    "        r01  = relation_extraction.Relation(\"Background\", None, None, r010, r011)\n",
    "        r00  = relation_extraction.Relation(\"-\", None, None, r000, r001)\n",
    "        r0   = relation_extraction.Relation(\"-\", None, None, r00, r01)\n",
    "\n",
    "        assert has_nested_background(r0)\n",
    "\n",
    "        assert has_nested_background(None) is False\n",
    "\n",
    "\n",
    "    test__has_nested_background()"
   ]
  },
  {
   "cell_type": "code",
   "execution_count": 10,
   "metadata": {
    "collapsed": true
   },
   "outputs": [],
   "source": [
    "def fix_quotes(sent):\n",
    "#     stripped = sent.strip()\n",
    "#     if len(stripped) > 0 and stripped[0] in {\"'\", '\"', '`'}:\n",
    "#         return '\"' + stripped.strip(\"'\\\"`\") + '\"'\n",
    "#     else:\n",
    "#         return sent\n",
    "    assert sent is not None\n",
    "    return '\"' + sent.strip(\"'\\\"`\") + '\"'"
   ]
  }
 ],
 "metadata": {
  "kernelspec": {
   "display_name": "Python 3",
   "language": "python",
   "name": "python3"
  },
  "language_info": {
   "codemirror_mode": {
    "name": "ipython",
    "version": 3
   },
   "file_extension": ".py",
   "mimetype": "text/x-python",
   "name": "python",
   "nbconvert_exporter": "python",
   "pygments_lexer": "ipython3",
   "version": "3.6.3"
  }
 },
 "nbformat": 4,
 "nbformat_minor": 2
}
