{
 "cells": [
  {
   "cell_type": "code",
   "execution_count": 1,
   "metadata": {},
   "outputs": [],
   "source": [
    "from typing import List, Optional\n",
    "\n",
    "from nltk.tokenize import word_tokenize"
   ]
  },
  {
   "cell_type": "code",
   "execution_count": 2,
   "metadata": {},
   "outputs": [],
   "source": [
    "def print_if_verbose(text: str, verbose: bool) -> None:\n",
    "    \"\"\"Print text if verbose is True.\"\"\"\n",
    "    if verbose:\n",
    "        print(text)"
   ]
  },
  {
   "cell_type": "code",
   "execution_count": 3,
   "metadata": {},
   "outputs": [],
   "source": [
    "def lowercase_and_tokenize(s: str) -> List[str]:\n",
    "    \"\"\"Split into tokens and lowercase them.\"\"\"\n",
    "    return [t.lower() for t in word_tokenize(s)]\n",
    "\n",
    "\n",
    "def get_first_token(s: str) -> Optional[str]:\n",
    "    \"\"\"Return the first token.\n",
    "\n",
    "    If s is empty, None is returned. The returned\n",
    "    token is lowercased.\n",
    "    \"\"\"\n",
    "    tokenized = word_tokenize(s)\n",
    "    if len(tokenized) == 0:\n",
    "        return None\n",
    "    else:\n",
    "        return tokenized[0].lower()"
   ]
  },
  {
   "cell_type": "code",
   "execution_count": 4,
   "metadata": {},
   "outputs": [],
   "source": [
    "punctuation = set([\".\", \",\", \"!\", \"?\", \";\"])  # punctuation symbols\n",
    "\n",
    "\n",
    "def remove_trailing_punctuation(string: str) -> str:\n",
    "    \"\"\"Remove the last character if it is a punctuation symbol.\"\"\"\n",
    "    if len(string) == 0 or string[-1] not in punctuation:\n",
    "        return string\n",
    "    else:\n",
    "        return string[:-1]\n",
    "\n",
    "\n",
    "def fix_spacing(string: str) -> str:\n",
    "    \"\"\"Removes space before the last character if it's a punctuation symbol.\"\"\"\n",
    "    if len(string) > 0 and string[-1] in punctuation:\n",
    "        return string[:-1].strip() + string[-1]\n",
    "    else:\n",
    "        return string\n",
    "\n",
    "\n",
    "def remove_leading_punctuation(string: str) -> str:\n",
    "    \"\"\"Removes the first character if it is a punctuation symbol.\"\"\"\n",
    "    if len(string) == 0 or string[0] not in punctuation:\n",
    "        return string\n",
    "    else:\n",
    "        return string[1:].strip()"
   ]
  },
  {
   "cell_type": "code",
   "execution_count": 5,
   "metadata": {},
   "outputs": [],
   "source": [
    "def uppercase_first_letter(string: str) -> str:\n",
    "    \"\"\"Uppercase the first character.\n",
    "\n",
    "    The function skips over space, quotation marks, and/or brackets at\n",
    "    the beginning of the string.\n",
    "    \"\"\"\n",
    "    pointer = 0\n",
    "    while pointer < len(string) and (\n",
    "        string[pointer] in {\"'\", '\"', \"(\", \"{\", \"[\"}\n",
    "        or string[pointer].isspace()\n",
    "    ):\n",
    "        pointer += 1\n",
    "    if pointer >= len(string):\n",
    "        return string\n",
    "    else:\n",
    "        return (\n",
    "            string[:pointer]\n",
    "            + string[pointer].upper()\n",
    "            + string[(pointer + 1) :]\n",
    "        )"
   ]
  },
  {
   "cell_type": "code",
   "execution_count": 7,
   "metadata": {},
   "outputs": [],
   "source": [
    "# Loading connectives\n",
    "with open(\"aux/connectives.txt\", \"rt\") as f:\n",
    "    connectives = set([line.strip() for line in f.readlines()])\n",
    "\n",
    "\n",
    "def trim_connective(string: str) -> str:\n",
    "    \"\"\"Remove a connective at the beginning of string.\"\"\"\n",
    "    lower = string.lower()\n",
    "    for c in connectives:\n",
    "        if lower[: len(c)] == c:\n",
    "            if c != \"last\" or (len(lower) > len(c) and lower[len(c)] == \",\"):\n",
    "                return remove_leading_punctuation(string[len(c) :])\n",
    "            else:\n",
    "                return string\n",
    "    return string"
   ]
  },
  {
   "cell_type": "code",
   "execution_count": 8,
   "metadata": {},
   "outputs": [],
   "source": [
    "def get_relation_type(relation):\n",
    "    \"\"\"Returns the type of the relation.\n",
    "\n",
    "    If the relation parameter is None, '-' is returned.\n",
    "    \"\"\"\n",
    "    if relation is None:\n",
    "        return \"-\"\n",
    "    else:\n",
    "        return relation.type"
   ]
  },
  {
   "cell_type": "code",
   "execution_count": 9,
   "metadata": {},
   "outputs": [],
   "source": [
    "def remove_extra_space(s: str) -> str:\n",
    "    \"\"\"Remove excessive whitespace characters.\n",
    "\n",
    "    E.g. \"foo    bar\" -> \"foo bar\"\n",
    "    \"\"\"\n",
    "    return \" \".join(s.split())\n",
    "\n",
    "\n",
    "def contains_any_of(s: str, s_array: List[str]) -> bool:\n",
    "    \"\"\"Check if s contains a string from s_array.\n",
    "\n",
    "    If a string from s_array is a substring of s, return True.\n",
    "    Otherwise return False.\n",
    "    \"\"\"\n",
    "    for other_s in s_array:\n",
    "        if other_s in s:\n",
    "            return True\n",
    "    return False"
   ]
  },
  {
   "cell_type": "code",
   "execution_count": 10,
   "metadata": {},
   "outputs": [],
   "source": [
    "def is_nn(relation):\n",
    "    \"\"\"Check if a given relation consists of two nuclei.\"\"\"\n",
    "    return (\n",
    "        relation is not None\n",
    "        and relation.left.type == \"N\"\n",
    "        and relation.right.type == \"N\"\n",
    "    )"
   ]
  },
  {
   "cell_type": "code",
   "execution_count": 11,
   "metadata": {},
   "outputs": [],
   "source": [
    "def fix_quotes(sent: str) -> str:\n",
    "    \"\"\"Fix enclosing quotes.\n",
    "\n",
    "    Strips off the existing quotes and replace them\n",
    "    with \".\n",
    "    \"\"\"\n",
    "    #     stripped = sent.strip()\n",
    "    #     if len(stripped) > 0 and stripped[0] in {\"'\", '\"', '`'}:\n",
    "    #         return '\"' + stripped.strip(\"'\\\"`\") + '\"'\n",
    "    #     else:\n",
    "    #         return sent\n",
    "    assert sent is not None\n",
    "    return '\"' + sent.strip(\"'\\\"`\") + '\"'"
   ]
  },
  {
   "cell_type": "code",
   "execution_count": 12,
   "metadata": {},
   "outputs": [
    {
     "name": "stdout",
     "output_type": "stream",
     "text": [
      "importing Jupyter notebook from relation_extraction.ipynb\n"
     ]
    }
   ],
   "source": [
    "def is_background(relation):\n",
    "    \"\"\"Check if a given relation is Background.\"\"\"\n",
    "    return relation is not None and relation.type == \"Background\"\n",
    "\n",
    "\n",
    "def has_nested_background(relation):\n",
    "    \"\"\"Check if a given relation has nested Background subrelations.\"\"\"\n",
    "    return relation is not None and (\n",
    "        is_background(relation.left_child)\n",
    "        or is_background(relation.right_child)\n",
    "        or has_nested_background(relation.left_child)\n",
    "        or has_nested_background(relation.right_child)\n",
    "    )\n",
    "\n",
    "\n",
    "if __name__ == \"__main__\" and \"__file__\" not in globals():\n",
    "\n",
    "    import import_ipynb  # noqa: F401, needed to import relation_extraction\n",
    "    import relation_extraction\n",
    "\n",
    "    def test__has_nested_background():\n",
    "        r010 = relation_extraction.Relation(\n",
    "            \"Background\", None, None, None, None\n",
    "        )\n",
    "        r011 = relation_extraction.Relation(\"-\", None, None, None, None)\n",
    "        r000 = relation_extraction.Relation(\"-\", None, None, None, None)\n",
    "        r001 = relation_extraction.Relation(\"-\", None, None, None, None)\n",
    "        r01 = relation_extraction.Relation(\"-\", None, None, r010, r011)\n",
    "        r00 = relation_extraction.Relation(\"-\", None, None, r000, r001)\n",
    "        r0 = relation_extraction.Relation(\"-\", None, None, r00, r01)\n",
    "\n",
    "        assert has_nested_background(r0)\n",
    "\n",
    "        r010 = relation_extraction.Relation(\"-\", None, None, None, None)\n",
    "        r011 = relation_extraction.Relation(\"-\", None, None, None, None)\n",
    "        r000 = relation_extraction.Relation(\"-\", None, None, None, None)\n",
    "        r001 = relation_extraction.Relation(\"-\", None, None, None, None)\n",
    "        r01 = relation_extraction.Relation(\"-\", None, None, r010, r011)\n",
    "        r00 = relation_extraction.Relation(\"-\", None, None, r000, r001)\n",
    "        r0 = relation_extraction.Relation(\"-\", None, None, r00, r01)\n",
    "\n",
    "        assert has_nested_background(r0) is False\n",
    "\n",
    "        r010 = relation_extraction.Relation(\"-\", None, None, None, None)\n",
    "        r011 = relation_extraction.Relation(\"-\", None, None, None, None)\n",
    "        r000 = relation_extraction.Relation(\"-\", None, None, None, None)\n",
    "        r001 = relation_extraction.Relation(\"-\", None, None, None, None)\n",
    "        r01 = relation_extraction.Relation(\n",
    "            \"Background\", None, None, r010, r011\n",
    "        )\n",
    "        r00 = relation_extraction.Relation(\"-\", None, None, r000, r001)\n",
    "        r0 = relation_extraction.Relation(\"-\", None, None, r00, r01)\n",
    "\n",
    "        assert has_nested_background(r0)\n",
    "\n",
    "        assert has_nested_background(None) is False\n",
    "\n",
    "    test__has_nested_background()"
   ]
  }
 ],
 "metadata": {
  "kernelspec": {
   "display_name": "Python 3",
   "language": "python",
   "name": "python3"
  },
  "language_info": {
   "codemirror_mode": {
    "name": "ipython",
    "version": 3
   },
   "file_extension": ".py",
   "mimetype": "text/x-python",
   "name": "python",
   "nbconvert_exporter": "python",
   "pygments_lexer": "ipython3",
   "version": "3.7.6"
  }
 },
 "nbformat": 4,
 "nbformat_minor": 2
}
