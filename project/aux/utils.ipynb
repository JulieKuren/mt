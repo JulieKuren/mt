{
 "cells": [
  {
   "cell_type": "code",
   "execution_count": 42,
   "metadata": {
    "collapsed": true
   },
   "outputs": [],
   "source": [
    "import enum\n",
    "import collections\n",
    "import re"
   ]
  },
  {
   "cell_type": "code",
   "execution_count": 43,
   "metadata": {
    "collapsed": true
   },
   "outputs": [],
   "source": [
    "from nltk.tokenize import word_tokenize\n",
    "from nltk import pos_tag"
   ]
  },
  {
   "cell_type": "code",
   "execution_count": null,
   "metadata": {
    "collapsed": true
   },
   "outputs": [],
   "source": [
    "def print_if_verbose(text, verbose):\n",
    "    if verbose:\n",
    "        print(text)"
   ]
  },
  {
   "cell_type": "code",
   "execution_count": 44,
   "metadata": {
    "collapsed": true
   },
   "outputs": [],
   "source": [
    "clean_re = re.compile(\"\\s+([.,?!'])\")\n",
    "\n",
    "\n",
    "def clean(string):\n",
    "    cleaned = string.replace(\"<s>\", \"\").replace(\"<P>\", \"\")\n",
    "    cleaned = clean_re.sub(\"\\\\1\", cleaned)\n",
    "    return cleaned.strip()"
   ]
  },
  {
   "cell_type": "code",
   "execution_count": 45,
   "metadata": {
    "collapsed": true
   },
   "outputs": [],
   "source": [
    "def tokenize(s):\n",
    "    return [t.lower() for t in word_tokenize(s)]\n",
    "\n",
    "\n",
    "def get_first_token(s):\n",
    "    tokenized = word_tokenize(s)\n",
    "    if len(tokenized) == 0:\n",
    "        return None\n",
    "    else:\n",
    "        return tokenized[0].lower()"
   ]
  },
  {
   "cell_type": "code",
   "execution_count": 46,
   "metadata": {
    "collapsed": true
   },
   "outputs": [],
   "source": [
    "def find_nested_relation(\n",
    "    relation_type, relation, cur_depth=1, max_depth=3\n",
    "):\n",
    "    if relation is None or cur_depth > max_depth:\n",
    "        return None, None\n",
    "    elif relation_type == relation.type:\n",
    "        return relation, cur_depth\n",
    "    else:\n",
    "        left_result, depth = find_nested_relation(\n",
    "            relation_type, relation.left_child, cur_depth + 1\n",
    "        )\n",
    "        if left_result is None:\n",
    "            return find_nested_relation(\n",
    "                relation_type, relation.right_child, cur_depth + 1\n",
    "            )\n",
    "        else:\n",
    "            return left_result, depth"
   ]
  },
  {
   "cell_type": "code",
   "execution_count": 47,
   "metadata": {
    "collapsed": true
   },
   "outputs": [],
   "source": [
    "# Testing\n",
    "\n",
    "# %run ./relation_extraction.ipynb\n",
    "\n",
    "# relation = Relation(\n",
    "#     \"Explanation\", \n",
    "#     1, \n",
    "#     None,\n",
    "#     Relation(\n",
    "#         \"Background\",\n",
    "#         2,\n",
    "#         None,\n",
    "#         None,\n",
    "#         None\n",
    "#     ),\n",
    "#     None\n",
    "# )\n",
    "\n",
    "# print(find_nested_relation(\"Background\", None))\n",
    "\n",
    "# print(find_nested_relation(\"Explanation\", relation))\n",
    "\n",
    "# print(find_nested_relation(\"Background\", relation))\n",
    "\n",
    "# relation = Relation(\n",
    "#     \"Explanation\", \n",
    "#     1, \n",
    "#     None,\n",
    "#     Relation(\n",
    "#         \"Background\",\n",
    "#         2,\n",
    "#         None,\n",
    "#         None,\n",
    "#         None\n",
    "#     ),\n",
    "#     Relation(\n",
    "#         \"Background\",\n",
    "#         3,\n",
    "#         None,\n",
    "#         Relation(\n",
    "#             \"Elaboration\",\n",
    "#             4,\n",
    "#             None,\n",
    "#             None,\n",
    "#             None\n",
    "#         ),\n",
    "#         None\n",
    "#     )\n",
    "# )\n",
    "\n",
    "# print(find_nested_relation(\"Background\", relation))\n",
    "\n",
    "# print(find_nested_relation(\"Elaboration\", relation))"
   ]
  },
  {
   "cell_type": "code",
   "execution_count": 48,
   "metadata": {
    "collapsed": true
   },
   "outputs": [],
   "source": [
    "with open(\"aux/connectives.txt\", \"rt\") as f:\n",
    "    connectives = set(\n",
    "        [line.strip() for line in f.readlines()]\n",
    "    )"
   ]
  },
  {
   "cell_type": "code",
   "execution_count": 49,
   "metadata": {
    "collapsed": true
   },
   "outputs": [],
   "source": [
    "punctuation = set([\".\", \",\", \"!\", \"?\", \";\"])"
   ]
  },
  {
   "cell_type": "code",
   "execution_count": 50,
   "metadata": {
    "collapsed": true
   },
   "outputs": [],
   "source": [
    "def remove_trailing_punctuation(string):\n",
    "    if len(string) == 0 or string[-1] not in punctuation:\n",
    "        return string\n",
    "    else:\n",
    "        return string[:-1]"
   ]
  },
  {
   "cell_type": "code",
   "execution_count": 51,
   "metadata": {
    "collapsed": true
   },
   "outputs": [],
   "source": [
    "def remove_leading_punctuation(string):\n",
    "    if len(string) == 0 or string[0] not in punctuation:\n",
    "        return string\n",
    "    else:\n",
    "        return string[1:].strip()"
   ]
  },
  {
   "cell_type": "code",
   "execution_count": 65,
   "metadata": {
    "collapsed": true
   },
   "outputs": [],
   "source": [
    "def lowercase_first_letter(string):\n",
    "    if \"\".join(word_tokenize(string)[:1]) != \"I\":\n",
    "        return string[:1].lower() + string[1:]\n",
    "    else:\n",
    "        return string\n",
    "\n",
    "\n",
    "def uppercase_first_letter(string):\n",
    "    return string[:1].upper() + string[1:]"
   ]
  },
  {
   "cell_type": "code",
   "execution_count": 53,
   "metadata": {
    "collapsed": true
   },
   "outputs": [],
   "source": [
    "def trim_connective(string):\n",
    "    lower = string.lower()\n",
    "    for c in connectives:\n",
    "        if lower[:len(c)] == c:\n",
    "            if (\n",
    "                c != \"last\" \n",
    "                or (len(lower) > len(c) and lower[len(c)] == \",\")\n",
    "            ):\n",
    "                return remove_leading_punctuation(\n",
    "                    string[len(c):]\n",
    "                )\n",
    "            else:\n",
    "                return string\n",
    "    return string"
   ]
  },
  {
   "cell_type": "code",
   "execution_count": 54,
   "metadata": {
    "collapsed": true
   },
   "outputs": [],
   "source": [
    "def search_segment(text, relation, direction, verbose=False):\n",
    "    if direction == \"left\":\n",
    "        child, segment = relation.left_child, relation.left\n",
    "    else:\n",
    "        child, segment = relation.right_child, relation.right\n",
    "    print_if_verbose(text[segment.start:segment.end], verbose)\n",
    "    if child:\n",
    "        return search_segment(\n",
    "            text, \n",
    "            child, \n",
    "            direction\n",
    "        )\n",
    "    else:\n",
    "        return text[segment.start:segment.end]\n",
    "    \n",
    "    \n",
    "def get_depth(relation):\n",
    "    if relation:\n",
    "        return 1 + max(\n",
    "            get_depth(relation.left_child), \n",
    "            get_depth(relation.right_child)\n",
    "        )\n",
    "    else:\n",
    "        return 0"
   ]
  },
  {
   "cell_type": "code",
   "execution_count": 63,
   "metadata": {
    "collapsed": true
   },
   "outputs": [],
   "source": [
    "RelationPartInfo = collections.namedtuple(\n",
    "    \"RelationPartInfo\", [\"direction\", \"relation\", \"segment\"]\n",
    ")\n",
    "\n",
    "\n",
    "@enum.unique\n",
    "class NucleusProximity(enum.Enum):\n",
    "    NEAR = \"near\"\n",
    "    FAR = \"far\"\n",
    "    \n",
    "    \n",
    "class RelationInfo:\n",
    "    def __init__(self, nucleus_info, satellite_info):\n",
    "        self.nucleus_info = nucleus_info\n",
    "        self.satellite_info = satellite_info\n",
    "\n",
    "\n",
    "def get_info(relation, verbose=False):\n",
    "    if relation.left.type == \"N\":\n",
    "        print_if_verbose(\"Nucleus is on the left.\", verbose)\n",
    "        nucleus_info = RelationPartInfo(\n",
    "            \"right\", relation.left_child, relation.left\n",
    "        )\n",
    "        satellite_info = RelationPartInfo(\n",
    "            \"left\", relation.right_child, relation.right\n",
    "        )\n",
    "    else:\n",
    "        print_if_verbose(\"Nucleus is on the right.\", verbose)\n",
    "        nucleus_info = RelationPartInfo(\n",
    "            \"left\", relation.right_child, relation.right\n",
    "        )\n",
    "        satellite_info = RelationPartInfo(\n",
    "            \"right\", relation.left_child, relation.left\n",
    "        )\n",
    "    return RelationInfo(\n",
    "        nucleus_info, satellite_info\n",
    "    )\n",
    "\n",
    "\n",
    "def extract_nuclei(\n",
    "    text,\n",
    "    relation_info,\n",
    "    satellite_nucleus_relation,\n",
    "    satellite_nucleus_segment,\n",
    "    verbose=False\n",
    "):\n",
    "    nucleus_info = relation_info.nucleus_info\n",
    "    satellite_info = relation_info.satellite_info\n",
    "    \n",
    "    # if there are nested relations in the nucleus\n",
    "    # and there are too many of them\n",
    "    if nucleus_info.relation and get_depth(nucleus_info.relation) > 3:\n",
    "        nucleus_text = clean( \n",
    "            search_segment( # take the closest nested segment relative to the satellite\n",
    "                text, \n",
    "                nucleus_info.relation,\n",
    "                nucleus_info.direction\n",
    "            )\n",
    "        )\n",
    "    else: # else take the nucleus as is\n",
    "        nucleus_text = clean(\n",
    "            text[nucleus_info.segment.start:nucleus_info.segment.end]\n",
    "        )   \n",
    "\n",
    "    # checking if the nucleus of the satellite is on the right/left\n",
    "    if satellite_info.relation.left.type == \"N\":\n",
    "        print_if_verbose(\"Satellite's nucleus is on the left.\", verbose)\n",
    "        if nucleus_info.direction == \"right\": # if the expl. nucleus is on the left\n",
    "            nucleus_proximity = NucleusProximity.NEAR\n",
    "        else:\n",
    "            nucleus_proximity = NucleusProximity.FAR\n",
    "    else:\n",
    "        print_if_verbose(\"Satellite's nucleus is on the right.\", verbose)\n",
    "        if nucleus_info.direction == \"right\":\n",
    "            nucleus_proximity = NucleusProximity.FAR\n",
    "        else:\n",
    "            nucleus_proximity = NucleusProximity.NEAR\n",
    "    print_if_verbose(f\"Nuclei proximity is {nucleus_proximity}\", verbose)\n",
    "\n",
    "    # if there are nested relations in the satellite nucleus\n",
    "    # and there are too many of them\n",
    "    if (\n",
    "        satellite_nucleus_relation \n",
    "        and get_depth(satellite_nucleus_relation) > 3\n",
    "    ):\n",
    "        satellite_nucleus_text = clean(\n",
    "            search_segment(# take the closest nested segment relative to the nucleus\n",
    "                text, \n",
    "                satellite_nucleus_relation, \n",
    "                satellite_info.direction,\n",
    "                verbose\n",
    "            )\n",
    "        )\n",
    "    else: # else take the satellite nucleus as is\n",
    "        print_if_verbose(\n",
    "            \"Satellite doesn't have nested relations or its depth is too small.\", verbose\n",
    "        )\n",
    "        satellite_nucleus_text = clean(\n",
    "            text[\n",
    "                satellite_nucleus_segment.start\n",
    "                :satellite_nucleus_segment.end\n",
    "            ]\n",
    "        )\n",
    "\n",
    "    return nucleus_text, satellite_nucleus_text, nucleus_proximity\n",
    "\n",
    "\n",
    "class ExtendedRelationInfo(RelationInfo):\n",
    "    def __init__(\n",
    "        self, rel_info, nucleus_text, nucleus_proximity, sn_relation, sn_segment, sn_text\n",
    "    ):\n",
    "        RelationInfo.__init__(self, rel_info.nucleus_info, rel_info.satellite_info)\n",
    "        self.nucleus_text = nucleus_text\n",
    "        self.nucleus_proximity = nucleus_proximity\n",
    "        self.sn_relation = sn_relation\n",
    "        self.sn_segment = sn_segment\n",
    "        self.sn_text = sn_text\n",
    "\n",
    "\n",
    "wh_words = {\n",
    "    \"what\",\n",
    "    \"when\",\n",
    "    \"where\",\n",
    "    \"why\",\n",
    "    \"which\",\n",
    "    \"how\"\n",
    "}\n",
    "\n",
    "\n",
    "SatelliteNucleusCheckResult = collections.namedtuple(\n",
    "    \"SatelliteNucleusCheckResult\", [\"is_ok\", \"new_satellite_nucleus_text\"]\n",
    ")\n",
    "\n",
    "\n",
    "def check_satellite_nucleus(satellite_nucleus_text, verbose=False):\n",
    "    if len(satellite_nucleus_text) == 0:\n",
    "        return SatelliteNucleusCheckResult(False, satellite_nucleus_text)\n",
    "    \n",
    "    sn_tokens = tokenize(satellite_nucleus_text)\n",
    "    pointer = 1\n",
    "    has_wh_word = False\n",
    "    while pointer < len(sn_tokens):\n",
    "        if sn_tokens[pointer] in wh_words:\n",
    "            has_wh_word = True\n",
    "            break\n",
    "        pointer += 1\n",
    "    if has_wh_word:\n",
    "        print_if_verbose(\n",
    "            \"Satellite's nucleus contains a wh-word or 'how' in the middle \"\n",
    "            \"and will be cut at its position.\", \n",
    "            verbose\n",
    "        )\n",
    "        return SatelliteNucleusCheckResult(True, \" \".join(sn_tokens[:pointer]) + \".\")\n",
    "    else:\n",
    "        print_if_verbose(\"Satellite doesn't contain a wh-word or 'how'.\", verbose)\n",
    "        assert len(sn_tokens) > 0\n",
    "        if sn_tokens[-1] in {\".\", \"!\", \"?\"}:\n",
    "            return SatelliteNucleusCheckResult(True, satellite_nucleus_text)\n",
    "        else:\n",
    "            print_if_verbose(\"Satellite doesn't end with a punctuation mark.\", verbose)\n",
    "            return SatelliteNucleusCheckResult(False, satellite_nucleus_text)\n",
    "    \n",
    "    \n",
    "def prepare_extended_info(text, relation, verbose=False):\n",
    "    rel_info = get_info(relation, verbose)\n",
    "    \n",
    "    if rel_info.satellite_info.relation is None:\n",
    "        print_if_verbose(\"Satellite doesn't have nested relations.\", verbose)\n",
    "        return None\n",
    "    \n",
    "    sn_relation, sn_segment = rel_info.satellite_info.relation.get_first_nucleus()\n",
    "    \n",
    "    if sn_segment is None:\n",
    "        print_if_verbose(\"Failed to get the segment of the satellites' nucleus.\", verbose)\n",
    "        return None\n",
    "        \n",
    "    nucleus_text, satellite_nucleus_text, nucleus_proximity = extract_nuclei(\n",
    "        text,\n",
    "        rel_info,\n",
    "        sn_relation,\n",
    "        sn_segment,\n",
    "        verbose\n",
    "    )\n",
    "    \n",
    "    if len(nucleus_text) == 0:\n",
    "        print_if_verbose(\"Nucleus is empty.\", verbose)\n",
    "        return None\n",
    "    \n",
    "    if len(satellite_nucleus_text) == 0:\n",
    "        print_if_verbose(\"Satellite's nucleus is empty.\", verbose)\n",
    "        return None\n",
    "    \n",
    "    if nucleus_text[-1:] not in {\".\", \"!\", \"?\", \";\"}:\n",
    "        print_if_verbose(\"Nucleus doesn't end with a punctuation mark.\", verbose)\n",
    "        return None\n",
    "    \n",
    "    sn_check_result = check_satellite_nucleus(satellite_nucleus_text, verbose)\n",
    "    if not sn_check_result.is_ok:\n",
    "        return None\n",
    "    \n",
    "    return ExtendedRelationInfo(\n",
    "        rel_info=rel_info,\n",
    "        nucleus_text=nucleus_text,\n",
    "        nucleus_proximity=nucleus_proximity,\n",
    "        sn_relation=sn_relation,\n",
    "        sn_segment=sn_segment,\n",
    "        sn_text=sn_check_result.new_satellite_nucleus_text\n",
    "    )"
   ]
  },
  {
   "cell_type": "code",
   "execution_count": 62,
   "metadata": {
    "collapsed": true
   },
   "outputs": [],
   "source": [
    "def get_relation_type(relation):\n",
    "    if relation is None:\n",
    "        return \"-\"\n",
    "    else:\n",
    "        return relation.type"
   ]
  },
  {
   "cell_type": "code",
   "execution_count": 4,
   "metadata": {
    "collapsed": true
   },
   "outputs": [],
   "source": [
    "def remove_extra_space(s):\n",
    "    return \" \".join(s.split())\n",
    "\n",
    "\n",
    "def contains_any_of(s, s_array):\n",
    "    for other_s in s_array:\n",
    "        if other_s in s:\n",
    "            return True\n",
    "    return False"
   ]
  }
 ],
 "metadata": {
  "kernelspec": {
   "display_name": "Python 3",
   "language": "python",
   "name": "python3"
  },
  "language_info": {
   "codemirror_mode": {
    "name": "ipython",
    "version": 3
   },
   "file_extension": ".py",
   "mimetype": "text/x-python",
   "name": "python",
   "nbconvert_exporter": "python",
   "pygments_lexer": "ipython3",
   "version": "3.6.3"
  }
 },
 "nbformat": 4,
 "nbformat_minor": 2
}
