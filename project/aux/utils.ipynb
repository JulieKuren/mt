{
 "cells": [
  {
   "cell_type": "code",
   "execution_count": 2,
   "metadata": {
    "collapsed": true
   },
   "outputs": [],
   "source": [
    "import re"
   ]
  },
  {
   "cell_type": "code",
   "execution_count": 26,
   "metadata": {
    "collapsed": true
   },
   "outputs": [],
   "source": [
    "from nltk.tokenize import word_tokenize\n",
    "from nltk import pos_tag"
   ]
  },
  {
   "cell_type": "code",
   "execution_count": 27,
   "metadata": {
    "collapsed": true
   },
   "outputs": [],
   "source": [
    "def print_if_verbose(text, verbose):\n",
    "    if verbose:\n",
    "        print(text)"
   ]
  },
  {
   "cell_type": "code",
   "execution_count": 29,
   "metadata": {
    "collapsed": true
   },
   "outputs": [],
   "source": [
    "def lowercase_and_tokenize(s):\n",
    "    return [t.lower() for t in word_tokenize(s)]\n",
    "\n",
    "\n",
    "def get_first_token(s):\n",
    "    tokenized = word_tokenize(s)\n",
    "    if len(tokenized) == 0:\n",
    "        return None\n",
    "    else:\n",
    "        return tokenized[0].lower()"
   ]
  },
  {
   "cell_type": "code",
   "execution_count": 30,
   "metadata": {
    "collapsed": true
   },
   "outputs": [],
   "source": [
    "def find_nested_relation(\n",
    "    relation_type, relation, cur_depth=1, max_depth=3\n",
    "):\n",
    "    if relation is None or cur_depth > max_depth:\n",
    "        return None, None\n",
    "    elif relation_type == relation.type:\n",
    "        return relation, cur_depth\n",
    "    else:\n",
    "        left_result, depth = find_nested_relation(\n",
    "            relation_type, relation.left_child, cur_depth + 1\n",
    "        )\n",
    "        if left_result is None:\n",
    "            return find_nested_relation(\n",
    "                relation_type, relation.right_child, cur_depth + 1\n",
    "            )\n",
    "        else:\n",
    "            return left_result, depth"
   ]
  },
  {
   "cell_type": "code",
   "execution_count": 31,
   "metadata": {
    "collapsed": true
   },
   "outputs": [],
   "source": [
    "# Testing\n",
    "\n",
    "# %run ./relation_extraction.ipynb\n",
    "\n",
    "# relation = Relation(\n",
    "#     \"Explanation\", \n",
    "#     1, \n",
    "#     None,\n",
    "#     Relation(\n",
    "#         \"Background\",\n",
    "#         2,\n",
    "#         None,\n",
    "#         None,\n",
    "#         None\n",
    "#     ),\n",
    "#     None\n",
    "# )\n",
    "\n",
    "# print(find_nested_relation(\"Background\", None))\n",
    "\n",
    "# print(find_nested_relation(\"Explanation\", relation))\n",
    "\n",
    "# print(find_nested_relation(\"Background\", relation))\n",
    "\n",
    "# relation = Relation(\n",
    "#     \"Explanation\", \n",
    "#     1, \n",
    "#     None,\n",
    "#     Relation(\n",
    "#         \"Background\",\n",
    "#         2,\n",
    "#         None,\n",
    "#         None,\n",
    "#         None\n",
    "#     ),\n",
    "#     Relation(\n",
    "#         \"Background\",\n",
    "#         3,\n",
    "#         None,\n",
    "#         Relation(\n",
    "#             \"Elaboration\",\n",
    "#             4,\n",
    "#             None,\n",
    "#             None,\n",
    "#             None\n",
    "#         ),\n",
    "#         None\n",
    "#     )\n",
    "# )\n",
    "\n",
    "# print(find_nested_relation(\"Background\", relation))\n",
    "\n",
    "# print(find_nested_relation(\"Elaboration\", relation))"
   ]
  },
  {
   "cell_type": "code",
   "execution_count": null,
   "metadata": {
    "collapsed": true
   },
   "outputs": [],
   "source": [
    "with open(\"aux/connectives.txt\", \"rt\") as f:\n",
    "    connectives = set(\n",
    "        [line.strip() for line in f.readlines()]\n",
    "    )"
   ]
  },
  {
   "cell_type": "code",
   "execution_count": 3,
   "metadata": {
    "collapsed": true
   },
   "outputs": [],
   "source": [
    "punctuation = set([\".\", \",\", \"!\", \"?\", \";\"])"
   ]
  },
  {
   "cell_type": "code",
   "execution_count": 4,
   "metadata": {
    "collapsed": true
   },
   "outputs": [],
   "source": [
    "def remove_trailing_punctuation(string):\n",
    "    if len(string) == 0 or string[-1] not in punctuation:\n",
    "        return string\n",
    "    else:\n",
    "        return string[:-1]"
   ]
  },
  {
   "cell_type": "code",
   "execution_count": 5,
   "metadata": {
    "collapsed": true
   },
   "outputs": [],
   "source": [
    "def fix_spacing(string):\n",
    "    if len(string) > 0 and string[-1] in punctuation:\n",
    "        return string[:-1].strip() + string[-1]\n",
    "    else:\n",
    "        return string"
   ]
  },
  {
   "cell_type": "code",
   "execution_count": 41,
   "metadata": {
    "collapsed": true
   },
   "outputs": [],
   "source": [
    "def remove_leading_punctuation(string):\n",
    "    if len(string) == 0 or string[0] not in punctuation:\n",
    "        return string\n",
    "    else:\n",
    "        return string[1:].strip()"
   ]
  },
  {
   "cell_type": "code",
   "execution_count": 42,
   "metadata": {
    "collapsed": true
   },
   "outputs": [],
   "source": [
    "def lowercase_first_letter(string):\n",
    "    if \"\".join(word_tokenize(string)[:1]) != \"I\":\n",
    "        return string[:1].lower() + string[1:]\n",
    "    else:\n",
    "        return string\n",
    "\n",
    "\n",
    "def uppercase_first_letter(string):\n",
    "    return string[:1].upper() + string[1:]"
   ]
  },
  {
   "cell_type": "code",
   "execution_count": 43,
   "metadata": {
    "collapsed": true
   },
   "outputs": [],
   "source": [
    "def trim_connective(string):\n",
    "    lower = string.lower()\n",
    "    for c in connectives:\n",
    "        if lower[:len(c)] == c:\n",
    "            if (\n",
    "                c != \"last\" \n",
    "                or (len(lower) > len(c) and lower[len(c)] == \",\")\n",
    "            ):\n",
    "                return remove_leading_punctuation(\n",
    "                    string[len(c):]\n",
    "                )\n",
    "            else:\n",
    "                return string\n",
    "    return string"
   ]
  },
  {
   "cell_type": "code",
   "execution_count": 62,
   "metadata": {
    "collapsed": true
   },
   "outputs": [],
   "source": [
    "def get_relation_type(relation):\n",
    "    if relation is None:\n",
    "        return \"-\"\n",
    "    else:\n",
    "        return relation.type"
   ]
  },
  {
   "cell_type": "code",
   "execution_count": 4,
   "metadata": {
    "collapsed": true
   },
   "outputs": [],
   "source": [
    "def remove_extra_space(s):\n",
    "    return \" \".join(s.split())\n",
    "\n",
    "\n",
    "def contains_any_of(s, s_array):\n",
    "    for other_s in s_array:\n",
    "        if other_s in s:\n",
    "            return True\n",
    "    return False"
   ]
  }
 ],
 "metadata": {
  "kernelspec": {
   "display_name": "Python 3",
   "language": "python",
   "name": "python3"
  },
  "language_info": {
   "codemirror_mode": {
    "name": "ipython",
    "version": 3
   },
   "file_extension": ".py",
   "mimetype": "text/x-python",
   "name": "python",
   "nbconvert_exporter": "python",
   "pygments_lexer": "ipython3",
   "version": "3.6.3"
  }
 },
 "nbformat": 4,
 "nbformat_minor": 2
}
