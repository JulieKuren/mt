{
 "cells": [
  {
   "cell_type": "code",
   "execution_count": 1,
   "metadata": {
    "collapsed": true
   },
   "outputs": [],
   "source": [
    "import json"
   ]
  },
  {
   "cell_type": "code",
   "execution_count": 2,
   "metadata": {
    "collapsed": true
   },
   "outputs": [],
   "source": [
    "from nltk.tokenize import word_tokenize, sent_tokenize\n",
    "from nltk.stem.snowball import SnowballStemmer"
   ]
  },
  {
   "cell_type": "code",
   "execution_count": 3,
   "metadata": {},
   "outputs": [
    {
     "name": "stdout",
     "output_type": "stream",
     "text": [
      "importing Jupyter notebook from /Users/YK/mt/project/aux/utils.ipynb\n",
      "importing Jupyter notebook from /Users/YK/mt/project/aux/nlp.ipynb\n",
      "importing Jupyter notebook from /Users/YK/mt/project/aux/relation_extraction.ipynb\n",
      "importing Jupyter notebook from /Users/YK/mt/project/aux/defs.ipynb\n",
      "importing Jupyter notebook from preparation.ipynb\n",
      "importing Jupyter notebook from rule_base.ipynb\n"
     ]
    }
   ],
   "source": [
    "import import_ipynb\n",
    "from aux import utils\n",
    "from aux import nlp\n",
    "from aux import relation_extraction\n",
    "from aux import defs\n",
    "import preparation\n",
    "import rule_base"
   ]
  },
  {
   "cell_type": "code",
   "execution_count": 4,
   "metadata": {
    "collapsed": true
   },
   "outputs": [],
   "source": [
    "class RuleExplanation06(rule_base.Rule):\n",
    "    name = \"explanation_06\"\n",
    "    relation_type = \"Explanation\"\n",
    "    reasons = {\n",
    "        \"COMMON_PATTERN_-_ELABORATION->>BACKGROUND\": \n",
    "            defs.Reason(\n",
    "                1,\n",
    "                \"Common pattern ( -Elaboration->>Background).\"\n",
    "            ),\n",
    "        \"COMMON_PATTERN_-_JOINT->>BACKGROUND\": \n",
    "            defs.Reason(\n",
    "                1,\n",
    "                \"Common pattern ( -Joint->>Background).\"\n",
    "            )\n",
    "    }\n",
    "    \n",
    "    def generate_statement(self, text, relation, verbose=False, **kwargs):\n",
    "        assert(relation is not None and relation.type == \"Explanation\")\n",
    "        info = preparation.Preprocessor.prepare_extended_info(text, relation, verbose)\n",
    "        if info is None:\n",
    "            utils.print_if_verbose(\"Extended info preparation wasn't successful.\", verbose)\n",
    "            return None\n",
    "\n",
    "        if info.satellite_info.relation is None:\n",
    "            return None\n",
    "        \n",
    "        utils.print_if_verbose(\n",
    "                \"Nucleus relation type: \"\n",
    "                f\"'{utils.get_relation_type(info.nucleus_info.relation)}'.\",\n",
    "                verbose\n",
    "            )\n",
    "        utils.print_if_verbose(\n",
    "            \"Satellite relation type: \"\n",
    "            f\"'{utils.get_relation_type(info.satellite_info.relation)}'.\",\n",
    "            verbose\n",
    "        )\n",
    "            \n",
    "        reason = None\n",
    "        \n",
    "        assert info.satellite_info.relation is not None\n",
    "        if info.nucleus_info.relation is None:\n",
    "            if (\n",
    "                info.satellite_info.relation.type == \"Elaboration\"\n",
    "                    and utils.has_nested_background(info.satellite_info.relation)\n",
    "            ):\n",
    "                reason = self.reasons[\"COMMON_PATTERN_-_ELABORATION->>BACKGROUND\"]\n",
    "            elif (\n",
    "                info.satellite_info.relation.type == \"Joint\"\n",
    "                    and utils.has_nested_background(info.satellite_info.relation)\n",
    "            ):\n",
    "                reason = self.reasons[\"COMMON_PATTERN_-_JOINT->>BACKGROUND\"]\n",
    "\n",
    "        if reason is not None:\n",
    "            utils.print_if_verbose(reason.explanation, verbose)\n",
    "            final_nucleus_text, final_sn_text = self._finalise_statement_parts(\n",
    "                info.nucleus_preparation_result.prepared_text,\n",
    "                info.satellite_preparation_result.prepared_text,\n",
    "                verbose,\n",
    "                add_punctuation=True\n",
    "            )\n",
    "            return self._generate_statement(\n",
    "                final_nucleus_text, \n",
    "                \" Also, \", \n",
    "                final_sn_text, \n",
    "                relation, \n",
    "                info.nucleus_proximity,\n",
    "                self.name,\n",
    "                reason,\n",
    "                verbose\n",
    "            )\n",
    "        else:\n",
    "            return None"
   ]
  },
  {
   "cell_type": "code",
   "execution_count": 5,
   "metadata": {
    "scrolled": false
   },
   "outputs": [
    {
     "name": "stdout",
     "output_type": "stream",
     "text": [
      "You can give your parents a happy day with a card or a joke .  It 's also lovely when a kid cleans up his or her room without being asked .  And if you try not fight with your brothers or sisters , your parents will be so happy .  Do your best at whatever you do .  \n",
      "Nucleus is on the left.\n",
      "Nucleus's depth <= 100.\n",
      "Nucleus is flat.\n",
      "Will use the whole segment.\n",
      "Satellite's nucleus is on the left.\n",
      "Nuclei proximity is NucleusProximity.NEAR\n",
      "Satellite's (left) nucleus contains '.', '!', '?', or ';'.\n",
      "Will use the whole segment.\n",
      "Text extracted from the satellite:\n",
      "It's also lovely when a kid cleans up his or her room without being asked.  And if you try not fight with your brothers or sisters, your parents will be so happy.  Do your best at whatever you do.\n",
      "Nucleus relation type: '-'.\n",
      "Satellite relation type: 'Joint'.\n",
      "Common pattern ( -Joint->>Background).\n",
      "Taking the last sentence and resolving pronouns:\n",
      "You can give your parents a happy day with a card or a joke. \n",
      "---> \n",
      "You can give your parents a happy day with a card or a joke.\n",
      "Taking the first sentence and removing leading words:\n",
      "-- syntactic parsing result\n",
      " (ROOT\n",
      "  (S\n",
      "    (NP (PRP It))\n",
      "    (VP (VBZ 's)\n",
      "      (ADVP (RB also))\n",
      "      (ADJP (JJ lovely))\n",
      "      (SBAR\n",
      "        (WHADVP (WRB when))\n",
      "        (S\n",
      "          (NP (DT a) (NN kid))\n",
      "          (VP (VBZ cleans)\n",
      "            (PRT (RP up))\n",
      "            (NP\n",
      "              (NP\n",
      "                (ADJP (PRP$ his)\n",
      "                  (CC or)\n",
      "                  (PRP$ her))\n",
      "                (NN room))\n",
      "              (PP (IN without)\n",
      "                (S\n",
      "                  (VP (VBG being)\n",
      "                    (VP (VBN asked))))))))))\n",
      "    (. .)))\n",
      "It's also lovely when a kid cleans up his or her room without being asked.  And if you try not fight with your brothers or sisters, your parents will be so happy.  Do your best at whatever you do. \n",
      "---> \n",
      "it's lovely when a kid cleans up his or her room without being asked.\n",
      "\n",
      "RESULT:\n",
      "{\n",
      "  \"statement_text\": \"You can give your parents a happy day with a card or a joke. Also, it's lovely when a kid cleans up his or her room without being asked.\",\n",
      "  \"nucleus\": \"You can give your parents a happy day with a card or a joke.\",\n",
      "  \"connective\": \" Also, \",\n",
      "  \"satellite_nucleus\": \"it's lovely when a kid cleans up his or her room without being asked.\",\n",
      "  \"left_boundary\": 649,\n",
      "  \"right_boundary\": 915,\n",
      "  \"split_point\": 712,\n",
      "  \"nucleus_proximity\": \"near\",\n",
      "  \"rule\": \"explanation_06\",\n",
      "  \"reason\": [\n",
      "    1,\n",
      "    \"Common pattern ( -Joint->>Background).\"\n",
      "  ]\n",
      "}\n"
     ]
    }
   ],
   "source": [
    "if __name__ == \"__main__\" and \"__file__\" not in globals():\n",
    "    rule = RuleExplanation06()\n",
    "\n",
    "    with open(\"../parsed/race/train/middle/2708.txt.tree\", \"rt\") as f:\n",
    "        tree_text = f.read()\n",
    "\n",
    "    text, relations = relation_extraction.read_relations(\n",
    "        tree_text.replace(\"<s>\", \"\").replace(\"<P>\", \"\")\n",
    "    )\n",
    "\n",
    "    expl = relations[\"Explanation\"][1]\n",
    "    print(text[expl.left.start:expl.right.end])\n",
    "\n",
    "    statement =rule.generate_statement(text, expl, verbose=True)\n",
    "    print(\"\\nRESULT:\")\n",
    "    if statement is not None:\n",
    "        print(json.dumps(statement._asdict(), indent=2))"
   ]
  },
  {
   "cell_type": "code",
   "execution_count": null,
   "metadata": {
    "collapsed": true
   },
   "outputs": [],
   "source": []
  }
 ],
 "metadata": {
  "kernelspec": {
   "display_name": "Python 3",
   "language": "python",
   "name": "python3"
  },
  "language_info": {
   "codemirror_mode": {
    "name": "ipython",
    "version": 3
   },
   "file_extension": ".py",
   "mimetype": "text/x-python",
   "name": "python",
   "nbconvert_exporter": "python",
   "pygments_lexer": "ipython3",
   "version": "3.6.3"
  }
 },
 "nbformat": 4,
 "nbformat_minor": 2
}
