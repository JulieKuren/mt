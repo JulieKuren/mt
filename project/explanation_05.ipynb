{
 "cells": [
  {
   "cell_type": "code",
   "execution_count": 1,
   "metadata": {
    "collapsed": true
   },
   "outputs": [],
   "source": [
    "import json"
   ]
  },
  {
   "cell_type": "code",
   "execution_count": 2,
   "metadata": {
    "collapsed": true
   },
   "outputs": [],
   "source": [
    "from nltk.tokenize import word_tokenize, sent_tokenize\n",
    "from nltk.stem.snowball import SnowballStemmer"
   ]
  },
  {
   "cell_type": "code",
   "execution_count": 3,
   "metadata": {},
   "outputs": [
    {
     "name": "stdout",
     "output_type": "stream",
     "text": [
      "importing Jupyter notebook from /Users/YK/mt/project/aux/utils.ipynb\n",
      "importing Jupyter notebook from /Users/YK/mt/project/aux/nlp.ipynb\n",
      "importing Jupyter notebook from /Users/YK/mt/project/aux/relation_extraction.ipynb\n",
      "importing Jupyter notebook from /Users/YK/mt/project/aux/defs.ipynb\n",
      "importing Jupyter notebook from preparation.ipynb\n"
     ]
    }
   ],
   "source": [
    "import import_ipynb\n",
    "from aux import utils\n",
    "from aux import nlp\n",
    "from aux import relation_extraction\n",
    "from aux import defs\n",
    "import preparation"
   ]
  },
  {
   "cell_type": "code",
   "execution_count": 4,
   "metadata": {
    "collapsed": true
   },
   "outputs": [],
   "source": [
    "class RuleExplanation05(defs.Rule):\n",
    "    name = \"explanation_05\"\n",
    "    relation_type = \"Explanation\"\n",
    "    reasons = {\n",
    "        \"COMMON_PATTERN_-_EXPLANATION->CONDITION\": \n",
    "            defs.Reason(\n",
    "                1,\n",
    "                \"Common pattern ( -Explanation->Condition).\"\n",
    "            ),\n",
    "        \"COMMON_PATTERN_CONDITION_EXPLANATION\": \n",
    "            defs.Reason(\n",
    "                2,\n",
    "                \"Common pattern (Condition-Explanation).\"\n",
    "            ),\n",
    "        \"COMMON_PATTERN_WHATEVER_CONTRAST\": \n",
    "            defs.Reason(\n",
    "                3,\n",
    "                \"Common pattern (Whatever-Contrast).\"\n",
    "            )\n",
    "    }\n",
    "    \n",
    "    def generate_statement(self, text, relation, verbose=False):\n",
    "        assert(relation is not None and relation.type == \"Explanation\")\n",
    "        info = preparation.Preprocessor.prepare_extended_info(text, relation, verbose)\n",
    "        if info is None:\n",
    "            utils.print_if_verbose(\"Extended info preparation wasn't successful.\", verbose)\n",
    "            return None\n",
    "\n",
    "        if info.satellite_info.relation is None:\n",
    "            return None\n",
    "        \n",
    "        utils.print_if_verbose(\n",
    "                \"Nucleus relation type: \"\n",
    "                f\"'{utils.get_relation_type(info.nucleus_info.relation)}'.\",\n",
    "                verbose\n",
    "            )\n",
    "        utils.print_if_verbose(\n",
    "            \"Satellite relation type: \"\n",
    "            f\"'{utils.get_relation_type(info.satellite_info.relation)}'.\",\n",
    "            verbose\n",
    "        )\n",
    "            \n",
    "        reason = None\n",
    "        \n",
    "        assert info.satellite_info.relation is not None\n",
    "        if info.nucleus_info.relation is None:\n",
    "            if (\n",
    "                info.satellite_info.relation.type == \"Explanation\"\n",
    "                    and info.sn_relation is not None\n",
    "                    and info.sn_relation.type == \"Condition\"\n",
    "            ):\n",
    "                reason = self.reasons[\"COMMON_PATTERN_-_EXPLANATION->CONDITION\"]\n",
    "        else:\n",
    "            if (\n",
    "                info.nucleus_info.relation.type == \"Condition\"\n",
    "                    and info.satellite_info.relation.type == \"Explanation\"\n",
    "            ):\n",
    "                reason = self.reasons[\"COMMON_PATTERN_CONDITION_EXPLANATION\"]\n",
    "            elif info.satellite_info.relation.type == \"Contrast\":\n",
    "                reason = self.reasons[\"COMMON_PATTERN_WHATEVER_CONTRAST\"]\n",
    "\n",
    "        if reason is not None:\n",
    "            utils.print_if_verbose(reason.explanation, verbose)\n",
    "            \n",
    "            prepared_nucleus_text = utils.remove_trailing_punctuation(\n",
    "                utils.uppercase_first_letter(info.nucleus_preparation_result.prepared_text)\n",
    "            )\n",
    "#             processed_s_text = nlp.remove_leading_words(\n",
    "#                 info.satellite_preparation_result.prepared_text, verbose\n",
    "#             )\n",
    "#             prepared_s_text = utils.lowercase_first_letter(\n",
    "#                 processed_s_text if processed_s_text is not None \n",
    "#                     else info.satellite_preparation_result.prepared_text\n",
    "#             )\n",
    "            prepared_s_text = utils.lowercase_first_letter(\n",
    "                info.satellite_preparation_result.prepared_text\n",
    "            )\n",
    "            statement_text = f\"{prepared_nucleus_text} but {prepared_s_text}\"\n",
    "            return defs.Statement(\n",
    "                statement_text=statement_text,\n",
    "                nucleus=prepared_nucleus_text,\n",
    "                satellite_nucleus=prepared_s_text,\n",
    "                left_boundary=relation.left.start,\n",
    "                right_boundary=relation.right.end,\n",
    "                nucleus_proximity=info.nucleus_proximity.value,\n",
    "                rule=self.name,\n",
    "                reason=reason\n",
    "            )\n",
    "        else:\n",
    "            return None"
   ]
  },
  {
   "cell_type": "code",
   "execution_count": 5,
   "metadata": {
    "scrolled": false
   },
   "outputs": [
    {
     "name": "stdout",
     "output_type": "stream",
     "text": [
      "If you get into the forest with your friends , stay with them always .  If you do n't , you may get lost .  If you really get lost , this is what you should do .  Sit down and stay where you are .  \n",
      "Nucleus is on the left.\n",
      "Nucleus's depth <= 3.\n",
      "Nucleus's left subsegment is not nucleus.\n",
      "Will use the whole segment.\n",
      "Satellite's nucleus is on the left.\n",
      "Nuclei proximity is NucleusProximity.NEAR\n",
      "Satellite's (left) nucleus contains '.', '!', '?', or ';'.\n",
      "Will use the whole segment.\n",
      "Text extracted from the satellite:\n",
      "If you do n't, you may get lost.  If you really get lost, this is what you should do.  Sit down and stay where you are.\n",
      "Nucleus relation type: 'Condition'.\n",
      "Satellite relation type: 'Explanation'.\n",
      "Common pattern (Condition-Explanation).\n",
      "\n",
      "RESULT:\n",
      "{\n",
      "  \"statement_text\": \"If you get into the forest with your friends, stay with them always but if you do n't, you may get lost.  If you really get lost, this is what you should do.  Sit down and stay where you are.\",\n",
      "  \"nucleus\": \"If you get into the forest with your friends, stay with them always\",\n",
      "  \"satellite_nucleus\": \"if you do n't, you may get lost.  If you really get lost, this is what you should do.  Sit down and stay where you are.\",\n",
      "  \"left_boundary\": 0,\n",
      "  \"right_boundary\": 198,\n",
      "  \"nucleus_proximity\": \"near\",\n",
      "  \"rule\": \"explanation_05\",\n",
      "  \"reason\": [\n",
      "    2,\n",
      "    \"Common pattern (Condition-Explanation).\"\n",
      "  ]\n",
      "}\n"
     ]
    }
   ],
   "source": [
    "if __name__ == \"__main__\" and \"__file__\" not in globals():\n",
    "    rule = RuleExplanation05()\n",
    "\n",
    "    with open(\"../parsed/race/train/middle/6165.txt.tree\", \"rt\") as f:\n",
    "        tree_text = f.read()\n",
    "\n",
    "    text, relations = relation_extraction.read_relations(\n",
    "        tree_text.replace(\"<s>\", \"\").replace(\"<P>\", \"\")\n",
    "    )\n",
    "\n",
    "    expl = relations[\"Explanation\"][1]\n",
    "    print(text[expl.left.start:expl.right.end])\n",
    "\n",
    "    statement =rule.generate_statement(text, expl, verbose=True)\n",
    "    print(\"\\nRESULT:\")\n",
    "    if statement is not None:\n",
    "        print(json.dumps(statement._asdict(), indent=2))"
   ]
  }
 ],
 "metadata": {
  "kernelspec": {
   "display_name": "Python 3",
   "language": "python",
   "name": "python3"
  },
  "language_info": {
   "codemirror_mode": {
    "name": "ipython",
    "version": 3
   },
   "file_extension": ".py",
   "mimetype": "text/x-python",
   "name": "python",
   "nbconvert_exporter": "python",
   "pygments_lexer": "ipython3",
   "version": "3.6.3"
  }
 },
 "nbformat": 4,
 "nbformat_minor": 2
}
