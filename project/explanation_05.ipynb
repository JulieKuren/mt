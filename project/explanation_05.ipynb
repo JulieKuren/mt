{
 "cells": [
  {
   "cell_type": "code",
   "execution_count": 1,
   "metadata": {
    "collapsed": true
   },
   "outputs": [],
   "source": [
    "import json"
   ]
  },
  {
   "cell_type": "code",
   "execution_count": 2,
   "metadata": {
    "collapsed": true
   },
   "outputs": [],
   "source": [
    "from nltk.tokenize import word_tokenize, sent_tokenize\n",
    "from nltk.stem.snowball import SnowballStemmer"
   ]
  },
  {
   "cell_type": "code",
   "execution_count": 3,
   "metadata": {},
   "outputs": [
    {
     "name": "stdout",
     "output_type": "stream",
     "text": [
      "importing Jupyter notebook from /Users/YK/mt/project/aux/utils.ipynb\n",
      "importing Jupyter notebook from /Users/YK/mt/project/aux/nlp.ipynb\n",
      "importing Jupyter notebook from /Users/YK/mt/project/aux/relation_extraction.ipynb\n",
      "importing Jupyter notebook from /Users/YK/mt/project/aux/defs.ipynb\n",
      "importing Jupyter notebook from preparation.ipynb\n",
      "importing Jupyter notebook from rule_base.ipynb\n"
     ]
    }
   ],
   "source": [
    "import import_ipynb\n",
    "from aux import utils\n",
    "from aux import nlp\n",
    "from aux import relation_extraction\n",
    "from aux import defs\n",
    "import preparation\n",
    "import rule_base"
   ]
  },
  {
   "cell_type": "code",
   "execution_count": 4,
   "metadata": {
    "collapsed": true
   },
   "outputs": [],
   "source": [
    "class RuleExplanation05(rule_base.Rule):\n",
    "    name = \"explanation_05\"\n",
    "    relation_type = \"Explanation\"\n",
    "    reasons = {\n",
    "        \"COMMON_PATTERN_-_EXPLANATION->CONDITION\": \n",
    "            defs.Reason(\n",
    "                1,\n",
    "                \"Common pattern ( -Explanation->Condition).\"\n",
    "            ),\n",
    "        \"COMMON_PATTERN_CONDITION_EXPLANATION\": \n",
    "            defs.Reason(\n",
    "                2,\n",
    "                \"Common pattern (Condition-Explanation).\"\n",
    "            )\n",
    "    }\n",
    "    \n",
    "    def generate_statement(self, text, relation, verbose=False, **kwargs):\n",
    "        assert(relation is not None and relation.type == \"Explanation\")\n",
    "        info = preparation.Preprocessor.prepare_extended_info(text, relation, verbose)\n",
    "        if info is None:\n",
    "            utils.print_if_verbose(\"Extended info preparation wasn't successful.\", verbose)\n",
    "            return None\n",
    "\n",
    "        if info.satellite_info.relation is None:\n",
    "            return None\n",
    "        \n",
    "        utils.print_if_verbose(\n",
    "                \"Nucleus relation type: \"\n",
    "                f\"'{utils.get_relation_type(info.nucleus_info.relation)}'.\",\n",
    "                verbose\n",
    "            )\n",
    "        utils.print_if_verbose(\n",
    "            \"Satellite relation type: \"\n",
    "            f\"'{utils.get_relation_type(info.satellite_info.relation)}'.\",\n",
    "            verbose\n",
    "        )\n",
    "            \n",
    "        reason = None\n",
    "        \n",
    "        assert info.satellite_info.relation is not None\n",
    "        if info.nucleus_info.relation is None:\n",
    "            if (\n",
    "                info.satellite_info.relation.type == \"Explanation\"\n",
    "                    and info.sn_relation is not None\n",
    "                    and info.sn_relation.type == \"Condition\"\n",
    "            ):\n",
    "                reason = self.reasons[\"COMMON_PATTERN_-_EXPLANATION->CONDITION\"]\n",
    "        else:\n",
    "            if (\n",
    "                info.nucleus_info.relation.type == \"Condition\"\n",
    "                    and info.satellite_info.relation.type == \"Explanation\"\n",
    "            ):\n",
    "                reason = self.reasons[\"COMMON_PATTERN_CONDITION_EXPLANATION\"]\n",
    "\n",
    "        if reason is not None:\n",
    "            utils.print_if_verbose(reason.explanation, verbose)\n",
    "            final_nucleus_text, final_sn_text = self._finalise_statement_parts(\n",
    "                info.nucleus_preparation_result.prepared_text,\n",
    "                info.satellite_preparation_result.prepared_text,\n",
    "                verbose\n",
    "            )\n",
    "            return self._generate_statement(\n",
    "                final_nucleus_text, \n",
    "                \" but \", \n",
    "                final_sn_text, \n",
    "                relation, \n",
    "                info.nucleus_proximity,\n",
    "                self.name,\n",
    "                reason,\n",
    "                verbose\n",
    "            )\n",
    "        else:\n",
    "            return None"
   ]
  },
  {
   "cell_type": "code",
   "execution_count": 5,
   "metadata": {
    "scrolled": false
   },
   "outputs": [
    {
     "name": "stdout",
     "output_type": "stream",
     "text": [
      "If you get into the forest with your friends , stay with them always .  If you do n't , you may get lost .  If you really get lost , this is what you should do .  Sit down and stay where you are .  \n",
      "Nucleus is on the left.\n",
      "Nucleus's depth <= 100.\n",
      "Nucleus's left subsegment is not nucleus.\n",
      "Will use the whole segment.\n",
      "Satellite's nucleus is on the left.\n",
      "Nuclei proximity is NucleusProximity.NEAR\n",
      "Satellite's (left) nucleus contains '.', '!', '?', or ';'.\n",
      "Will use the whole segment.\n",
      "Text extracted from the satellite:\n",
      "If you do n't, you may get lost.  If you really get lost, this is what you should do.  Sit down and stay where you are.\n",
      "Nucleus relation type: 'Condition'.\n",
      "Satellite relation type: 'Explanation'.\n",
      "Common pattern (Condition-Explanation).\n",
      "Taking the last sentence and resolving pronouns:\n",
      "If you get into the forest with your friends, stay with them always. \n",
      "---> \n",
      "If you get into the forest with your friends, stay with them always.\n",
      "Taking the first sentence and removing leading words:\n",
      "-- syntactic parsing result\n",
      " (ROOT\n",
      "  (S\n",
      "    (SBAR (IN If)\n",
      "      (S\n",
      "        (NP (PRP you))\n",
      "        (VP (VBP do) (RB n't))))\n",
      "    (, ,)\n",
      "    (NP (PRP you))\n",
      "    (VP (MD may)\n",
      "      (VP (VB get)\n",
      "        (VP (VBN lost))))\n",
      "    (. .)))\n",
      "No tokens before the first NP will be removed because the sentence starts with if/when/as or an imperative verb.\n",
      "If you do n't, you may get lost.  If you really get lost, this is what you should do.  Sit down and stay where you are. \n",
      "---> \n",
      "If you do n't, you may get lost.\n",
      "\n",
      "RESULT:\n",
      "{\n",
      "  \"statement_text\": \"If you get into the forest with your friends, stay with them always but if you do n't, you may get lost.\",\n",
      "  \"nucleus\": \"If you get into the forest with your friends, stay with them always\",\n",
      "  \"connective\": \" but \",\n",
      "  \"satellite_nucleus\": \"if you do n't, you may get lost.\",\n",
      "  \"left_boundary\": 0,\n",
      "  \"right_boundary\": 198,\n",
      "  \"split_point\": 72,\n",
      "  \"nucleus_proximity\": \"near\",\n",
      "  \"rule\": \"explanation_05\",\n",
      "  \"reason\": [\n",
      "    2,\n",
      "    \"Common pattern (Condition-Explanation).\"\n",
      "  ]\n",
      "}\n"
     ]
    }
   ],
   "source": [
    "if __name__ == \"__main__\" and \"__file__\" not in globals():\n",
    "    rule = RuleExplanation05()\n",
    "\n",
    "    with open(\"../parsed/race/train/middle/6165.txt.tree\", \"rt\") as f:\n",
    "        tree_text = f.read()\n",
    "\n",
    "    text, relations = relation_extraction.read_relations(\n",
    "        tree_text.replace(\"<s>\", \"\").replace(\"<P>\", \"\")\n",
    "    )\n",
    "\n",
    "    expl = relations[\"Explanation\"][1]\n",
    "    print(text[expl.left.start:expl.right.end])\n",
    "\n",
    "    statement =rule.generate_statement(text, expl, verbose=True)\n",
    "    print(\"\\nRESULT:\")\n",
    "    if statement is not None:\n",
    "        print(json.dumps(statement._asdict(), indent=2))"
   ]
  },
  {
   "cell_type": "code",
   "execution_count": null,
   "metadata": {
    "collapsed": true
   },
   "outputs": [],
   "source": []
  }
 ],
 "metadata": {
  "kernelspec": {
   "display_name": "Python 3",
   "language": "python",
   "name": "python3"
  },
  "language_info": {
   "codemirror_mode": {
    "name": "ipython",
    "version": 3
   },
   "file_extension": ".py",
   "mimetype": "text/x-python",
   "name": "python",
   "nbconvert_exporter": "python",
   "pygments_lexer": "ipython3",
   "version": "3.6.3"
  }
 },
 "nbformat": 4,
 "nbformat_minor": 2
}
