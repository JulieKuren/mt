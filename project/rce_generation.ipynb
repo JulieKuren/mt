{
 "cells": [
  {
   "cell_type": "code",
   "execution_count": 22,
   "metadata": {
    "collapsed": true
   },
   "outputs": [],
   "source": [
    "import json\n",
    "import os"
   ]
  },
  {
   "cell_type": "code",
   "execution_count": 83,
   "metadata": {
    "collapsed": true
   },
   "outputs": [],
   "source": [
    "import nltk.tokenize\n",
    "import numpy as np\n",
    "import pandas as pd"
   ]
  },
  {
   "cell_type": "code",
   "execution_count": 147,
   "metadata": {
    "collapsed": true
   },
   "outputs": [],
   "source": [
    "ALTERNATIVES_XLSX_PATH = (\n",
    "    \"/Users/YK/mt/project/statements_3/prefiltered_alternatives_train-middle_3bb56a8a.xlsx\"\n",
    ")\n",
    "RACE_PART = \"train/middle\"\n",
    "RACE_DIR = \"/Users/YK/mt/RACE\"\n",
    "OUTPUT_DIR = os.path.join(\"/Users/YK/mt/project/generated_rce/\", RACE_PART)"
   ]
  },
  {
   "cell_type": "code",
   "execution_count": 40,
   "metadata": {},
   "outputs": [],
   "source": [
    "reason_scores = pd.read_csv(\n",
    "    \"../ranking.csv\", header=None\n",
    ").rename(\n",
    "    columns={0: \"reason\", 1: \"score\"}\n",
    ")\n",
    "reason_scores[\"score\"] = reason_scores.score.apply(\n",
    "    lambda s: s.replace(\",\", \".\")\n",
    ").astype(float)"
   ]
  },
  {
   "cell_type": "code",
   "execution_count": 41,
   "metadata": {},
   "outputs": [],
   "source": [
    "df = pd.read_excel(ALTERNATIVES_XLSX_PATH)"
   ]
  },
  {
   "cell_type": "code",
   "execution_count": 42,
   "metadata": {},
   "outputs": [
    {
     "data": {
      "text/plain": [
       "{\"Nucleus starts with 'if' and its left subrelation is not 'Condition'.\",\n",
       " \"Satellite starts with 'so'.\",\n",
       " \"Satellite's nucleus starts with 'but'.\"}"
      ]
     },
     "execution_count": 42,
     "metadata": {},
     "output_type": "execute_result"
    }
   ],
   "source": [
    "set(reason_scores.reason) - set(df[\"reason\"])"
   ]
  },
  {
   "cell_type": "code",
   "execution_count": 43,
   "metadata": {},
   "outputs": [
    {
     "data": {
      "text/plain": [
       "{'Common pattern (Condition-Explanation).',\n",
       " 'Common pattern (Elaboration-Joint).'}"
      ]
     },
     "execution_count": 43,
     "metadata": {},
     "output_type": "execute_result"
    }
   ],
   "source": [
    "set(df[\"reason\"]) - set(reason_scores.reason)"
   ]
  },
  {
   "cell_type": "code",
   "execution_count": 44,
   "metadata": {
    "collapsed": true
   },
   "outputs": [],
   "source": [
    "df = pd.merge(df, reason_scores, on=\"reason\")"
   ]
  },
  {
   "cell_type": "code",
   "execution_count": 131,
   "metadata": {
    "collapsed": true
   },
   "outputs": [],
   "source": [
    "def load_race(text_no):\n",
    "    with open(os.path.join(RACE_DIR, RACE_PART, f\"{text_no}.txt\"), \"rt\") as f:\n",
    "        return json.load(f)"
   ]
  },
  {
   "cell_type": "code",
   "execution_count": 118,
   "metadata": {},
   "outputs": [],
   "source": [
    "def swap(array, i_1, i_2):\n",
    "    buf = array[i_1]\n",
    "    array[i_1] = array[i_2]\n",
    "    array[i_2] = buf\n",
    "    \n",
    "    \n",
    "def coalesce(value, default_value):\n",
    "    if pd.isnull(value):\n",
    "        return default_value\n",
    "    else:\n",
    "        return value\n",
    "    \n",
    "    \n",
    "def generate_rce(\n",
    "    true_statement, \n",
    "    before_alternatives, \n",
    "    nested_alternatives, \n",
    "    after_alternatives,\n",
    "    swap_first_two,\n",
    "    human_input_pos,\n",
    "    true_statement_pos\n",
    "):\n",
    "    options = (\n",
    "        list(\n",
    "            coalesce(before_alternatives, tuple())\n",
    "                + coalesce(nested_alternatives, tuple())\n",
    "                + coalesce(after_alternatives, tuple())\n",
    "        )[:2]\n",
    "            + [\"HUMAN_INPUT\", true_statement]\n",
    "    )\n",
    "    if len(options) < 4:\n",
    "        return None\n",
    "    else:\n",
    "        if swap_first_two:\n",
    "            swap(options, 0, 1)\n",
    "        swap(options, human_input_pos, 2)        \n",
    "        swap(options, true_statement_pos, 3)\n",
    "        return {\n",
    "            \"answer\": [\"A\", \"B\", \"C\", \"D\"][true_statement_pos],\n",
    "            \"options\": options\n",
    "        }"
   ]
  },
  {
   "cell_type": "code",
   "execution_count": 119,
   "metadata": {},
   "outputs": [],
   "source": [
    "grouped = df[\n",
    "    [\"text_no\", \"true_statement\", \"alternative_statement\", \"position\"]\n",
    "].pivot_table(\n",
    "    values=\"alternative_statement\",\n",
    "    index=[\"text_no\", \"true_statement\"],\n",
    "    columns=\"position\",\n",
    "    aggfunc=tuple\n",
    ")\n",
    "grouped.columns.name = None\n",
    "grouped = grouped.reset_index()"
   ]
  },
  {
   "cell_type": "code",
   "execution_count": 120,
   "metadata": {
    "collapsed": true
   },
   "outputs": [],
   "source": [
    "grouped[\"swap_first_two\"] = np.random.rand(len(grouped)) < 0.5\n",
    "grouped[\"human_input_pos\"] = np.random.choice(range(3), len(grouped))\n",
    "grouped[\"true_statement_pos\"] = np.random.choice(range(4), len(grouped))"
   ]
  },
  {
   "cell_type": "code",
   "execution_count": 121,
   "metadata": {},
   "outputs": [],
   "source": [
    "grouped[\"rce\"] = grouped.apply(\n",
    "    lambda row: generate_rce(\n",
    "        row.true_statement,\n",
    "        row.before,\n",
    "        row.nested,\n",
    "        row.after,\n",
    "        row.swap_first_two,\n",
    "        row.human_input_pos,\n",
    "        row.true_statement_pos\n",
    "    ),\n",
    "    axis=1\n",
    ")"
   ]
  },
  {
   "cell_type": "code",
   "execution_count": 140,
   "metadata": {
    "collapsed": true
   },
   "outputs": [],
   "source": [
    "merged = pd.merge(\n",
    "    grouped.loc[~grouped.rce.isnull()],\n",
    "    pd.merge(\n",
    "        df.groupby(\"true_statement\").reason.first().reset_index(),\n",
    "        reason_scores,\n",
    "        on=\"reason\"\n",
    "    ),\n",
    "    on=\"true_statement\"\n",
    ")"
   ]
  },
  {
   "cell_type": "code",
   "execution_count": 141,
   "metadata": {
    "collapsed": true
   },
   "outputs": [],
   "source": [
    "def collect_rce(rce_group):\n",
    "    generated_answers = []\n",
    "    generated_options = []\n",
    "    for rce in rce_group:\n",
    "        generated_answers.append(rce[\"answer\"])\n",
    "        generated_options.append(rce[\"options\"])\n",
    "    return {\n",
    "        \"generated_answers\": generated_answers,\n",
    "        \"generated_options\": generated_options\n",
    "    }"
   ]
  },
  {
   "cell_type": "code",
   "execution_count": 148,
   "metadata": {
    "collapsed": true
   },
   "outputs": [],
   "source": [
    "os.makedirs(OUTPUT_DIR, exist_ok=True)"
   ]
  },
  {
   "cell_type": "code",
   "execution_count": 151,
   "metadata": {},
   "outputs": [],
   "source": [
    "for text_no, group in merged.sort_values(\n",
    "    by=\"score\", ascending=False\n",
    ").groupby(by=\"text_no\"):\n",
    "    race = load_race(text_no)\n",
    "    race_n_exercises = len(race[\"answers\"])\n",
    "    if len(group) >= 1: # min(2, race_n_exercises):\n",
    "        output = {\n",
    "            \"race\": race,\n",
    "            \"generated\": collect_rce(list(group.iloc[:race_n_exercises].rce))\n",
    "        }\n",
    "        with open(os.path.join(OUTPUT_DIR, f\"{text_no}.rce.txt\"), \"wt\") as f:\n",
    "            json.dump(output, f)"
   ]
  }
 ],
 "metadata": {
  "kernelspec": {
   "display_name": "Python 3",
   "language": "python",
   "name": "python3"
  },
  "language_info": {
   "codemirror_mode": {
    "name": "ipython",
    "version": 3
   },
   "file_extension": ".py",
   "mimetype": "text/x-python",
   "name": "python",
   "nbconvert_exporter": "python",
   "pygments_lexer": "ipython3",
   "version": "3.6.3"
  }
 },
 "nbformat": 4,
 "nbformat_minor": 2
}
