{
 "cells": [
  {
   "cell_type": "code",
   "execution_count": 1,
   "metadata": {
    "collapsed": true
   },
   "outputs": [],
   "source": [
    "import json\n",
    "import os"
   ]
  },
  {
   "cell_type": "code",
   "execution_count": 2,
   "metadata": {
    "collapsed": true
   },
   "outputs": [],
   "source": [
    "import nltk.tokenize\n",
    "import numpy as np\n",
    "import pandas as pd"
   ]
  },
  {
   "cell_type": "code",
   "execution_count": 7,
   "metadata": {
    "collapsed": true
   },
   "outputs": [],
   "source": [
    "ALTERNATIVES_XLSX_PATH = (\n",
    "    \"/Users/YK/mt/project/statements_5/paraphrased_test-middle_462603ae.xlsx\"\n",
    ")\n",
    "RACE_PART = \"test/middle\"\n",
    "RACE_DIR = \"/Users/YK/mt/RACE\"\n",
    "OUTPUT_DIR = os.path.join(\"/Users/YK/mt/project/generated_rce/\", RACE_PART)"
   ]
  },
  {
   "cell_type": "code",
   "execution_count": 36,
   "metadata": {
    "collapsed": true
   },
   "outputs": [],
   "source": [
    "reason_scores = pd.read_csv(\n",
    "    \"../ranking.csv\", header=None\n",
    ").rename(\n",
    "    columns={0: \"reason\", 1: \"score\"}\n",
    ")\n",
    "reason_scores[\"score\"] = reason_scores.score.apply(\n",
    "    lambda s: s.replace(\",\", \".\")\n",
    ").astype(float)"
   ]
  },
  {
   "cell_type": "code",
   "execution_count": 37,
   "metadata": {
    "collapsed": true
   },
   "outputs": [],
   "source": [
    "df = pd.read_excel(ALTERNATIVES_XLSX_PATH)"
   ]
  },
  {
   "cell_type": "code",
   "execution_count": 39,
   "metadata": {},
   "outputs": [
    {
     "data": {
      "text/plain": [
       "{'Common pattern ( -Explanation->Condition).',\n",
       " 'Common pattern (Elaboration-JOINT).'}"
      ]
     },
     "execution_count": 39,
     "metadata": {},
     "output_type": "execute_result"
    }
   ],
   "source": [
    "set(reason_scores.reason) - set(df[\"reason\"])"
   ]
  },
  {
   "cell_type": "code",
   "execution_count": 40,
   "metadata": {},
   "outputs": [
    {
     "data": {
      "text/plain": [
       "{'Common pattern (Condition-Explanation).', 'Common pattern (Nucleus=NN- ).'}"
      ]
     },
     "execution_count": 40,
     "metadata": {},
     "output_type": "execute_result"
    }
   ],
   "source": [
    "set(df[\"reason\"]) - set(reason_scores.reason)"
   ]
  },
  {
   "cell_type": "code",
   "execution_count": 41,
   "metadata": {
    "collapsed": true
   },
   "outputs": [],
   "source": [
    "df = pd.merge(df, reason_scores, on=\"reason\")"
   ]
  },
  {
   "cell_type": "code",
   "execution_count": 42,
   "metadata": {
    "collapsed": true
   },
   "outputs": [],
   "source": [
    "def load_race(text_no):\n",
    "    with open(os.path.join(RACE_DIR, RACE_PART, f\"{text_no}.txt\"), \"rt\") as f:\n",
    "        return json.load(f)"
   ]
  },
  {
   "cell_type": "code",
   "execution_count": 43,
   "metadata": {
    "collapsed": true
   },
   "outputs": [],
   "source": [
    "def swap(array, i_1, i_2):\n",
    "    buf = array[i_1]\n",
    "    array[i_1] = array[i_2]\n",
    "    array[i_2] = buf\n",
    "    \n",
    "    \n",
    "def coalesce(value, default_value):\n",
    "    if pd.isnull(value):\n",
    "        return default_value\n",
    "    else:\n",
    "        return value\n",
    "    \n",
    "    \n",
    "def generate_rce(\n",
    "    true_statement, \n",
    "    before_alternatives, \n",
    "    nested_alternatives, \n",
    "    after_alternatives,\n",
    "    swap_first_two,\n",
    "    human_input_pos,\n",
    "    true_statement_pos\n",
    "):\n",
    "    options = (\n",
    "        list(\n",
    "            coalesce(before_alternatives, tuple())\n",
    "                + coalesce(nested_alternatives, tuple())\n",
    "                + coalesce(after_alternatives, tuple())\n",
    "        )[:2]\n",
    "            + [\"HUMAN_INPUT\", true_statement]\n",
    "    )\n",
    "    if len(options) < 4:\n",
    "        return None\n",
    "    else:\n",
    "        if swap_first_two:\n",
    "            swap(options, 0, 1)\n",
    "        swap(options, human_input_pos, 2)        \n",
    "        swap(options, true_statement_pos, 3)\n",
    "        return {\n",
    "            \"answer\": [\"A\", \"B\", \"C\", \"D\"][true_statement_pos],\n",
    "            \"options\": options\n",
    "        }"
   ]
  },
  {
   "cell_type": "code",
   "execution_count": 66,
   "metadata": {
    "collapsed": true
   },
   "outputs": [],
   "source": [
    "grouped = df[\n",
    "    [\n",
    "        \"text_no\", \n",
    "        \"true_statement\", \n",
    "        \"nuclei_hash\", \n",
    "        \"synonym_paraphrased_alternative_statement\",\n",
    "        \"position\"\n",
    "    ]\n",
    "].pivot_table(\n",
    "    values=\"synonym_paraphrased_alternative_statement\",\n",
    "    index=[\"text_no\", \"true_statement\", \"nuclei_hash\"],\n",
    "    columns=\"position\",\n",
    "    aggfunc=tuple\n",
    ")\n",
    "grouped.columns.name = None\n",
    "grouped = grouped.reset_index()"
   ]
  },
  {
   "cell_type": "code",
   "execution_count": 68,
   "metadata": {
    "collapsed": true
   },
   "outputs": [],
   "source": [
    "grouped[\"swap_first_two\"] = np.random.rand(len(grouped)) < 0.5\n",
    "grouped[\"human_input_pos\"] = np.random.choice(range(3), len(grouped))\n",
    "grouped[\"true_statement_pos\"] = np.random.choice(range(4), len(grouped))"
   ]
  },
  {
   "cell_type": "code",
   "execution_count": 69,
   "metadata": {
    "collapsed": true
   },
   "outputs": [],
   "source": [
    "grouped = pd.merge(\n",
    "    grouped,\n",
    "    df[\n",
    "        [\"true_statement\", \"synonym_paraphrased_true_statement\"]\n",
    "    ].groupby(\"true_statement\").head(1),\n",
    "    on=\"true_statement\"\n",
    ")"
   ]
  },
  {
   "cell_type": "code",
   "execution_count": 71,
   "metadata": {
    "collapsed": true
   },
   "outputs": [],
   "source": [
    "grouped[\"rce\"] = grouped.apply(\n",
    "    lambda row: generate_rce(\n",
    "        row.synonym_paraphrased_true_statement,\n",
    "        row.before,\n",
    "        row.nested,\n",
    "        row.after,\n",
    "        row.swap_first_two,\n",
    "        row.human_input_pos,\n",
    "        row.true_statement_pos\n",
    "    ),\n",
    "    axis=1\n",
    ")"
   ]
  },
  {
   "cell_type": "code",
   "execution_count": 72,
   "metadata": {},
   "outputs": [
    {
     "data": {
      "text/plain": [
       "Index(['text_no', 'true_statement', 'nuclei_hash', 'after', 'before', 'nested',\n",
       "       'swap_first_two', 'human_input_pos', 'true_statement_pos',\n",
       "       'synonym_paraphrased_true_statement', 'rce'],\n",
       "      dtype='object')"
      ]
     },
     "execution_count": 72,
     "metadata": {},
     "output_type": "execute_result"
    }
   ],
   "source": [
    "grouped.columns"
   ]
  },
  {
   "cell_type": "code",
   "execution_count": 74,
   "metadata": {
    "collapsed": true
   },
   "outputs": [],
   "source": [
    "merged = pd.merge(\n",
    "    grouped.loc[~grouped.rce.isnull()],\n",
    "    pd.merge(\n",
    "        df.groupby(\n",
    "            [\"true_statement\"]\n",
    "        ).reason.first().reset_index(),\n",
    "        reason_scores,\n",
    "        on=\"reason\"\n",
    "    ),\n",
    "    on=[\"true_statement\"]\n",
    ")"
   ]
  },
  {
   "cell_type": "code",
   "execution_count": 75,
   "metadata": {},
   "outputs": [
    {
     "data": {
      "text/plain": [
       "Index(['text_no', 'true_statement', 'nuclei_hash', 'after', 'before', 'nested',\n",
       "       'swap_first_two', 'human_input_pos', 'true_statement_pos',\n",
       "       'synonym_paraphrased_true_statement', 'rce', 'reason', 'score'],\n",
       "      dtype='object')"
      ]
     },
     "execution_count": 75,
     "metadata": {},
     "output_type": "execute_result"
    }
   ],
   "source": [
    "merged.columns"
   ]
  },
  {
   "cell_type": "code",
   "execution_count": 76,
   "metadata": {
    "collapsed": true
   },
   "outputs": [],
   "source": [
    "rce_df = merged[[\"text_no\", \"nuclei_hash\", \"rce\", \"score\"]].sort_values(\n",
    "    by=\"score\", ascending=False\n",
    ").groupby(\n",
    "    [\"text_no\", \"nuclei_hash\"]\n",
    ").head(\n",
    "    1\n",
    ").reset_index(\n",
    ")"
   ]
  },
  {
   "cell_type": "code",
   "execution_count": 77,
   "metadata": {
    "collapsed": true
   },
   "outputs": [],
   "source": [
    "def collect_rce(rce_group):\n",
    "    generated_answers = []\n",
    "    generated_options = []\n",
    "    for rce in rce_group:\n",
    "        generated_answers.append(rce[\"answer\"])\n",
    "        generated_options.append(rce[\"options\"])\n",
    "    return {\n",
    "        \"generated_answers\": generated_answers,\n",
    "        \"generated_options\": generated_options\n",
    "    }"
   ]
  },
  {
   "cell_type": "code",
   "execution_count": 79,
   "metadata": {
    "collapsed": true
   },
   "outputs": [],
   "source": [
    "os.makedirs(OUTPUT_DIR, exist_ok=True)"
   ]
  },
  {
   "cell_type": "code",
   "execution_count": 80,
   "metadata": {
    "collapsed": true
   },
   "outputs": [],
   "source": [
    "for text_no, group in rce_df.sort_values(\n",
    "    by=\"score\", ascending=False\n",
    ").groupby(by=\"text_no\"):\n",
    "    race = load_race(text_no)\n",
    "    race_n_exercises = len(race[\"answers\"])\n",
    "    if len(group) >= 1: # min(2, race_n_exercises):\n",
    "        output = {\n",
    "            \"race\": race,\n",
    "            \"generated\": collect_rce(list(group.iloc[:race_n_exercises].rce))\n",
    "        }\n",
    "        with open(os.path.join(OUTPUT_DIR, f\"{text_no}.rce.txt\"), \"wt\") as f:\n",
    "            json.dump(output, f)"
   ]
  },
  {
   "cell_type": "code",
   "execution_count": 81,
   "metadata": {
    "collapsed": true
   },
   "outputs": [],
   "source": [
    "def rce_to_str(text_no):\n",
    "    output_chunks = []\n",
    "    with open(os.path.join(OUTPUT_DIR, f\"{text_no}.rce.txt\"), \"rt\") as f:\n",
    "        rce = json.loads(f.read())\n",
    "    output_chunks.append(f\"TEXT No.{text_no}:\\n\\n{rce['race']['article']}\\n\\n\")\n",
    "    output_chunks.append(f\"GENERATED QUESTIONS:\\n\\n\")\n",
    "    for i, options in enumerate(rce[\"generated\"][\"generated_options\"]):\n",
    "        output_chunks.append(f\"{i + 1}. Which of the following is true?\\n\")\n",
    "        answer = rce['generated']['generated_answers'][i]\n",
    "        block = []\n",
    "        for j, option in enumerate(options):\n",
    "            current_letter = ['A', 'B', 'C', 'D'][j]\n",
    "#             is_true = current_letter == answer\n",
    "#             output_chunks.append(\n",
    "#                 f\"Statement #{j + 1} ({is_true}):\\n{option}\\n\"\n",
    "#             )\n",
    "            block.append(f\"{current_letter}. {option}\")\n",
    "        output_chunks.append(\"\\n\".join(block))\n",
    "        output_chunks.append(\"\")\n",
    "        output_chunks.append(f\"Answer: {answer}\")\n",
    "        output_chunks.append(\"\")\n",
    "    return \"\\n\".join(output_chunks)"
   ]
  },
  {
   "cell_type": "code",
   "execution_count": 82,
   "metadata": {},
   "outputs": [],
   "source": [
    "result = []\n",
    "for text_no in rce_df.text_no.unique():\n",
    "    file_path = os.path.join(OUTPUT_DIR, f\"{text_no}.rce.txt\")\n",
    "    if os.path.exists(file_path):\n",
    "        with open(file_path, \"rt\") as f:\n",
    "            rce = json.loads(f.read())\n",
    "        result.append((text_no, len(rce[\"generated\"][\"generated_answers\"])))\n",
    "rce_stats_df = pd.DataFrame(result, columns=[\"text_no\", \"n_questions\"])"
   ]
  },
  {
   "cell_type": "code",
   "execution_count": 85,
   "metadata": {},
   "outputs": [
    {
     "data": {
      "text/plain": [
       "1    53\n",
       "2     8\n",
       "4     1\n",
       "3     1\n",
       "Name: n_questions, dtype: int64"
      ]
     },
     "execution_count": 85,
     "metadata": {},
     "output_type": "execute_result"
    }
   ],
   "source": [
    "rce_stats_df.n_questions.value_counts()"
   ]
  },
  {
   "cell_type": "code",
   "execution_count": null,
   "metadata": {
    "collapsed": true
   },
   "outputs": [],
   "source": []
  },
  {
   "cell_type": "code",
   "execution_count": null,
   "metadata": {
    "collapsed": true
   },
   "outputs": [],
   "source": []
  },
  {
   "cell_type": "code",
   "execution_count": 83,
   "metadata": {},
   "outputs": [],
   "source": [
    "rce_strings = [\n",
    "    rce_to_str(text_no) \n",
    "    for text_no in rce_stats_df.loc[rce_stats_df.n_questions >= 2].text_no\n",
    "]"
   ]
  },
  {
   "cell_type": "code",
   "execution_count": 84,
   "metadata": {
    "collapsed": true
   },
   "outputs": [],
   "source": [
    "with open(os.path.join(OUTPUT_DIR, \"rce-2+q.txt\"), \"wt\") as f:\n",
    "    f.write(\"\\n\\n\\n\".join(rce_strings))"
   ]
  },
  {
   "cell_type": "code",
   "execution_count": 91,
   "metadata": {},
   "outputs": [
    {
     "name": "stdout",
     "output_type": "stream",
     "text": [
      "TEXT No.785:\n",
      "\n",
      "Today is the fifth day of August. It is Judy's birthday. When she comes back home from school, she sees a card on the table. It says, \"There's a present   for you, Judy. Look for it in your bedroom.\" Judy runs into her bedroom. Her parents are looking at her and _ . On the chair she sees a red box. She thinks her present must be in it. She opens it, and there is a piece of paper in it. She reads it, \"Dear Judy, I'm your present. My first letter is in the word 'bag', but not in 'age'. My second letter is in 'like', but not in 'lake'. My third letter is in \"know\", but not in 'now'. And you can find my last letter in both 'desk' and 'get'. What am I?\" Judy thinks for a while and says, \"Aha, I know. But where is it?\" Her father tells her it is in her study.\n",
      "What is it? Do you know?\n",
      ". (5)\n",
      "\n",
      "\n",
      "GENERATED QUESTIONS:\n",
      "\n",
      "\n",
      "1. Which of the following is true?\n",
      "\n",
      "A. She sees a red box, and she thinks her present must be in it.\n",
      "B. She sees a red box, and Judy runs into her bedroom.\n",
      "C. HUMAN_INPUT\n",
      "D. She sees a red box, and Judy thinks for a while and states,'' Aha, I know.\n",
      "\n",
      "Answer: A\n",
      "\n"
     ]
    }
   ],
   "source": [
    "print(rce_to_str(785))"
   ]
  },
  {
   "cell_type": "code",
   "execution_count": null,
   "metadata": {
    "collapsed": true
   },
   "outputs": [],
   "source": []
  }
 ],
 "metadata": {
  "kernelspec": {
   "display_name": "Python 3",
   "language": "python",
   "name": "python3"
  },
  "language_info": {
   "codemirror_mode": {
    "name": "ipython",
    "version": 3
   },
   "file_extension": ".py",
   "mimetype": "text/x-python",
   "name": "python",
   "nbconvert_exporter": "python",
   "pygments_lexer": "ipython3",
   "version": "3.6.3"
  }
 },
 "nbformat": 4,
 "nbformat_minor": 2
}
