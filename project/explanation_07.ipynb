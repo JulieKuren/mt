{
 "cells": [
  {
   "cell_type": "code",
   "execution_count": 1,
   "metadata": {
    "collapsed": true
   },
   "outputs": [],
   "source": [
    "import json"
   ]
  },
  {
   "cell_type": "code",
   "execution_count": 2,
   "metadata": {
    "collapsed": true
   },
   "outputs": [],
   "source": [
    "from nltk.tokenize import word_tokenize, sent_tokenize\n",
    "from nltk.stem.snowball import SnowballStemmer"
   ]
  },
  {
   "cell_type": "code",
   "execution_count": 3,
   "metadata": {},
   "outputs": [
    {
     "name": "stdout",
     "output_type": "stream",
     "text": [
      "importing Jupyter notebook from /Users/YK/mt/project/aux/utils.ipynb\n",
      "importing Jupyter notebook from /Users/YK/mt/project/aux/nlp.ipynb\n",
      "importing Jupyter notebook from /Users/YK/mt/project/aux/relation_extraction.ipynb\n",
      "importing Jupyter notebook from /Users/YK/mt/project/aux/defs.ipynb\n",
      "importing Jupyter notebook from preparation.ipynb\n"
     ]
    }
   ],
   "source": [
    "import import_ipynb\n",
    "from aux import utils\n",
    "from aux import nlp\n",
    "from aux import relation_extraction\n",
    "from aux import defs\n",
    "import preparation"
   ]
  },
  {
   "cell_type": "code",
   "execution_count": 4,
   "metadata": {
    "collapsed": true
   },
   "outputs": [],
   "source": [
    "def is_nn(relation):\n",
    "    return (\n",
    "        relation is not None\n",
    "            and relation.left.type == \"N\"\n",
    "            and relation.right.type == \"N\"\n",
    "    )"
   ]
  },
  {
   "cell_type": "code",
   "execution_count": 5,
   "metadata": {
    "collapsed": true
   },
   "outputs": [],
   "source": [
    "class RuleExplanation07(defs.Rule):\n",
    "    name = \"explanation_07\"\n",
    "    relation_type = \"Explanation\"\n",
    "    reasons = {\n",
    "        \"COMMON_PATTERN_-_S=NN\": \n",
    "            defs.Reason(\n",
    "                1,\n",
    "                \"Common pattern ( -Satellite=NN).\"\n",
    "            ),\n",
    "        \"COMMON_PATTERN_S=NN_-\": \n",
    "            defs.Reason(\n",
    "                1,\n",
    "                \"Common pattern (Satellite=NN- ).\"\n",
    "            )\n",
    "    }\n",
    "    \n",
    "    def generate_statement(self, text, relation, verbose=False):\n",
    "        assert(relation is not None and relation.type == \"Explanation\")\n",
    "        info = preparation.Preprocessor.prepare_extended_info(text, relation, verbose)\n",
    "        if info is None:\n",
    "            utils.print_if_verbose(\"Extended info preparation wasn't successful.\", verbose)\n",
    "            return None\n",
    "        \n",
    "        utils.print_if_verbose(\n",
    "                \"Nucleus relation type: \"\n",
    "                f\"'{utils.get_relation_type(info.nucleus_info.relation)}'.\",\n",
    "                verbose\n",
    "            )\n",
    "        utils.print_if_verbose(\n",
    "            \"Satellite relation type: \"\n",
    "            f\"'{utils.get_relation_type(info.satellite_info.relation)}'.\",\n",
    "            verbose\n",
    "        )\n",
    "            \n",
    "        reason = None\n",
    "        \n",
    "        if (\n",
    "            info.nucleus_info.relation is None\n",
    "                and is_nn(info.satellite_info.relation)\n",
    "        ):\n",
    "            reason = self.reasons[\"COMMON_PATTERN_-_S=NN\"]\n",
    "        elif (\n",
    "            info.satellite_info.relation is None\n",
    "                and is_nn(info.nucleus_info.relation)\n",
    "        ):\n",
    "            reason = self.reasons[\"COMMON_PATTERN_S=NN_-\"]\n",
    "        \n",
    "        if reason is not None:\n",
    "            utils.print_if_verbose(reason.explanation, verbose)\n",
    "            \n",
    "            prepared_nucleus_text = utils.remove_trailing_punctuation(\n",
    "                utils.uppercase_first_letter(info.nucleus_preparation_result.prepared_text)\n",
    "            )\n",
    "            processed_s_text = nlp.remove_leading_words(\n",
    "                info.satellite_preparation_result.prepared_text, verbose\n",
    "            )\n",
    "#             processed_s_text = nlp.remove_leading_words(\n",
    "#                 info.satellite_preparation_result.prepared_text, verbose\n",
    "#             )\n",
    "#             prepared_s_text = utils.lowercase_first_letter(\n",
    "#                 processed_s_text if processed_s_text is not None \n",
    "#                     else info.satellite_preparation_result.prepared_text\n",
    "#             )\n",
    "            prepared_s_text = utils.lowercase_first_letter(\n",
    "                info.satellite_preparation_result.prepared_text\n",
    "            )\n",
    "            statement_text = f\"{prepared_nucleus_text} and {prepared_s_text}\"\n",
    "            return defs.Statement(\n",
    "                statement_text=statement_text,\n",
    "                nucleus=prepared_nucleus_text,\n",
    "                satellite_nucleus=prepared_s_text,\n",
    "                left_boundary=relation.left.start,\n",
    "                right_boundary=relation.right.end,\n",
    "                nucleus_proximity=info.nucleus_proximity.value,\n",
    "                rule=self.name,\n",
    "                reason=reason\n",
    "            )\n",
    "        else:\n",
    "            return None"
   ]
  },
  {
   "cell_type": "code",
   "execution_count": 6,
   "metadata": {
    "scrolled": false
   },
   "outputs": [
    {
     "name": "stdout",
     "output_type": "stream",
     "text": [
      "The Boones traveled across Pennsylvania .  At last the family came to the green Yadkin Valley in North Carolina .  There were a few houses there already , but the farmland was much broader than that in Pennsylvania .  Father Boone said , \" This is good farmland .  We will stop here . \"  \n",
      "Nucleus is on the left.\n",
      "Nucleus's depth <= 3.\n",
      "Nucleus is flat.\n",
      "Will use the whole segment.\n",
      "Satellite's nucleus is on the left.\n",
      "Nuclei proximity is NucleusProximity.NEAR\n",
      "The depth of the satellite's nucleus <= 3.\n",
      "Satellite's (left) nucleus contains '.', '!', '?', or ';'.\n",
      "Will use the whole segment.\n",
      "Text extracted from the satellite:\n",
      "At last the family came to the green Yadkin Valley in North Carolina.  There were a few houses there already, but the farmland was much broader than that in Pennsylvania.  Father Boone said, \" This is good farmland.  We will stop here. \"\n",
      "Nucleus relation type: '-'.\n",
      "Satellite relation type: 'Joint'.\n",
      "Common pattern ( -Satellite=NN).\n",
      "Removing tokens before the first NP:\n",
      "-- syntactic parsing result\n",
      " (ROOT\n",
      "  (S\n",
      "    (PP (IN At)\n",
      "      (NP (JJ last)))\n",
      "    (NP (DT the) (NN family))\n",
      "    (VP (VBD came)\n",
      "      (PP (TO to)\n",
      "        (NP (DT the) (JJ green) (NNP Yadkin) (NNP Valley)))\n",
      "      (PP (IN in)\n",
      "        (NP (NNP North) (NNP Carolina))))\n",
      "    (. .)))\n",
      "At last the family came to the green Yadkin Valley in North Carolina.  There were a few houses there already, but the farmland was much broader than that in Pennsylvania.  Father Boone said, \" This is good farmland.  We will stop here. \" \n",
      "---> \n",
      "last the family came to the green Yadkin Valley in North Carolina. There were a few houses there already, but the farmland was much broader than that in Pennsylvania. Father Boone said, '' This is good farmland. We will stop here. ''\n",
      "\n",
      "RESULT:\n",
      "{\n",
      "  \"statement_text\": \"The Boones traveled across Pennsylvania and at last the family came to the green Yadkin Valley in North Carolina.  There were a few houses there already, but the farmland was much broader than that in Pennsylvania.  Father Boone said, \\\" This is good farmland.  We will stop here. \\\"\",\n",
      "  \"nucleus\": \"The Boones traveled across Pennsylvania\",\n",
      "  \"satellite_nucleus\": \"at last the family came to the green Yadkin Valley in North Carolina.  There were a few houses there already, but the farmland was much broader than that in Pennsylvania.  Father Boone said, \\\" This is good farmland.  We will stop here. \\\"\",\n",
      "  \"left_boundary\": 937,\n",
      "  \"right_boundary\": 1225,\n",
      "  \"nucleus_proximity\": \"near\",\n",
      "  \"rule\": \"explanation_07\",\n",
      "  \"reason\": [\n",
      "    1,\n",
      "    \"Common pattern ( -Satellite=NN).\"\n",
      "  ]\n",
      "}\n"
     ]
    }
   ],
   "source": [
    "if __name__ == \"__main__\" and \"__file__\" not in globals():\n",
    "    rule = RuleExplanation07()\n",
    "\n",
    "    with open(\"../parsed/race/train/middle/2827.txt.tree\", \"rt\") as f:\n",
    "        tree_text = f.read()\n",
    "\n",
    "    text, relations = relation_extraction.read_relations(\n",
    "        tree_text.replace(\"<s>\", \"\").replace(\"<P>\", \"\")\n",
    "    )\n",
    "\n",
    "    expl = relations[\"Explanation\"][1]\n",
    "    print(text[expl.left.start:expl.right.end])\n",
    "\n",
    "    statement =rule.generate_statement(text, expl, verbose=True)\n",
    "    print(\"\\nRESULT:\")\n",
    "    if statement is not None:\n",
    "        print(json.dumps(statement._asdict(), indent=2))"
   ]
  },
  {
   "cell_type": "code",
   "execution_count": 7,
   "metadata": {},
   "outputs": [
    {
     "name": "stdout",
     "output_type": "stream",
     "text": [
      "After a short while , we can take our money from the slot at the bottom of the machine .  At last , if we do n't need other services , we can press the key for ending .  Then our cards will come out from the slot we put it in .  And we can finish our dealing and take the cards and money away .  \n",
      "Nucleus is on the left.\n",
      "Nucleus's depth <= 3.\n",
      "Nucleus is flat.\n",
      "Will use the whole segment.\n",
      "Satellite's nucleus is on the left.\n",
      "Nuclei proximity is NucleusProximity.NEAR\n",
      "The depth of the satellite's nucleus <= 3.\n",
      "Satellite's (left) nucleus contains '.', '!', '?', or ';'.\n",
      "Will use the whole segment.\n",
      "Text extracted from the satellite:\n",
      "At last, if we do n't need other services, we can press the key for ending.  Then our cards will come out from the slot we put it in.  And we can finish our dealing and take the cards and money away.\n",
      "Nucleus relation type: '-'.\n",
      "Satellite relation type: 'Joint'.\n",
      "Common pattern ( -Satellite=NN).\n",
      "Removing tokens before the first NP:\n",
      "-- syntactic parsing result\n",
      " (ROOT\n",
      "  (S\n",
      "    (PP (IN At)\n",
      "      (NP (JJ last)))\n",
      "    (, ,)\n",
      "    (SBAR (IN if)\n",
      "      (S\n",
      "        (NP (PRP we))\n",
      "        (VP (VBP do) (RB n't)\n",
      "          (VP (VB need)\n",
      "            (NP (JJ other) (NNS services))))))\n",
      "    (, ,)\n",
      "    (NP (PRP we))\n",
      "    (VP (MD can)\n",
      "      (VP (VB press)\n",
      "        (NP (DT the) (NN key))\n",
      "        (PP (IN for)\n",
      "          (S\n",
      "            (VP (VBG ending))))))\n",
      "    (. .)))\n",
      "At last, if we do n't need other services, we can press the key for ending.  Then our cards will come out from the slot we put it in.  And we can finish our dealing and take the cards and money away. \n",
      "---> \n",
      "last, if we do n't need other services, we can press the key for ending. Then our cards will come out from the slot we put it in. And we can finish our dealing and take the cards and money away.\n",
      "\n",
      "RESULT:\n",
      "{\n",
      "  \"statement_text\": \"After a short while, we can take our money from the slot at the bottom of the machine and at last, if we do n't need other services, we can press the key for ending.  Then our cards will come out from the slot we put it in.  And we can finish our dealing and take the cards and money away.\",\n",
      "  \"nucleus\": \"After a short while, we can take our money from the slot at the bottom of the machine\",\n",
      "  \"satellite_nucleus\": \"at last, if we do n't need other services, we can press the key for ending.  Then our cards will come out from the slot we put it in.  And we can finish our dealing and take the cards and money away.\",\n",
      "  \"left_boundary\": 703,\n",
      "  \"right_boundary\": 999,\n",
      "  \"nucleus_proximity\": \"near\",\n",
      "  \"rule\": \"explanation_07\",\n",
      "  \"reason\": [\n",
      "    1,\n",
      "    \"Common pattern ( -Satellite=NN).\"\n",
      "  ]\n",
      "}\n"
     ]
    }
   ],
   "source": [
    "if __name__ == \"__main__\" and \"__file__\" not in globals():\n",
    "    rule = RuleExplanation07()\n",
    "\n",
    "    with open(\"../parsed/race/train/middle/4568.txt.tree\", \"rt\") as f:\n",
    "        tree_text = f.read()\n",
    "\n",
    "    text, relations = relation_extraction.read_relations(\n",
    "        tree_text.replace(\"<s>\", \"\").replace(\"<P>\", \"\")\n",
    "    )\n",
    "\n",
    "    expl = relations[\"Explanation\"][1]\n",
    "    print(text[expl.left.start:expl.right.end])\n",
    "\n",
    "    statement =rule.generate_statement(text, expl, verbose=True)\n",
    "    print(\"\\nRESULT:\")\n",
    "    if statement is not None:\n",
    "        print(json.dumps(statement._asdict(), indent=2))"
   ]
  },
  {
   "cell_type": "code",
   "execution_count": null,
   "metadata": {
    "collapsed": true
   },
   "outputs": [],
   "source": []
  }
 ],
 "metadata": {
  "kernelspec": {
   "display_name": "Python 3",
   "language": "python",
   "name": "python3"
  },
  "language_info": {
   "codemirror_mode": {
    "name": "ipython",
    "version": 3
   },
   "file_extension": ".py",
   "mimetype": "text/x-python",
   "name": "python",
   "nbconvert_exporter": "python",
   "pygments_lexer": "ipython3",
   "version": "3.6.3"
  }
 },
 "nbformat": 4,
 "nbformat_minor": 2
}
