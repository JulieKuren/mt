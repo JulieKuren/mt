{
 "cells": [
  {
   "cell_type": "code",
   "execution_count": 1,
   "metadata": {
    "collapsed": true
   },
   "outputs": [],
   "source": [
    "import json"
   ]
  },
  {
   "cell_type": "code",
   "execution_count": 2,
   "metadata": {
    "collapsed": true
   },
   "outputs": [],
   "source": [
    "from nltk.tokenize import word_tokenize, sent_tokenize\n",
    "from nltk.stem.snowball import SnowballStemmer"
   ]
  },
  {
   "cell_type": "code",
   "execution_count": 3,
   "metadata": {},
   "outputs": [
    {
     "name": "stdout",
     "output_type": "stream",
     "text": [
      "importing Jupyter notebook from /Users/YK/mt/project/aux/utils.ipynb\n",
      "importing Jupyter notebook from /Users/YK/mt/project/aux/nlp.ipynb\n",
      "importing Jupyter notebook from /Users/YK/mt/project/aux/relation_extraction.ipynb\n",
      "importing Jupyter notebook from /Users/YK/mt/project/aux/defs.ipynb\n",
      "importing Jupyter notebook from preparation.ipynb\n",
      "importing Jupyter notebook from rule_base.ipynb\n"
     ]
    }
   ],
   "source": [
    "import import_ipynb\n",
    "from aux import utils\n",
    "from aux import nlp\n",
    "from aux import relation_extraction\n",
    "from aux import defs\n",
    "import preparation\n",
    "import rule_base"
   ]
  },
  {
   "cell_type": "code",
   "execution_count": 4,
   "metadata": {
    "collapsed": true
   },
   "outputs": [],
   "source": [
    "class RuleExplanation07(rule_base.Rule):\n",
    "    name = \"explanation_07\"\n",
    "    relation_type = \"Explanation\"\n",
    "    reasons = {\n",
    "        \"COMMON_PATTERN_N=NN_-\": \n",
    "            defs.Reason(\n",
    "                1,\n",
    "                \"Common pattern (Nucleus=NN- ).\"\n",
    "            )\n",
    "    }\n",
    "    \n",
    "    def generate_statement(self, text, relation, verbose=False, **kwargs):\n",
    "        assert(relation is not None and relation.type == \"Explanation\")\n",
    "        info = preparation.Preprocessor.prepare_extended_info(text, relation, verbose)\n",
    "        if info is None:\n",
    "            utils.print_if_verbose(\"Extended info preparation wasn't successful.\", verbose)\n",
    "            return None\n",
    "        \n",
    "        utils.print_if_verbose(\n",
    "                \"Nucleus relation type: \"\n",
    "                f\"'{utils.get_relation_type(info.nucleus_info.relation)}'.\",\n",
    "                verbose\n",
    "            )\n",
    "        utils.print_if_verbose(\n",
    "            \"Satellite relation type: \"\n",
    "            f\"'{utils.get_relation_type(info.satellite_info.relation)}'.\",\n",
    "            verbose\n",
    "        )\n",
    "            \n",
    "        reason = None\n",
    "        \n",
    "        if (\n",
    "            info.satellite_info.relation is None\n",
    "                and utils.is_nn(info.nucleus_info.relation)\n",
    "        ):\n",
    "            reason = self.reasons[\"COMMON_PATTERN_N=NN_-\"]\n",
    "        \n",
    "        if reason is not None:\n",
    "            utils.print_if_verbose(reason.explanation, verbose)\n",
    "            final_nucleus_text, final_sn_text = self._finalise_statement_parts(\n",
    "                info.nucleus_preparation_result.prepared_text,\n",
    "                info.satellite_preparation_result.prepared_text,\n",
    "                verbose\n",
    "            )\n",
    "            return self._generate_statement(\n",
    "                final_nucleus_text, \n",
    "                \" and \", \n",
    "                final_sn_text, \n",
    "                relation, \n",
    "                info.nucleus_proximity.value,\n",
    "                self.name,\n",
    "                reason,\n",
    "                verbose\n",
    "            )\n",
    "        else:\n",
    "            return None"
   ]
  },
  {
   "cell_type": "code",
   "execution_count": 5,
   "metadata": {
    "scrolled": false
   },
   "outputs": [
    {
     "name": "stdout",
     "output_type": "stream",
     "text": [
      "The Boones traveled across Pennsylvania .  At last the family came to the green Yadkin Valley in North Carolina .  There were a few houses there already , but the farmland was much broader than that in Pennsylvania .  Father Boone said , \" This is good farmland .  We will stop here . \"  \n",
      "Nucleus is on the left.\n",
      "Nucleus's depth <= 100.\n",
      "Nucleus is flat.\n",
      "Will use the whole segment.\n",
      "Satellite's nucleus is on the left.\n",
      "Nuclei proximity is NucleusProximity.NEAR\n",
      "Satellite's (left) nucleus contains '.', '!', '?', or ';'.\n",
      "Will use the whole segment.\n",
      "Text extracted from the satellite:\n",
      "At last the family came to the green Yadkin Valley in North Carolina.  There were a few houses there already, but the farmland was much broader than that in Pennsylvania.  Father Boone said, \" This is good farmland.  We will stop here. \"\n",
      "Nucleus relation type: '-'.\n",
      "Satellite relation type: 'Joint'.\n",
      "\n",
      "RESULT:\n"
     ]
    }
   ],
   "source": [
    "if __name__ == \"__main__\" and \"__file__\" not in globals():\n",
    "    rule = RuleExplanation07()\n",
    "\n",
    "    with open(\"../parsed/race/train/middle/2827.txt.tree\", \"rt\") as f:\n",
    "        tree_text = f.read()\n",
    "\n",
    "    text, relations = relation_extraction.read_relations(\n",
    "        tree_text.replace(\"<s>\", \"\").replace(\"<P>\", \"\")\n",
    "    )\n",
    "\n",
    "    expl = relations[\"Explanation\"][1]\n",
    "    print(text[expl.left.start:expl.right.end])\n",
    "\n",
    "    statement =rule.generate_statement(text, expl, verbose=True)\n",
    "    print(\"\\nRESULT:\")\n",
    "    if statement is not None:\n",
    "        print(json.dumps(statement._asdict(), indent=2))"
   ]
  },
  {
   "cell_type": "code",
   "execution_count": 6,
   "metadata": {},
   "outputs": [
    {
     "name": "stdout",
     "output_type": "stream",
     "text": [
      "After a short while , we can take our money from the slot at the bottom of the machine .  At last , if we do n't need other services , we can press the key for ending .  Then our cards will come out from the slot we put it in .  And we can finish our dealing and take the cards and money away .  \n",
      "Nucleus is on the left.\n",
      "Nucleus's depth <= 100.\n",
      "Nucleus is flat.\n",
      "Will use the whole segment.\n",
      "Satellite's nucleus is on the left.\n",
      "Nuclei proximity is NucleusProximity.NEAR\n",
      "Satellite's (left) nucleus contains '.', '!', '?', or ';'.\n",
      "Will use the whole segment.\n",
      "Text extracted from the satellite:\n",
      "At last, if we do n't need other services, we can press the key for ending.  Then our cards will come out from the slot we put it in.  And we can finish our dealing and take the cards and money away.\n",
      "Nucleus relation type: '-'.\n",
      "Satellite relation type: 'Joint'.\n",
      "\n",
      "RESULT:\n"
     ]
    }
   ],
   "source": [
    "if __name__ == \"__main__\" and \"__file__\" not in globals():\n",
    "    rule = RuleExplanation07()\n",
    "\n",
    "    with open(\"../parsed/race/train/middle/4568.txt.tree\", \"rt\") as f:\n",
    "        tree_text = f.read()\n",
    "\n",
    "    text, relations = relation_extraction.read_relations(\n",
    "        tree_text.replace(\"<s>\", \"\").replace(\"<P>\", \"\")\n",
    "    )\n",
    "\n",
    "    expl = relations[\"Explanation\"][1]\n",
    "    print(text[expl.left.start:expl.right.end])\n",
    "\n",
    "    statement =rule.generate_statement(text, expl, verbose=True)\n",
    "    print(\"\\nRESULT:\")\n",
    "    if statement is not None:\n",
    "        print(json.dumps(statement._asdict(), indent=2))"
   ]
  },
  {
   "cell_type": "code",
   "execution_count": 7,
   "metadata": {},
   "outputs": [
    {
     "name": "stdout",
     "output_type": "stream",
     "text": [
      "If you are not happy with China 's high Internet fees and slow speed , you are not alone.So is Premier Li Keqiang.On April 14 , he said in a meeting that the government should speed up the Internet and lower the fees .  \" The first question people ask at a new place is ' Is there WI-FI ' because Internet service fees are so high , \" said Premier Li.According to a recent survey by CCTV , the average cost of 1GB mobile Internet data per month in China is 100 Yuan , while it is only 60 Yuan in the US and 40 in Japan .  However , high prices do n't necessarily mean good service.The average Internet speed in China was 4.25 Mbps in late 2014 . South Korea had the fastest average Internet speed-25 .3 Mbps.People can download a 1 GB movie within 6 minutes in South Koreas , but in China it would take half an hour .  \n",
      "Nucleus is on the left.\n",
      "Nucleus's depth <= 100.\n",
      "Nucleus's left subsegment is not nucleus.\n",
      "Will use the whole segment.\n",
      "Satellite's nucleus is on the left.\n",
      "Nuclei proximity is NucleusProximity.NEAR\n",
      "Satellite's (left) nucleus contains '.', '!', '?', or ';'.\n",
      "Will use the whole segment.\n",
      "Text extracted from the satellite:\n",
      "\" The first question people ask at a new place is' Is there WI-FI' because Internet service fees are so high, \" said Premier Li.According to a recent survey by CCTV, the average cost of 1GB mobile Internet data per month in China is 100 Yuan, while it is only 60 Yuan in the US and 40 in Japan.  However, high prices do n't necessarily mean good service.The average Internet speed in China was 4.25 Mbps in late 2014. South Korea had the fastest average Internet speed-25.3 Mbps.People can download a 1 GB movie within 6 minutes in South Koreas, but in China it would take half an hour.\n",
      "Nucleus relation type: 'Condition'.\n",
      "Satellite relation type: 'Contrast'.\n",
      "\n",
      "RESULT:\n"
     ]
    }
   ],
   "source": [
    "if __name__ == \"__main__\" and \"__file__\" not in globals():\n",
    "    rule = RuleExplanation07()\n",
    "\n",
    "    with open(\"../parsed/race/train/middle/5535.txt.tree\", \"rt\") as f:\n",
    "        tree_text = f.read()\n",
    "\n",
    "    text, relations = relation_extraction.read_relations(\n",
    "        tree_text.replace(\"<s>\", \"\").replace(\"<P>\", \"\")\n",
    "    )\n",
    "\n",
    "    expl = relations[\"Explanation\"][1]\n",
    "    print(text[expl.left.start:expl.right.end])\n",
    "\n",
    "    statement =rule.generate_statement(text, expl, verbose=True)\n",
    "    print(\"\\nRESULT:\")\n",
    "    if statement is not None:\n",
    "        print(json.dumps(statement._asdict(), indent=2))"
   ]
  }
 ],
 "metadata": {
  "kernelspec": {
   "display_name": "Python 3",
   "language": "python",
   "name": "python3"
  },
  "language_info": {
   "codemirror_mode": {
    "name": "ipython",
    "version": 3
   },
   "file_extension": ".py",
   "mimetype": "text/x-python",
   "name": "python",
   "nbconvert_exporter": "python",
   "pygments_lexer": "ipython3",
   "version": "3.6.3"
  }
 },
 "nbformat": 4,
 "nbformat_minor": 2
}
