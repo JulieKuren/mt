{
 "cells": [
  {
   "cell_type": "code",
   "execution_count": 1,
   "metadata": {
    "collapsed": true
   },
   "outputs": [],
   "source": [
    "import abc"
   ]
  },
  {
   "cell_type": "code",
   "execution_count": 4,
   "metadata": {},
   "outputs": [
    {
     "name": "stdout",
     "output_type": "stream",
     "text": [
      "importing Jupyter notebook from /Users/YK/mt/project/aux/defs.ipynb\n"
     ]
    }
   ],
   "source": [
    "import import_ipynb\n",
    "import aux.defs\n",
    "import preparation"
   ]
  },
  {
   "cell_type": "code",
   "execution_count": 3,
   "metadata": {
    "collapsed": true
   },
   "outputs": [],
   "source": [
    "class Rule(metaclass=abc.ABCMeta):\n",
    "    @property\n",
    "    @abc.abstractmethod\n",
    "    def name(self):\n",
    "        pass\n",
    "    \n",
    "    @property\n",
    "    @abc.abstractmethod\n",
    "    def relation_type(self):\n",
    "        pass\n",
    "    \n",
    "    @property\n",
    "    @abc.abstractmethod\n",
    "    def reasons(self):\n",
    "        pass\n",
    "    \n",
    "    def _add_punctuation(self, text):\n",
    "        return preparation.add_punctuation(text)\n",
    "    \n",
    "    def _finalise_statement_parts(\n",
    "        self, prepared_nucleus_text, prepared_sn_text, verbose=False, add_punctuation=False\n",
    "    ):\n",
    "        final_nucleus_text = preparation.finalise_nucleus_text(\n",
    "            prepared_nucleus_text, verbose, add_punctuation\n",
    "        )\n",
    "        if final_nucleus_text is None:\n",
    "            return None, None\n",
    "        else:\n",
    "            final_sn_text = preparation.finalise_satellite_nucleus_text(\n",
    "                prepared_sn_text, verbose\n",
    "            )\n",
    "            if final_sn_text is None:\n",
    "                return None, None\n",
    "            else:\n",
    "                return final_nucleus_text, final_sn_text\n",
    "            \n",
    "    def _generate_statement(\n",
    "        self, \n",
    "        final_nucleus_text, \n",
    "        connective, \n",
    "        final_sn_text, \n",
    "        relation, \n",
    "        nucleus_proximity,\n",
    "        rule_name,\n",
    "        reason,\n",
    "        verbose=False\n",
    "    ):\n",
    "        if final_nucleus_text is None or final_sn_text is None:\n",
    "            if verbose:\n",
    "                print(\n",
    "                    \"Either final_nucleus_text or final_sn_text is None.\"\n",
    "                )\n",
    "            return None\n",
    "        return aux.defs.Statement(\n",
    "                statement_text=f\"{final_nucleus_text}{connective}{final_sn_text}\",\n",
    "                nucleus=final_nucleus_text,\n",
    "                connective=connective,\n",
    "                satellite_nucleus=final_sn_text,\n",
    "                left_boundary=relation.left.start,\n",
    "                right_boundary=relation.right.end,\n",
    "                split_point=relation.left.end,\n",
    "                nucleus_proximity=(\n",
    "                    nucleus_proximity.value \n",
    "                        if nucleus_proximity is not None else \"\"\n",
    "                ),\n",
    "                rule=rule_name,\n",
    "                reason=reason\n",
    "            )\n",
    "        \n",
    "    @abc.abstractmethod\n",
    "    def generate_statement(self, text, relation, verbose, **kwargs):\n",
    "        pass\n",
    "\n",
    "    \n",
    "# A template\n",
    "#\n",
    "# class TmpRule(Rule):\n",
    "#     name = \"tmp rule\"\n",
    "#     reasons = {\n",
    "#         \"CONTAINS_BECAUSE\": Reason(1, \"Contains because\")\n",
    "#     }\n",
    "#    \n",
    "#     def generate_statement(self, text, relation, verbose):\n",
    "#         return Statement(\n",
    "#             \"\", \n",
    "#             \"\", \n",
    "#             \"\", \n",
    "#             0, \n",
    "#             0, \n",
    "#             NucleusProximity.NEAR.value, \n",
    "#             TmpRule.name, \n",
    "#             TmpRule.reasons[\"CONTAINS_BECAUSE\"]\n",
    "#         )\n",
    "# (see aux.defs for the definition of Reason)"
   ]
  }
 ],
 "metadata": {
  "kernelspec": {
   "display_name": "Python 3",
   "language": "python",
   "name": "python3"
  },
  "language_info": {
   "codemirror_mode": {
    "name": "ipython",
    "version": 3
   },
   "file_extension": ".py",
   "mimetype": "text/x-python",
   "name": "python",
   "nbconvert_exporter": "python",
   "pygments_lexer": "ipython3",
   "version": "3.6.3"
  }
 },
 "nbformat": 4,
 "nbformat_minor": 2
}
