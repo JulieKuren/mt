{
 "cells": [
  {
   "cell_type": "code",
   "execution_count": 1,
   "metadata": {
    "collapsed": true
   },
   "outputs": [],
   "source": [
    "import json"
   ]
  },
  {
   "cell_type": "code",
   "execution_count": 2,
   "metadata": {
    "collapsed": true
   },
   "outputs": [],
   "source": [
    "from nltk.tokenize import word_tokenize, sent_tokenize\n",
    "from nltk.stem.snowball import SnowballStemmer"
   ]
  },
  {
   "cell_type": "code",
   "execution_count": 3,
   "metadata": {},
   "outputs": [
    {
     "name": "stdout",
     "output_type": "stream",
     "text": [
      "importing Jupyter notebook from /Users/YK/mt/project/aux/utils.ipynb\n",
      "importing Jupyter notebook from /Users/YK/mt/project/aux/nlp.ipynb\n",
      "importing Jupyter notebook from /Users/YK/mt/project/aux/relation_extraction.ipynb\n",
      "importing Jupyter notebook from /Users/YK/mt/project/aux/defs.ipynb\n",
      "importing Jupyter notebook from preparation.ipynb\n",
      "importing Jupyter notebook from rule_base.ipynb\n"
     ]
    }
   ],
   "source": [
    "import import_ipynb\n",
    "from aux import utils\n",
    "from aux import nlp\n",
    "from aux import relation_extraction\n",
    "from aux import defs\n",
    "import preparation\n",
    "import rule_base"
   ]
  },
  {
   "cell_type": "code",
   "execution_count": 4,
   "metadata": {
    "collapsed": true
   },
   "outputs": [],
   "source": [
    "class RuleExplanation08(rule_base.Rule):\n",
    "    name = \"explanation_08\"\n",
    "    relation_type = \"Explanation\"\n",
    "    reasons = {\n",
    "        \"COMMON_PATTERN_-_ELABORATION\": \n",
    "            defs.Reason(\n",
    "                1,\n",
    "                \"Common pattern ( -Elaboration).\"\n",
    "            )\n",
    "    }\n",
    "    \n",
    "    def generate_statement(self, text, relation, verbose=False, **kwargs):\n",
    "        assert(relation is not None and relation.type == \"Explanation\")\n",
    "        info = preparation.Preprocessor.prepare_extended_info(text, relation, verbose)\n",
    "        if info is None:\n",
    "            utils.print_if_verbose(\"Extended info preparation wasn't successful.\", verbose)\n",
    "            return None\n",
    "\n",
    "        if info.satellite_info.relation is None:\n",
    "            return None\n",
    "        \n",
    "        utils.print_if_verbose(\n",
    "                \"Nucleus relation type: \"\n",
    "                f\"'{utils.get_relation_type(info.nucleus_info.relation)}'.\",\n",
    "                verbose\n",
    "            )\n",
    "        utils.print_if_verbose(\n",
    "            \"Satellite relation type: \"\n",
    "            f\"'{utils.get_relation_type(info.satellite_info.relation)}'.\",\n",
    "            verbose\n",
    "        )\n",
    "            \n",
    "        reason = None\n",
    "        \n",
    "        if info.nucleus_info.relation is None:\n",
    "            if info.satellite_info.relation.type == \"Elaboration\":\n",
    "                reason = self.reasons[\"COMMON_PATTERN_-_ELABORATION\"]\n",
    "\n",
    "        if reason is not None:\n",
    "            utils.print_if_verbose(reason.explanation, verbose)\n",
    "            final_nucleus_text, final_sn_text = self._finalise_statement_parts(\n",
    "                info.nucleus_preparation_result.prepared_text,\n",
    "                info.satellite_preparation_result.prepared_text,\n",
    "                verbose\n",
    "            )\n",
    "            return self._generate_statement(\n",
    "                final_nucleus_text, \n",
    "                \" then \", \n",
    "                final_sn_text, \n",
    "                relation, \n",
    "                info.nucleus_proximity,\n",
    "                self.name,\n",
    "                reason,\n",
    "                verbose\n",
    "            )\n",
    "        else:\n",
    "            return None"
   ]
  },
  {
   "cell_type": "code",
   "execution_count": 5,
   "metadata": {
    "scrolled": false
   },
   "outputs": [
    {
     "name": "stdout",
     "output_type": "stream",
     "text": [
      "I do n't want that kind of life , \" Ma said .  After her story became known , many French student sent money to her .  Ma 's dream is the same as ever .  She hopes to go to Tsinghua University and become a reporter .  \" Then , I can find poor kids like me and help them , \" she said .  \n",
      "Nucleus is on the left.\n",
      "Nucleus's depth <= 100.\n",
      "Parsing result:\n",
      "(ROOT\n",
      "  (S\n",
      "    (S\n",
      "      (NP (PRP I))\n",
      "      (VP (VBP do) (RB n't)\n",
      "        (VP (VB want)\n",
      "          (NP\n",
      "            (NP (DT that) (NN kind))\n",
      "            (PP (IN of)\n",
      "              (NP (NN life)))))))\n",
      "    (, ,) ('' '')\n",
      "    (NP (NNP Ma))\n",
      "    (VP (VBD said))\n",
      "    (. .)))\n",
      "\n",
      "Constituencies:\n",
      "    type  start  end  depth\n",
      "0    PRP      0    1      4\n",
      "1     NP      0    1      3\n",
      "2    VBP      1    2      4\n",
      "3     RB      2    3      4\n",
      "4     VB      3    4      5\n",
      "5     DT      4    5      7\n",
      "6     NN      5    6      7\n",
      "7     NP      4    6      6\n",
      "8     IN      6    7      7\n",
      "9     NN      7    8      8\n",
      "10    NP      7    8      7\n",
      "11    PP      6    8      6\n",
      "12    NP      4    8      5\n",
      "13    VP      3    8      4\n",
      "14    VP      1    8      3\n",
      "15     S      0    8      2\n",
      "16     ,      8    9      2\n",
      "17    ''      9   10      2\n",
      "18   NNP     10   11      3\n",
      "19    NP     10   11      2\n",
      "20   VBD     11   12      3\n",
      "21    VP     11   12      2\n",
      "22     .     12   13      2\n",
      "23     S      0   13      1\n",
      "24  ROOT      0   13      0\n",
      "\n",
      "Sentence starts at 1314.\n",
      "Boundaries: (0, 10, 10, 13)\n",
      "Left and right VP boundaries: (1, 8), (11, 12)\n",
      "Umbrella VPs:\n",
      "Empty DataFrame\n",
      "Columns: [type, start, end, depth]\n",
      "Index: []\n",
      "Nucleus's (left) nucleus doesn't contain '.', '!', '?', or ';' but none of the other two conditions is met.\n",
      "Will use the whole segment.\n",
      "Satellite's nucleus is on the left.\n",
      "Nuclei proximity is NucleusProximity.NEAR\n",
      "Satellite's (left) nucleus contains '.', '!', '?', or ';'.\n",
      "Will use the whole segment.\n",
      "Text extracted from the satellite:\n",
      "After her story became known, many French student sent money to her.  Ma's dream is the same as ever.  She hopes to go to Tsinghua University and become a reporter.  \" Then, I can find poor kids like me and help them, \" she said.\n",
      "Nucleus relation type: 'Attribution'.\n",
      "Satellite relation type: 'Explanation'.\n",
      "\n",
      "RESULT:\n"
     ]
    }
   ],
   "source": [
    "if __name__ == \"__main__\" and \"__file__\" not in globals():\n",
    "    rule = RuleExplanation08()\n",
    "\n",
    "    with open(\"../parsed/race/train/middle/7617.txt.tree\", \"rt\") as f:\n",
    "        tree_text = f.read()\n",
    "\n",
    "    text, relations = relation_extraction.read_relations(\n",
    "        tree_text.replace(\"<s>\", \"\").replace(\"<P>\", \"\")\n",
    "    )\n",
    "\n",
    "    expl = relations[\"Explanation\"][3]\n",
    "    print(text[expl.left.start:expl.right.end])\n",
    "\n",
    "    statement =rule.generate_statement(text, expl, verbose=True)\n",
    "    print(\"\\nRESULT:\")\n",
    "    if statement is not None:\n",
    "        print(json.dumps(statement._asdict(), indent=2))"
   ]
  },
  {
   "cell_type": "code",
   "execution_count": null,
   "metadata": {
    "collapsed": true
   },
   "outputs": [],
   "source": []
  }
 ],
 "metadata": {
  "kernelspec": {
   "display_name": "Python 3",
   "language": "python",
   "name": "python3"
  },
  "language_info": {
   "codemirror_mode": {
    "name": "ipython",
    "version": 3
   },
   "file_extension": ".py",
   "mimetype": "text/x-python",
   "name": "python",
   "nbconvert_exporter": "python",
   "pygments_lexer": "ipython3",
   "version": "3.6.3"
  }
 },
 "nbformat": 4,
 "nbformat_minor": 2
}
