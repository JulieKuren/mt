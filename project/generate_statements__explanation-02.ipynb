{
 "cells": [
  {
   "cell_type": "code",
   "execution_count": 125,
   "metadata": {
    "collapsed": true
   },
   "outputs": [],
   "source": [
    "from nltk.tokenize import word_tokenize, sent_tokenize\n",
    "from nltk.stem.snowball import SnowballStemmer"
   ]
  },
  {
   "cell_type": "code",
   "execution_count": 340,
   "metadata": {
    "collapsed": true
   },
   "outputs": [],
   "source": [
    "%run ./utils.ipynb\n",
    "%run ./nlp.ipynb\n",
    "%run ./relation_extraction.ipynb"
   ]
  },
  {
   "cell_type": "code",
   "execution_count": 185,
   "metadata": {
    "collapsed": true
   },
   "outputs": [],
   "source": [
    "# text, relations = extract_relations(\n",
    "#     \"parsed/race/train/middle/3260.txt.tree\"\n",
    "# )"
   ]
  },
  {
   "cell_type": "code",
   "execution_count": 6,
   "metadata": {
    "collapsed": true
   },
   "outputs": [],
   "source": [
    "def is_attribution(relation):\n",
    "    return relation is not None and relation.type == \"Attribution\"\n",
    "\n",
    "\n",
    "def has_nested_attribution(relation):\n",
    "    return (\n",
    "        (\n",
    "            relation.left == \"N\" and is_attribution(relation.left_child)\n",
    "        )\n",
    "        or (\n",
    "            relation.right == \"N\" and is_attribution(relation.right_child)\n",
    "        )\n",
    "    )"
   ]
  },
  {
   "cell_type": "code",
   "execution_count": 7,
   "metadata": {
    "collapsed": true
   },
   "outputs": [],
   "source": [
    "class SpeechVerbFinder:\n",
    "    def __init__(self):\n",
    "        with open(\"speech_verbs.txt\", \"rt\") as f:\n",
    "            self.speech_verbs = {line.strip().lower() for line in f.readlines()}\n",
    "    \n",
    "    def find_speech_verb(self, tokens):\n",
    "        found_verbs = self.speech_verbs.intersection({normalise_verb(t) for t in tokens})\n",
    "        if len(found_verbs) == 0:\n",
    "            return None\n",
    "        else:\n",
    "            return list(found_verbs)[0]"
   ]
  },
  {
   "cell_type": "code",
   "execution_count": 342,
   "metadata": {
    "collapsed": true
   },
   "outputs": [],
   "source": [
    "speech_verb_finder = SpeechVerbFinder()\n",
    "\n",
    "def rule_explanation_02(text, relation, verbose=False):\n",
    "    assert(relation is not None and relation.type == \"Explanation\")\n",
    "    info = prepare_extended_info(relation, verbose)\n",
    "    if info is None:\n",
    "        print_if_verbose(\"Extended info preparation wasn't successful.\", verbose)\n",
    "        return None, None\n",
    "    \n",
    "    _, ss_segment = info.satellite_info.relation.get_satellite()\n",
    "    if ss_segment is not None:\n",
    "        if info.nucleus_text[:1] == '\"' or info.nucleus_text[:2] == \"``\":\n",
    "            ss_tokens = tokenize(text[ss_segment.start:ss_segment.end])\n",
    "            satellite_speech_verb = speech_verb_finder.find_speech_verb(ss_tokens)\n",
    "            if satellite_speech_verb is not None:\n",
    "                new_st, sent_no = move_st(text, ss_segment.start, 5)\n",
    "                resolved_subjects = get_resolved_subjects(text[new_st:ss_segment.end])\n",
    "                if len(resolved_subjects) > 0:\n",
    "                    resolved_subject = resolved_subjects[-1]\n",
    "                    if resolved_subject is not None:\n",
    "                        statement = (\n",
    "                            \"{nucleus}. That is why \"\n",
    "                            \"{subject} {verb} {satellite_nucleus}\".format(\n",
    "                                nucleus=remove_trailing_punctuation(\n",
    "                                    uppercase_first_letter(info.nucleus_text)\n",
    "                                ),\n",
    "                                subject=resolved_subject,\n",
    "                                verb=conjugate(satellite_speech_verb),\n",
    "                                satellite_nucleus=lowercase_first_letter(info.sn_text)\n",
    "                            )\n",
    "                        )\n",
    "                        return statement, info.nucleus_proximity\n",
    "                    else:\n",
    "                        print_if_verbose(\n",
    "                            \"Failed to find the subject of the satellite's satellite.\", verbose\n",
    "                        ) \n",
    "                else:\n",
    "                    print_if_verbose(\n",
    "                        \"Failed to find the subject of the satellite's satellite.\", verbose\n",
    "                    )\n",
    "            else:\n",
    "                 print_if_verbose(\n",
    "                     \"Didn't find any speech verbs in the satellite's satellite.\", verbose\n",
    "                 )  \n",
    "        else:\n",
    "            print_if_verbose(\"Nucleus doesn't start with quotes.\", verbose)\n",
    "    else:\n",
    "        print_if_verbose(\"Satellite doesn't have a satellite.\", verbose)\n",
    "    \n",
    "    condition_holds = False\n",
    "    \n",
    "    if get_first_token(\n",
    "            text[info.satellite_info.segment.start:info.satellite_info.segment.end]\n",
    "        ) == \"so\":\n",
    "        print_if_verbose(\"Satellite starts with 'so'.\", verbose)\n",
    "        condition_holds = True\n",
    "    else:\n",
    "        print_if_verbose(\n",
    "            f\"Nucleus relation type: '{get_relation_type(info.nucleus_info.relation)}'.\",\n",
    "            verbose\n",
    "        )\n",
    "        print_if_verbose(\n",
    "            f\"Satellite relation type: '{get_relation_type(info.satellite_info.relation)}'.\",\n",
    "            verbose\n",
    "        )\n",
    "        if (\n",
    "            info.nucleus_info.relation is None \n",
    "            and info.satellite_info.relation is not None\n",
    "            and (\n",
    "                    info.satellite_info.relation.type in {\n",
    "                        \"Joint\", \"Elaboration\", \"Attribution\"\n",
    "                    }\n",
    "                    or (\n",
    "                        info.satellite_info.relation.type == \"Explanation\" \n",
    "                        and has_nested_attribution(info.satellite_info.relation)\n",
    "                    )\n",
    "            )\n",
    "        ):\n",
    "            print_if_verbose(\n",
    "                \"First condition was met.\", verbose\n",
    "            )\n",
    "            condition_holds = True\n",
    "        else:\n",
    "            if (\n",
    "                info.nucleus_info.relation is not None\n",
    "                and info.satellite_info.relation is not None\n",
    "                and (\n",
    "                    (\n",
    "                        info.nucleus_info.relation.type == \"Elaboration\"\n",
    "                        and info.satellite_info.relation.type == \"Attribution\"\n",
    "                    )\n",
    "                    or (\n",
    "                        info.nucleus_info.relation.type == \"Background\"\n",
    "                        and info.satellite_info.relation.type == \"Explanation\"\n",
    "                    )\n",
    "                    or (\n",
    "                        info.nucleus_info.relation.type == \"Joint\"\n",
    "                        and info.satellite_info.relation.type in {\n",
    "                            \"Elaboration\", \"Attribution\", \"Explanation\"\n",
    "                        }\n",
    "                    )\n",
    "                )\n",
    "            ):\n",
    "                print_if_verbose(\n",
    "                    \"Second condition was met.\", verbose\n",
    "                )\n",
    "                condition_holds = True\n",
    "            else:\n",
    "                print_if_verbose(\n",
    "                    \"None of conditions was met.\", verbose\n",
    "                )\n",
    "    if condition_holds:\n",
    "        processed_sn_text = remove_leading_words(info.sn_text, verbose)\n",
    "        statement = \"{nucleus}. That is why {satellite_nucleus}\".format(\n",
    "            nucleus=remove_trailing_punctuation(\n",
    "                uppercase_first_letter(info.nucleus_text)\n",
    "            ),\n",
    "            satellite_nucleus=lowercase_first_letter(\n",
    "                processed_sn_text if processed_sn_text is not None \n",
    "                    else info.sn_text\n",
    "            )\n",
    "        )\n",
    "        return statement, info.nucleus_proximity\n",
    "    else:\n",
    "        return None, None"
   ]
  },
  {
   "cell_type": "code",
   "execution_count": null,
   "metadata": {
    "collapsed": true
   },
   "outputs": [],
   "source": []
  },
  {
   "cell_type": "code",
   "execution_count": 343,
   "metadata": {
    "collapsed": true
   },
   "outputs": [],
   "source": [
    "with open(\"parsed/race/train/middle/1796.txt.tree\", \"rt\") as f:\n",
    "    tree_text = f.read()\n",
    "\n",
    "text, relations = read_relations(tree_text.replace(\"<s>\", \"\").replace(\"<P>\", \"\"))"
   ]
  },
  {
   "cell_type": "code",
   "execution_count": 344,
   "metadata": {},
   "outputs": [
    {
     "data": {
      "text/plain": [
       "'They are so beautiful .  Nancy : I love spring .  I love going to the beach and spending a whole day there .  It is so relaxing to lie on the beach .  I also like surfing in the sea .  James : I am twelve years old .  My favorite spring activity is swimming .  I started to learn swimming when I was seven years old .  I always have a good time with my friends in the river .  '"
      ]
     },
     "execution_count": 344,
     "metadata": {},
     "output_type": "execute_result"
    }
   ],
   "source": [
    "expl = relations[\"Explanation\"][2]\n",
    "text[expl.left.start:expl.right.end]"
   ]
  },
  {
   "cell_type": "code",
   "execution_count": 345,
   "metadata": {},
   "outputs": [
    {
     "name": "stdout",
     "output_type": "stream",
     "text": [
      "Nucleus is on the left.\n",
      "Satellite's nucleus is on the left.\n",
      "Nuclei proximity is near\n",
      "Satellite doesn't have nested relations or its depth is too small.\n",
      "Satellite doesn't contain a wh-word or 'how'.\n",
      "Nucleus doesn't start with quotes.\n",
      "Nucleus relation type: '-'.\n",
      "Satellite relation type: 'Elaboration'.\n",
      "First condition was met.\n",
      "Removed tokens before the first NP: \n",
      "Nancy : I love spring. \n",
      "---> \n",
      "Nancy: I love spring.\n"
     ]
    },
    {
     "data": {
      "text/plain": [
       "('They are so beautiful. That is why nancy: I love spring.', 'near')"
      ]
     },
     "execution_count": 345,
     "metadata": {},
     "output_type": "execute_result"
    }
   ],
   "source": [
    " rule_explanation_02(text, expl, verbose=True)"
   ]
  },
  {
   "cell_type": "code",
   "execution_count": null,
   "metadata": {
    "collapsed": true
   },
   "outputs": [],
   "source": []
  },
  {
   "cell_type": "code",
   "execution_count": 352,
   "metadata": {
    "collapsed": true
   },
   "outputs": [],
   "source": [
    "with open(\"parsed/race/train/middle/8045.txt.tree\", \"rt\") as f:\n",
    "    tree_text = f.read()\n",
    "\n",
    "text, relations = read_relations(tree_text.replace(\"<s>\", \"\").replace(\"<P>\", \"\"))"
   ]
  },
  {
   "cell_type": "code",
   "execution_count": 353,
   "metadata": {},
   "outputs": [
    {
     "data": {
      "text/plain": [
       "\"David sent a picture of himself : he was a tall , good-looking young man with big , happy smile .  As time went by , they became good friends and often sent cards and small things to each other .  When Jean 's father told her that he was going on a business trip to San Francisco , she asked him to let her go with him , so that she could give David a surprise for his birthday .  She would take him the latest DVD of the rock singer they liked most .  But when Jean knocked in David 's door in San Francisco , she found that the special friend she had written to was a twelve-year-old boy named Jim !  \""
      ]
     },
     "execution_count": 353,
     "metadata": {},
     "output_type": "execute_result"
    }
   ],
   "source": [
    "expl = relations[\"Explanation\"][0]\n",
    "text[expl.left.start:expl.right.end]"
   ]
  },
  {
   "cell_type": "code",
   "execution_count": 354,
   "metadata": {},
   "outputs": [
    {
     "name": "stdout",
     "output_type": "stream",
     "text": [
      "Nucleus is on the left.\n",
      "Satellite's nucleus is on the left.\n",
      "Nuclei proximity is near\n",
      "Satellite doesn't have nested relations or its depth is too small.\n",
      "Satellite doesn't contain a wh-word or 'how'.\n",
      "Nucleus doesn't start with quotes.\n",
      "Nucleus relation type: 'Attribution'.\n",
      "Satellite relation type: 'Elaboration'.\n",
      "None of conditions was met.\n"
     ]
    },
    {
     "data": {
      "text/plain": [
       "(None, None)"
      ]
     },
     "execution_count": 354,
     "metadata": {},
     "output_type": "execute_result"
    }
   ],
   "source": [
    " rule_explanation_02(text, expl, verbose=True)"
   ]
  },
  {
   "cell_type": "code",
   "execution_count": null,
   "metadata": {
    "collapsed": true
   },
   "outputs": [],
   "source": []
  },
  {
   "cell_type": "code",
   "execution_count": 355,
   "metadata": {
    "collapsed": true
   },
   "outputs": [],
   "source": [
    "with open(\"parsed/race/train/middle/7236.txt.tree\", \"rt\") as f:\n",
    "    tree_text = f.read()\n",
    "\n",
    "text, relations = read_relations(tree_text.replace(\"<s>\", \"\").replace(\"<P>\", \"\"))"
   ]
  },
  {
   "cell_type": "code",
   "execution_count": 356,
   "metadata": {},
   "outputs": [
    {
     "data": {
      "text/plain": [
       "'Your body needs to take in oxygen from the air and give out the unwanted carbon dioxide in the body .  When you breathe , air comes through your nose and mouth into your lungs where oxygen flows to different parts of your body .  What makes me sneeze ?  When dust or a strong smell gets into your nose , you sneeze .  This is the way your body cleans up the dust in your nose .  Your lungs push out the air and try to clear your nose .  What does my heart do ?  Your heart is a very special muscle .  It is slightly bigger than your fist and grows bigger as you do .  If you place your hand on your heart , you will feel your heart beating which forces blood to move around your body .  '"
      ]
     },
     "execution_count": 356,
     "metadata": {},
     "output_type": "execute_result"
    }
   ],
   "source": [
    "expl = relations[\"Explanation\"][2]\n",
    "text[expl.left.start:expl.right.end]"
   ]
  },
  {
   "cell_type": "code",
   "execution_count": 357,
   "metadata": {},
   "outputs": [
    {
     "name": "stdout",
     "output_type": "stream",
     "text": [
      "Nucleus is on the left.\n",
      "Satellite's nucleus is on the left.\n",
      "Nuclei proximity is near\n",
      "Satellite doesn't have nested relations or its depth is too small.\n",
      "Satellite's nucleus contains a wh-word or 'how' in the middle and will be cut at its position.\n",
      "Nucleus doesn't start with quotes.\n",
      "Nucleus relation type: 'Joint'.\n",
      "Satellite relation type: 'Elaboration'.\n",
      "Second condition was met.\n",
      "Removed tokens before the first NP: \n",
      "when you breathe , air comes through your nose and mouth into your lungs \n",
      "---> \n",
      "you breathe, air comes through your nose and mouth into your lungs\n"
     ]
    },
    {
     "data": {
      "text/plain": [
       "('Your body needs to take in oxygen from the air and give out the unwanted carbon dioxide in the body. That is why you breathe, air comes through your nose and mouth into your lungs',\n",
       " 'near')"
      ]
     },
     "execution_count": 357,
     "metadata": {},
     "output_type": "execute_result"
    }
   ],
   "source": [
    "rule_explanation_02(text, expl, verbose=True)"
   ]
  },
  {
   "cell_type": "code",
   "execution_count": null,
   "metadata": {
    "collapsed": true
   },
   "outputs": [],
   "source": []
  },
  {
   "cell_type": "code",
   "execution_count": null,
   "metadata": {
    "collapsed": true
   },
   "outputs": [],
   "source": []
  },
  {
   "cell_type": "code",
   "execution_count": 319,
   "metadata": {},
   "outputs": [],
   "source": [
    "DIRECTORY = \"parsed/race/train/middle\"\n",
    "\n",
    "statements_near, statements_far = [], []\n",
    "for file_name in os.listdir(DIRECTORY):\n",
    "    path = os.path.join(DIRECTORY, file_name)\n",
    "    text, relations = extract_relations(path)\n",
    "    \n",
    "    if \"Explanation\" in relations:\n",
    "        for relation in relations[\"Explanation\"]:\n",
    "            statement, nucleus_proximity = rule_explanation_02(\n",
    "                text, \n",
    "                relation\n",
    "            )\n",
    "            if statement is not None:\n",
    "                statement_str = f\"[{path}]\\n{statement}\"\n",
    "                if nucleus_proximity == \"near\":\n",
    "                    statements_near.append(statement_str)\n",
    "                else:\n",
    "                    statements_far.append(statement_str)"
   ]
  },
  {
   "cell_type": "code",
   "execution_count": 320,
   "metadata": {
    "collapsed": true
   },
   "outputs": [],
   "source": [
    "OUTPUT_DIR = \"statements/explanation_rule_02\""
   ]
  },
  {
   "cell_type": "code",
   "execution_count": 44,
   "metadata": {},
   "outputs": [],
   "source": [
    "!mkdir {os.path.join(OUTPUT_DIR, \"train\")}"
   ]
  },
  {
   "cell_type": "code",
   "execution_count": 321,
   "metadata": {},
   "outputs": [],
   "source": [
    "with open(\n",
    "    os.path.join(OUTPUT_DIR, \"train/middle_near.txt\"), \n",
    "    \"wt\"\n",
    ") as f:\n",
    "    f.write(\"\\n\".join(statements_near))"
   ]
  },
  {
   "cell_type": "code",
   "execution_count": 322,
   "metadata": {
    "collapsed": true
   },
   "outputs": [],
   "source": [
    "with open(\n",
    "    os.path.join(OUTPUT_DIR, \"train/middle_far.txt\"), \n",
    "    \"wt\"\n",
    ") as f:\n",
    "    f.write(\"\\n\".join(statements_far))"
   ]
  },
  {
   "cell_type": "code",
   "execution_count": 323,
   "metadata": {},
   "outputs": [
    {
     "name": "stdout",
     "output_type": "stream",
     "text": [
      "[parsed/race/train/middle/7236.txt.tree]\n",
      "Your body needs to take in oxygen from the air and give out the unwanted carbon dioxide in the body. That is why you breathe, air comes through your nose and mouth into your lungs\n",
      "\n",
      "\n",
      "[parsed/race/train/middle/7236.txt.tree]\n",
      "As a result, your body temperature drops. That is why i move?\n",
      "\n",
      "\n",
      "[parsed/race/train/middle/7237.txt.tree]\n",
      "\" And he waited quietly for his turn, instead of pushing the others aside ; showing that he was modest ( ). That is why <P> called ``\n",
      "\n",
      "\n",
      "[parsed/race/train/middle/7051.txt.tree]\n",
      "Red is the main color. That is why they do n't draw eyebrows.\n",
      "\n",
      "\n",
      "[parsed/race/train/middle/7051.txt.tree]\n",
      "When actors perform, they will paint \" monkey faces \" with colors. That is why red is the main color.\n",
      "\n",
      "\n",
      "[parsed/race/train/middle/7051.txt.tree]\n",
      "It shows the happy reunion of families. That is why the monkey stamps were for sale on Jan. 5th.\n",
      "\n",
      "\n",
      "[parsed/race/train/middle/6299.txt.tree]\n",
      "Finally, jog the whole way. That is why it will be easy for you to start jogging for 15 minutes twice a week, slowly, increase this to 20-30minutes everyday.\n",
      "\n",
      "\n",
      "[parsed/race/train/middle/871.txt.tree]\n",
      "About 200,000,000 people speak it as their own language. That is why it is difficult to say\n",
      "\n",
      "\n",
      "[parsed/race/train/middle/687.txt.tree]\n",
      "Jamie stood in front of the blackboard and started to write. That is why mr Black saw his right hand was dirty.\n",
      "\n",
      "\n",
      "[parsed/race/train/middle/687.txt.tree]\n",
      "After some time his basketball was dirty and his hands were dirty, too. That is why it was 9: 45 and the third class began. Jamie had no time to wash his hands and ran into his classroom.\n",
      "\n",
      "\n",
      "[parsed/race/train/middle/7504.txt.tree]\n",
      "However, the reform has demanded more from teachers. That is why they have only 15 minutes to give a lesson that would have been taught in 45 minutes before.\n",
      "\n",
      "\n",
      "[parsed/race/train/middle/5664.txt.tree]\n",
      "Give the person a basket of fresh fruit or a homemade treat. That is why a friend to a movie, meal, snack or coffee.\n",
      "\n",
      "\n",
      "[parsed/race/train/middle/249.txt.tree]\n",
      "It was never able to fly. That is why the man acted with kindness but he did n't understand that he had done something wrong.\n",
      "\n",
      "\n",
      "[parsed/race/train/middle/249.txt.tree]\n",
      "The butterfly did n't start to fly. That is why fact, the butterfly spent the rest of its life crawling around with a weak body and thin wings.\n",
      "\n",
      "\n",
      "[parsed/race/train/middle/249.txt.tree]\n",
      "Sometimes struggles are exactly what we need in our lives. That is why we lived our lives without any problems, we would never learn or grow.\n",
      "\n",
      "\n",
      "[parsed/race/train/middle/6164.txt.tree]\n",
      "Her name is Linda. That is why she is very nice.\n",
      "\n",
      "\n",
      "[parsed/race/train/middle/6164.txt.tree]\n",
      "And what about the woman. That is why she is my mother.\n",
      "\n",
      "\n",
      "[parsed/race/train/middle/248.txt.tree]\n",
      "I had never talked with her before. That is why fact, I 'd never even thought about talking to her.\n",
      "\n",
      "\n",
      "[parsed/race/train/middle/6303.txt.tree]\n",
      "I arrived at the restaurant exactly on time. That is why i 'd been told that Americans expect you to be on time. Lynne and I sat at a table in the corner of restaurant and a waitress came and took our order.\n",
      "\n",
      "\n"
     ]
    }
   ],
   "source": [
    "for s in statements_near[11:30]:\n",
    "    print(s)\n",
    "    print(\"\\n\")"
   ]
  },
  {
   "cell_type": "code",
   "execution_count": null,
   "metadata": {
    "collapsed": true
   },
   "outputs": [],
   "source": []
  }
 ],
 "metadata": {
  "kernelspec": {
   "display_name": "Python 3",
   "language": "python",
   "name": "python3"
  },
  "language_info": {
   "codemirror_mode": {
    "name": "ipython",
    "version": 3
   },
   "file_extension": ".py",
   "mimetype": "text/x-python",
   "name": "python",
   "nbconvert_exporter": "python",
   "pygments_lexer": "ipython3",
   "version": "3.6.3"
  }
 },
 "nbformat": 4,
 "nbformat_minor": 2
}
