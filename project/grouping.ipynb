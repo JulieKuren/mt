{
 "cells": [
  {
   "cell_type": "code",
   "execution_count": 1,
   "metadata": {},
   "outputs": [],
   "source": [
    "import json\n",
    "import os\n",
    "import random"
   ]
  },
  {
   "cell_type": "code",
   "execution_count": 2,
   "metadata": {
    "collapsed": true
   },
   "outputs": [],
   "source": [
    "import pandas as pd"
   ]
  },
  {
   "cell_type": "code",
   "execution_count": 3,
   "metadata": {
    "collapsed": true
   },
   "outputs": [],
   "source": [
    "STATEMENTS_DIR = \"/Users/YK/mt/project/statements_2/\"\n",
    "RACE_PART = \"train/middle\"\n",
    "RACE_DIR = \"/Users/YK/mt/RACE\"\n",
    "PARSED_RACE_DIR = \"/Users/YK/mt/parsed/race\"\n",
    "LINK_TEMPLATE = \"<html><a href={link}>text</a></html>\""
   ]
  },
  {
   "cell_type": "code",
   "execution_count": 4,
   "metadata": {
    "collapsed": true
   },
   "outputs": [],
   "source": [
    "rule_names = [\n",
    "    file_name for file_name in os.listdir(STATEMENTS_DIR) \n",
    "        if file_name[0] != '.' and os.path.isdir(os.path.join(STATEMENTS_DIR, file_name))\n",
    "]"
   ]
  },
  {
   "cell_type": "code",
   "execution_count": 5,
   "metadata": {
    "collapsed": true
   },
   "outputs": [],
   "source": [
    "all_statements = []\n",
    "\n",
    "for rule_name in rule_names:\n",
    "    directory = os.path.join(STATEMENTS_DIR, rule_name, RACE_PART)\n",
    "    for file_name in os.listdir(directory):\n",
    "        with open(os.path.join(directory, file_name), \"rt\") as f:\n",
    "            file_no_str = file_name.split(\".\", 1)[0]\n",
    "#             text_file = LINK_TEMPLATE.format(\n",
    "#                 link=f'file://{os.path.join(RACE_DIR, RACE_PART, file_no_str + \".txt\")}',\n",
    "#                 text=file_no_str + \".txt\"\n",
    "#             )\n",
    "#             tree_file = LINK_TEMPLATE.format(\n",
    "#                 link=f'file://{os.path.join(PARSED_RACE_DIR, RACE_PART, file_no_str + \".txt.tree\")}',\n",
    "#                 text=file_no_str + \".txt.tree\"\n",
    "#             )\n",
    "            statements = json.load(f)\n",
    "            for statement in statements:\n",
    "                statement.update(\n",
    "#                     {\"text_file\": text_file, \"tree_file\": tree_file}\n",
    "                    {\"text_number\": file_no_str}\n",
    "                )\n",
    "            all_statements.extend(statements)"
   ]
  },
  {
   "cell_type": "code",
   "execution_count": 6,
   "metadata": {
    "collapsed": true
   },
   "outputs": [],
   "source": [
    "df = pd.DataFrame(all_statements)\n",
    "df[\"reason_number\"] = df.reason.apply(lambda r: r[0])\n",
    "df.reason = df.reason.apply(lambda r: r[1])"
   ]
  },
  {
   "cell_type": "code",
   "execution_count": 7,
   "metadata": {
    "collapsed": true
   },
   "outputs": [],
   "source": [
    "df[\n",
    "    [\n",
    "        \"rule\", \n",
    "        \"reason\", \n",
    "        \"statement_text\", \n",
    "        \"nucleus\", \n",
    "        \"satellite_nucleus\", \n",
    "        \"text_number\",\n",
    "        \"nucleus_proximity\",\n",
    "        \"left_boundary\",\n",
    "        \"right_boundary\",\n",
    "        \"reason_number\"\n",
    "    ]\n",
    "].sort_values(\n",
    "    by=[\"rule\", \"reason_number\"]\n",
    ").drop(\n",
    "    \"reason_number\", 1\n",
    ").to_excel(\n",
    "    os.path.join(\n",
    "        STATEMENTS_DIR, f\"{RACE_PART.replace('/', '-')}_{random.randint(0, 2**32):x}.xlsx\"\n",
    "    ),\n",
    "    index=False\n",
    ")"
   ]
  }
 ],
 "metadata": {
  "kernelspec": {
   "display_name": "Python 3",
   "language": "python",
   "name": "python3"
  },
  "language_info": {
   "codemirror_mode": {
    "name": "ipython",
    "version": 3
   },
   "file_extension": ".py",
   "mimetype": "text/x-python",
   "name": "python",
   "nbconvert_exporter": "python",
   "pygments_lexer": "ipython3",
   "version": "3.6.3"
  }
 },
 "nbformat": 4,
 "nbformat_minor": 2
}
