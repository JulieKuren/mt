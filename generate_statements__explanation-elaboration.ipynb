{
 "cells": [
  {
   "cell_type": "code",
   "execution_count": 1,
   "metadata": {
    "collapsed": true
   },
   "outputs": [],
   "source": [
    "from nltk.tokenize import word_tokenize, sent_tokenize\n",
    "from nltk import pos_tag"
   ]
  },
  {
   "cell_type": "code",
   "execution_count": 90,
   "metadata": {
    "collapsed": true
   },
   "outputs": [],
   "source": [
    "%run ./utils.ipynb"
   ]
  },
  {
   "cell_type": "code",
   "execution_count": 3,
   "metadata": {
    "collapsed": true
   },
   "outputs": [],
   "source": [
    "%run ./relation_extraction.ipynb"
   ]
  },
  {
   "cell_type": "code",
   "execution_count": 4,
   "metadata": {
    "collapsed": true
   },
   "outputs": [],
   "source": [
    "text, relations = extract_relations(\n",
    "    \"parsed/race/train/middle/2549.txt.tree\"\n",
    ")"
   ]
  },
  {
   "cell_type": "code",
   "execution_count": 69,
   "metadata": {
    "collapsed": true
   },
   "outputs": [],
   "source": [
    "def search_segment(text, relation, direction):\n",
    "    if direction == \"left\":\n",
    "        child, segment = relation.left_child, relation.left\n",
    "    else:\n",
    "        child, segment = relation.right_child, relation.right\n",
    "    if child:\n",
    "        return search_segment(\n",
    "            text, \n",
    "            child, \n",
    "            direction\n",
    "        )\n",
    "    else:\n",
    "        return text[segment.start:segment.end]\n",
    "    \n",
    "    \n",
    "def get_depth(relation):\n",
    "    if relation:\n",
    "        return 1 + max(\n",
    "            get_depth(relation.left_child), \n",
    "            get_depth(relation.right_child)\n",
    "        )\n",
    "    else:\n",
    "        return 0"
   ]
  },
  {
   "cell_type": "code",
   "execution_count": 137,
   "metadata": {},
   "outputs": [],
   "source": [
    "def rule_explanation_elaboration(text, relation):\n",
    "    assert(relation is not None and relation.type == \"Explanation\")\n",
    "    satellite_relation, _ = relation.get_satellite()\n",
    "    if satellite_relation and satellite_relation.type == \"Elaboration\":\n",
    "        if relation.left.type == \"N\":\n",
    "            nucleus_direction = \"right\"\n",
    "            satellite_direction = \"left\"\n",
    "            nucleus_relation = relation.left_child\n",
    "            nucleus_segment = relation.left\n",
    "        else:\n",
    "            nucleus_direction = \"left\"\n",
    "            satellite_direction = \"right\"\n",
    "            nucleus_relation = relation.right_child\n",
    "            nucleus_segment = relation.right\n",
    "        \n",
    "        if nucleus_relation and get_depth(nucleus_relation) > 3:\n",
    "            expl_text = clean(\n",
    "                search_segment(\n",
    "                    text, \n",
    "                    nucleus_relation,\n",
    "                    nucleus_direction\n",
    "                )\n",
    "            )\n",
    "        else:\n",
    "            expl_text = clean(\n",
    "                text[nucleus_segment.start:nucleus_segment.end]\n",
    "            )   \n",
    "        \n",
    "        if satellite_relation.left.type == \"N\":\n",
    "            satellite_nucleus_relation = satellite_relation.left_child\n",
    "            satellite_nucleus_segment = satellite_relation.left\n",
    "        else:\n",
    "            satellite_nucleus_relation = \\\n",
    "                satellite_relation.right_child\n",
    "            satellite_nucleus_segment = satellite_relation.right\n",
    "    \n",
    "        if (\n",
    "            satellite_nucleus_relation \n",
    "            and get_depth(satellite_nucleus_relation) > 3\n",
    "        ):\n",
    "            elab_text = clean(\n",
    "                search_segment(\n",
    "                    text, \n",
    "                    satellite_nucleus_relation, \n",
    "                    satellite_direction\n",
    "                )\n",
    "            )\n",
    "        else:\n",
    "            elab_text = clean(\n",
    "                text[\n",
    "                    satellite_nucleus_segment.start\n",
    "                    :satellite_nucleus_segment.end\n",
    "                ]\n",
    "            )\n",
    "                \n",
    "        expl_tokens = word_tokenize(expl_text)\n",
    "        elab_tokens = word_tokenize(elab_text)\n",
    "        \n",
    "        if elab_tokens[0] == \"``\":\n",
    "            if expl_tokens[0] == \"``\":\n",
    "                statement = \"According to the text, the answer \"\\\n",
    "                            \"to the question {explanation} \"\\\n",
    "                            \"is as follows: {elaboration}.\".format(\n",
    "                                explanation=expl_text,\n",
    "                                elaboration=elab_text\n",
    "                            )\n",
    "            else:\n",
    "                statement = \"{explanation}. This explains why \"\\\n",
    "                            \"he/she said/asked {elaboration}\".format(\n",
    "                                explanation=remove_trailing_punctuation(\n",
    "                                    uppercase_first_letter(expl_text)\n",
    "                                ),\n",
    "                                elaboration=elab_text\n",
    "                            )\n",
    "        else:\n",
    "            starts_with_there_is_there_are = (\n",
    "                expl_tokens[0].lower == \"there\"\n",
    "                and expl_tokens[1].lower in [\"is\", \"are\"]\n",
    "            )\n",
    "            expl_is_background = \\\n",
    "                nucleus_relation and nucleus_relation.type == \"Background\"\n",
    "            if starts_with_there_is_there_are or expl_is_background:\n",
    "                connector = \"For example,\"\n",
    "            else:\n",
    "                connector = \"That's why\"\n",
    "\n",
    "            statement = \"{explanation}. \"\\\n",
    "                        \"{connector} {elaboration}.\".format(\n",
    "                explanation=remove_trailing_punctuation(\n",
    "                    uppercase_first_letter(expl_text)\n",
    "                ),\n",
    "                elaboration=remove_trailing_punctuation(\n",
    "                    lowercase_first_letter(elab_text)\n",
    "                ),\n",
    "                connector=connector\n",
    "            )\n",
    "        return statement\n",
    "    else:\n",
    "        return None"
   ]
  },
  {
   "cell_type": "code",
   "execution_count": 138,
   "metadata": {},
   "outputs": [
    {
     "name": "stdout",
     "output_type": "stream",
     "text": [
      "In the afternoon, she is n't so busy. That's why after school she does her homework and plays with other children.\n",
      "\n",
      "She has many classes in the morning. That's why at about twelve fifteen, she comes back for lunch.\n",
      "\n"
     ]
    }
   ],
   "source": [
    "if \"Explanation\" in relations:\n",
    "    for relation in relations[\"Explanation\"]:\n",
    "        print(rule_explanation_elaboration(text, relation))\n",
    "        print(\"\")"
   ]
  },
  {
   "cell_type": "code",
   "execution_count": 139,
   "metadata": {},
   "outputs": [],
   "source": [
    "DIRECTORY = \"parsed/race/train/middle\"\n",
    "\n",
    "statements = []\n",
    "for file_name in os.listdir(DIRECTORY):\n",
    "    path = os.path.join(DIRECTORY, file_name)\n",
    "    text, relations = extract_relations(path)\n",
    "    \n",
    "    if \"Explanation\" in relations:\n",
    "        for relation in relations[\"Explanation\"]:\n",
    "            statement = rule_explanation_elaboration(\n",
    "                text, \n",
    "                relation\n",
    "            )\n",
    "            if statement is not None:\n",
    "                statements.append(f\"[{path}]\\n{statement}\")"
   ]
  },
  {
   "cell_type": "code",
   "execution_count": 140,
   "metadata": {},
   "outputs": [],
   "source": [
    "with open(\n",
    "    \"statements/explanation_elaboration/train/middle.txt\", \n",
    "    \"wt\"\n",
    ") as f:\n",
    "    f.write(\"\\n\".join(statements))"
   ]
  }
 ],
 "metadata": {
  "kernelspec": {
   "display_name": "Python 3",
   "language": "python",
   "name": "python3"
  },
  "language_info": {
   "codemirror_mode": {
    "name": "ipython",
    "version": 3
   },
   "file_extension": ".py",
   "mimetype": "text/x-python",
   "name": "python",
   "nbconvert_exporter": "python",
   "pygments_lexer": "ipython3",
   "version": "3.6.3"
  }
 },
 "nbformat": 4,
 "nbformat_minor": 2
}
