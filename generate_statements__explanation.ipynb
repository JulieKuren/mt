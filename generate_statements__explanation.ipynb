{
 "cells": [
  {
   "cell_type": "code",
   "execution_count": 96,
   "metadata": {
    "collapsed": true
   },
   "outputs": [],
   "source": [
    "from nltk.tokenize import word_tokenize, sent_tokenize\n",
    "from nltk import pos_tag"
   ]
  },
  {
   "cell_type": "code",
   "execution_count": 107,
   "metadata": {},
   "outputs": [],
   "source": [
    "%run ./utils.ipynb"
   ]
  },
  {
   "cell_type": "code",
   "execution_count": 20,
   "metadata": {
    "collapsed": true
   },
   "outputs": [],
   "source": [
    "%run ./relation_extraction.ipynb"
   ]
  },
  {
   "cell_type": "code",
   "execution_count": 90,
   "metadata": {
    "collapsed": true
   },
   "outputs": [],
   "source": [
    "text, relations = extract_relations(\n",
    "    \"parsed/race/train/middle/2549.txt.tree\"\n",
    ")"
   ]
  },
  {
   "cell_type": "code",
   "execution_count": 117,
   "metadata": {},
   "outputs": [],
   "source": [
    "def rule_explanation_001(text, relation):\n",
    "    assert(relation is not None)\n",
    "    nucleus_relation, nucleus_segment = relation.get_first_nucleus()\n",
    "    satellite_relation, _ = relation.get_satellite()\n",
    "    search_in = [satellite_relation]\n",
    "#     if nucleus_relation is not None:\n",
    "#         if nucleus_relation.type != \"Background\":\n",
    "#             search_in.append(nucleus_relation)\n",
    "#         else:\n",
    "#             search_in.append(nucleus_relation.left_child)\n",
    "#             search_in.append(nucleus_relation.right_child)\n",
    "    for relation in search_in:\n",
    "        bg_rel, depth = find_nested_relation(\n",
    "            \"Background\", relation\n",
    "        )\n",
    "        if bg_rel is not None:\n",
    "            break\n",
    "    if bg_rel is None:\n",
    "        return None, None\n",
    "    else:\n",
    "        _, bg_nucleus_segment = bg_rel.get_first_nucleus()\n",
    "        _, bg_satellite_segment = bg_rel.get_satellite()\n",
    "        bg_nucleus_text = trim_connective(\n",
    "            clean(\n",
    "                text[bg_nucleus_segment.start:bg_nucleus_segment.end]\n",
    "            )\n",
    "        )\n",
    "        bg_nucleus_text = clean(\n",
    "                text[bg_nucleus_segment.start:bg_nucleus_segment.end]\n",
    "            )\n",
    "        bg_satellite_text = clean(\n",
    "            text[bg_satellite_segment.start:bg_satellite_segment.end]\n",
    "        )\n",
    "        pt = pos_tag(word_tokenize(bg_satellite_text))\n",
    "        assert(len(pt) > 0)\n",
    "        if pt[0][1][0] == \"V\":\n",
    "            bg_nucleus_text = \"that \" + bg_nucleus_text\n",
    "        nucleus_text=clean(\n",
    "            text[nucleus_segment.start:nucleus_segment.end]\n",
    "        )\n",
    "        statement = \"{nucleus} because {bg_nucleus}\".format(\n",
    "            nucleus=remove_trailing_punctuation(nucleus_text),\n",
    "            bg_nucleus=lowercase_first_letter(bg_nucleus_text)\n",
    "        )\n",
    "        if statement[-1] not in punctuation:\n",
    "            statement += \".\"\n",
    "        if len(sent_tokenize(statement)) == 1:\n",
    "            return statement, depth\n",
    "        else:\n",
    "            return None, None"
   ]
  },
  {
   "cell_type": "code",
   "execution_count": 93,
   "metadata": {},
   "outputs": [
    {
     "name": "stdout",
     "output_type": "stream",
     "text": [
      "They get up about 4:50 in the morning because they are working.\n",
      "\n",
      "None\n",
      "\n",
      "None\n",
      "\n",
      "None\n",
      "\n"
     ]
    }
   ],
   "source": [
    "if \"Explanation\" in relations:\n",
    "    for relation in relations[\"Explanation\"]:\n",
    "        print(rule_explanation_001(text, relation))\n",
    "        print(\"\")"
   ]
  },
  {
   "cell_type": "code",
   "execution_count": null,
   "metadata": {
    "collapsed": true
   },
   "outputs": [],
   "source": [
    "# def generate_explanation_statement(text, relation):\n",
    "#     if relation.left.type == \"N\":\n",
    "#         assert(relation.right.type == \"S\")\n",
    "#         nucleus = text[relation.left.start:relation.left.end]\n",
    "#         satellite = text[relation.right.start:relation.right.end]\n",
    "#     else:\n",
    "#         assert(relation.left.type == \"S\")\n",
    "#         assert(relation.right.type == \"N\")\n",
    "#         nucleus = text[relation.left.start:relation.left.end]\n",
    "#         satellite = text[relation.right.start:relation.right.end]\n",
    "    \n",
    "#     statement = (\n",
    "# f\"\"\"``{satellite}''\\nTHIS CAN EXPLAIN THE FOLLOWING FACT:\n",
    "#   (*) {nucleus}\n",
    "# \"\"\"\n",
    "#     )\n",
    "    \n",
    "#     return clean_statement(statement)"
   ]
  },
  {
   "cell_type": "code",
   "execution_count": 6,
   "metadata": {},
   "outputs": [],
   "source": [
    "DIRECTORY = \"parsed/race/train/middle\"\n",
    "\n",
    "def find_text():\n",
    "    for file_name in os.listdir(DIRECTORY):\n",
    "        path = os.path.join(DIRECTORY, file_name)\n",
    "        text, relations = extract_relations(path)\n",
    "\n",
    "        if \"Explanation\" in relations:\n",
    "            for relation in relations[\"Explanation\"]:\n",
    "                if find_nested_relation(\"Background\", relation):\n",
    "                    return path"
   ]
  },
  {
   "cell_type": "code",
   "execution_count": 7,
   "metadata": {},
   "outputs": [
    {
     "data": {
      "text/plain": [
       "'parsed/race/train/high/18576.txt.tree'"
      ]
     },
     "execution_count": 7,
     "metadata": {},
     "output_type": "execute_result"
    }
   ],
   "source": [
    "find_text()"
   ]
  },
  {
   "cell_type": "code",
   "execution_count": 118,
   "metadata": {},
   "outputs": [],
   "source": [
    "DIRECTORY = \"parsed/race/train/middle\"\n",
    "\n",
    "statements = []\n",
    "for file_name in os.listdir(DIRECTORY):\n",
    "    path = os.path.join(DIRECTORY, file_name)\n",
    "    text, relations = extract_relations(path)\n",
    "    \n",
    "    if \"Explanation\" in relations:\n",
    "        for relation in relations[\"Explanation\"]:\n",
    "            statement, depth = rule_explanation_001(\n",
    "                text, \n",
    "                relation\n",
    "            )\n",
    "            if statement is not None:\n",
    "                statements.append(f\"[{path}, {depth}]\\n{statement}\")"
   ]
  },
  {
   "cell_type": "code",
   "execution_count": 119,
   "metadata": {
    "collapsed": true
   },
   "outputs": [],
   "source": [
    "with open(\n",
    "    \"statements/explanation/train/middle.txt\", \n",
    "    \"wt\"\n",
    ") as f:\n",
    "    f.write(\"\\n\".join(statements))"
   ]
  },
  {
   "cell_type": "code",
   "execution_count": null,
   "metadata": {
    "collapsed": true
   },
   "outputs": [],
   "source": []
  }
 ],
 "metadata": {
  "kernelspec": {
   "display_name": "Python 3",
   "language": "python",
   "name": "python3"
  },
  "language_info": {
   "codemirror_mode": {
    "name": "ipython",
    "version": 3
   },
   "file_extension": ".py",
   "mimetype": "text/x-python",
   "name": "python",
   "nbconvert_exporter": "python",
   "pygments_lexer": "ipython3",
   "version": "3.6.3"
  }
 },
 "nbformat": 4,
 "nbformat_minor": 2
}
