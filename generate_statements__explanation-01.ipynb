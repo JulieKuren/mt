{
 "cells": [
  {
   "cell_type": "code",
   "execution_count": 31,
   "metadata": {
    "collapsed": true
   },
   "outputs": [],
   "source": [
    "from nltk.tokenize import word_tokenize, sent_tokenize\n",
    "from nltk import pos_tag"
   ]
  },
  {
   "cell_type": "code",
   "execution_count": 32,
   "metadata": {
    "collapsed": true
   },
   "outputs": [],
   "source": [
    "%run ./utils.ipynb\n",
    "%run ./nlp.ipynb\n",
    "%run ./relation_extraction.ipynb"
   ]
  },
  {
   "cell_type": "code",
   "execution_count": 33,
   "metadata": {
    "collapsed": true
   },
   "outputs": [],
   "source": [
    "text, relations = extract_relations(\n",
    "    \"parsed/race/train/middle/2549.txt.tree\"\n",
    ")"
   ]
  },
  {
   "cell_type": "code",
   "execution_count": 34,
   "metadata": {
    "collapsed": true
   },
   "outputs": [],
   "source": [
    "rel = relations[\"Explanation\"][2]"
   ]
  },
  {
   "cell_type": "code",
   "execution_count": 35,
   "metadata": {
    "collapsed": true
   },
   "outputs": [],
   "source": [
    "def do_subjects_differ(text, rel, n_prev_sent=5):\n",
    "    new_st, left_segment_sent_no = move_st(text, rel.left.start, n_prev_sent)\n",
    "    if len({\".\", \"!\", \"?\"}.intersection(\n",
    "        set(word_tokenize(text[rel.left.start:rel.right.end])))) > 0:\n",
    "        right_segment_sent_no = left_segment_sent_no + 1\n",
    "    else:\n",
    "        right_segment_sent_no = left_segment_sent_no\n",
    "\n",
    "    if left_segment_sent_no == right_segment_sent_no:\n",
    "        return True\n",
    "    else:\n",
    "        resolved_subjects = get_resolved_subjects(text[new_st:rel.right.end])\n",
    "        if len(resolved_subjects) < right_segment_sent_no:\n",
    "            return True\n",
    "        else:\n",
    "            return (\n",
    "                resolved_subjects[left_segment_sent_no] \n",
    "                != resolved_subjects[right_segment_sent_no]\n",
    "            )\n",
    "\n",
    "        \n",
    "def test__do_subjects_differ():\n",
    "    text = \"\"\"Nika lives in Berlin. She goes to a Kita. Her favourite color is yellow.\"\"\"\n",
    "    assert do_subjects_differ(\n",
    "        text, \n",
    "        Relation(\"\", Segment(\"N\", 22, 42), Segment(\"S\", 42, len(text)), None, None)\n",
    "    )\n",
    "    text = \"\"\"Nika lives in Berlin. She goes to a Kita. She likes yellow things.\"\"\"\n",
    "    assert not do_subjects_differ(\n",
    "        text, \n",
    "        Relation(\"\", Segment(\"N\", 22, 42), Segment(\"S\", 42, len(text)), None, None)\n",
    "    )    \n",
    "\n",
    "    \n",
    "test__do_subjects_differ()"
   ]
  },
  {
   "cell_type": "code",
   "execution_count": 36,
   "metadata": {
    "collapsed": true
   },
   "outputs": [],
   "source": [
    "def search_segment(text, relation, direction):\n",
    "    if direction == \"left\":\n",
    "        child, segment = relation.left_child, relation.left\n",
    "    else:\n",
    "        child, segment = relation.right_child, relation.right\n",
    "    if child:\n",
    "        return search_segment(\n",
    "            text, \n",
    "            child, \n",
    "            direction\n",
    "        )\n",
    "    else:\n",
    "        return text[segment.start:segment.end]\n",
    "    \n",
    "    \n",
    "def get_depth(relation):\n",
    "    if relation:\n",
    "        return 1 + max(\n",
    "            get_depth(relation.left_child), \n",
    "            get_depth(relation.right_child)\n",
    "        )\n",
    "    else:\n",
    "        return 0"
   ]
  },
  {
   "cell_type": "code",
   "execution_count": 9,
   "metadata": {
    "collapsed": true
   },
   "outputs": [],
   "source": [
    "def rule_explanation_01(text, relation):\n",
    "    \n",
    "    \n",
    "    assert(relation is not None and relation.type == \"Explanation\")\n",
    "    satellite_relation, _ = relation.get_satellite()\n",
    "    if satellite_relation and satellite_relation.type == \"Elaboration\":\n",
    "        # Checking if the nucleus is on the right/left of the\n",
    "        # satellite in the Explanation relation\n",
    "        if relation.left.type == \"N\":\n",
    "            nucleus_direction = \"right\"\n",
    "            satellite_direction = \"left\"\n",
    "            nucleus_relation = relation.left_child\n",
    "            nucleus_segment = relation.left\n",
    "        else:\n",
    "            nucleus_direction = \"left\"\n",
    "            satellite_direction = \"right\"\n",
    "            nucleus_relation = relation.right_child\n",
    "            nucleus_segment = relation.right\n",
    "        \n",
    "        # if there are nested relations in the nucleus\n",
    "        # and there are too many of them\n",
    "        if nucleus_relation and get_depth(nucleus_relation) > 3:\n",
    "            expl_text = clean( \n",
    "                search_segment( # take the closest nested segment relative to the satellite\n",
    "                    text, \n",
    "                    nucleus_relation,\n",
    "                    nucleus_direction\n",
    "                )\n",
    "            )\n",
    "        else: # else take the nucleus as is\n",
    "            expl_text = clean(\n",
    "                text[nucleus_segment.start:nucleus_segment.end]\n",
    "            )   \n",
    "        \n",
    "        # checking if the nucleus of the satellite is on the right/left\n",
    "        if satellite_relation.left.type == \"N\":\n",
    "            satellite_nucleus_relation = satellite_relation.left_child\n",
    "            satellite_nucleus_segment = satellite_relation.left\n",
    "            if nucleus_direction == \"right\": # if the expl. nucleus is on the left\n",
    "                nucleus_proximity = \"near\"\n",
    "            else:\n",
    "                nucleus_proximity = \"far\"\n",
    "        else:\n",
    "            satellite_nucleus_relation = satellite_relation.right_child\n",
    "            satellite_nucleus_segment = satellite_relation.right\n",
    "            if nucleus_direction == \"right\":\n",
    "                nucleus_proximity = \"far\"\n",
    "            else:\n",
    "                nucleus_proximity = \"near\"\n",
    "\n",
    "        # if there are nested relations in the satellite nucleus\n",
    "        # and there are too many of them\n",
    "        if (\n",
    "            satellite_nucleus_relation \n",
    "            and get_depth(satellite_nucleus_relation) > 3\n",
    "        ):\n",
    "            elab_text = clean(\n",
    "                search_segment(# take the closest nested segment relative to the nucleus of Explanation\n",
    "                    text, \n",
    "                    satellite_nucleus_relation, \n",
    "                    satellite_direction\n",
    "                )\n",
    "            )\n",
    "        else: # else take the satellite nucleus as is\n",
    "            elab_text = clean(\n",
    "                text[\n",
    "                    satellite_nucleus_segment.start\n",
    "                    :satellite_nucleus_segment.end\n",
    "                ]\n",
    "            )\n",
    "                \n",
    "        expl_tokens = word_tokenize(expl_text)\n",
    "        elab_tokens = word_tokenize(elab_text)\n",
    "        \n",
    "        if elab_tokens[0] == \"``\": # the \"quotes\" case\n",
    "            if expl_tokens[0] == \"``\":\n",
    "                statement = \"According to the text, the answer \"\\\n",
    "                            \"to the question {explanation} \"\\\n",
    "                            \"is as follows: {elaboration}.\".format(\n",
    "                                explanation=expl_text,\n",
    "                                elaboration=elab_text\n",
    "                            )\n",
    "            else:\n",
    "                statement = \"{explanation}. This explains why \"\\\n",
    "                            \"he/she said/asked {elaboration}\".format(\n",
    "                                explanation=remove_trailing_punctuation(\n",
    "                                    uppercase_first_letter(expl_text)\n",
    "                                ),\n",
    "                                elaboration=elab_text\n",
    "                            )\n",
    "        else: # regular case\n",
    "            starts_with_there_is_there_are = (\n",
    "                expl_tokens[0].lower == \"there\"\n",
    "                and expl_tokens[1].lower in [\"is\", \"are\"]\n",
    "            )\n",
    "            expl_is_background = \\\n",
    "                nucleus_relation and nucleus_relation.type == \"Background\"\n",
    "            if starts_with_there_is_there_are or expl_is_background:\n",
    "                connector = \"For example,\"\n",
    "            else:\n",
    "                connector = \"That's why\"\n",
    "\n",
    "            statement = \"{explanation}. \"\\\n",
    "                        \"{connector} {elaboration}.\".format(\n",
    "                explanation=remove_trailing_punctuation(\n",
    "                    uppercase_first_letter(expl_text)\n",
    "                ),\n",
    "                elaboration=remove_trailing_punctuation(\n",
    "                    lowercase_first_letter(elab_text)\n",
    "                ),\n",
    "                connector=connector\n",
    "            )\n",
    "                \n",
    "        return statement, nucleus_proximity\n",
    "    else:\n",
    "        return None, None"
   ]
  },
  {
   "cell_type": "code",
   "execution_count": 10,
   "metadata": {},
   "outputs": [
    {
     "name": "stdout",
     "output_type": "stream",
     "text": [
      "(None, None)\n",
      "\n",
      "(None, None)\n",
      "\n",
      "(\"He goes to work on foot or by bike. That's why it is far from his home.  He usually works in the day and has lunch outside in the sun.\", 'near')\n",
      "\n",
      "(\"They also work on weekends. That's why her name is Sara.\", 'near')\n",
      "\n"
     ]
    }
   ],
   "source": [
    "if \"Explanation\" in relations:\n",
    "    for relation in relations[\"Explanation\"]:\n",
    "        print(rule_explanation_elaboration(text, relation))\n",
    "        print(\"\")"
   ]
  },
  {
   "cell_type": "code",
   "execution_count": 11,
   "metadata": {
    "collapsed": true
   },
   "outputs": [],
   "source": [
    "DIRECTORY = \"parsed/race/train/middle\"\n",
    "\n",
    "statements_near, statements_far = [], []\n",
    "for file_name in os.listdir(DIRECTORY):\n",
    "    path = os.path.join(DIRECTORY, file_name)\n",
    "    text, relations = extract_relations(path)\n",
    "    \n",
    "    if \"Explanation\" in relations:\n",
    "        for relation in relations[\"Explanation\"]:\n",
    "            statement, nucleus_proximity = rule_explanation_elaboration(\n",
    "                text, \n",
    "                relation\n",
    "            )\n",
    "            if statement is not None:\n",
    "                statement_str = f\"[{path}]\\n{statement}\"\n",
    "                if nucleus_proximity == \"near\":\n",
    "                    statements_near.append(statement_str)\n",
    "                else:\n",
    "                    statements_far.append(statement_str)"
   ]
  },
  {
   "cell_type": "code",
   "execution_count": 12,
   "metadata": {
    "collapsed": true
   },
   "outputs": [],
   "source": [
    "with open(\n",
    "    \"statements/explanation_elaboration/train/middle_near.txt\", \n",
    "    \"wt\"\n",
    ") as f:\n",
    "    f.write(\"\\n\".join(statements_near))"
   ]
  },
  {
   "cell_type": "code",
   "execution_count": 13,
   "metadata": {
    "collapsed": true
   },
   "outputs": [],
   "source": [
    "with open(\n",
    "    \"statements/explanation_elaboration/train/middle_far.txt\", \n",
    "    \"wt\"\n",
    ") as f:\n",
    "    f.write(\"\\n\".join(statements_far))"
   ]
  }
 ],
 "metadata": {
  "kernelspec": {
   "display_name": "Python 3",
   "language": "python",
   "name": "python3"
  },
  "language_info": {
   "codemirror_mode": {
    "name": "ipython",
    "version": 3
   },
   "file_extension": ".py",
   "mimetype": "text/x-python",
   "name": "python",
   "nbconvert_exporter": "python",
   "pygments_lexer": "ipython3",
   "version": "3.6.3"
  }
 },
 "nbformat": 4,
 "nbformat_minor": 2
}
