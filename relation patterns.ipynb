{
 "cells": [
  {
   "cell_type": "markdown",
   "metadata": {},
   "source": [
    "I've chosen the following relations to work with:\n",
    "1. Attribution with NAME entities\n",
    "2. Explanation\n",
    "3. Contrast\n",
    "4. Background\n",
    "5. Evaluation\n",
    "6. Condition\n",
    "7. Topic-Comment\n",
    "8. Enablement ???\n",
    "\n",
    "Each relation has some pattern connecting [N] with [S].\n",
    "Also, some of the connectives tend to appear in particular relations.\n",
    "\n",
    "##### Questions to be answered:\n",
    "1) What syntactic pattern does each of the chosen relations have?\n",
    "2) What connectives are the most common among each of the relations?\n",
    "\n",
    "##### Get the Answers:\n",
    "Firstly, choose one of the relations and find info on it in the literature.\n",
    "Secondly, examine it using the parsed RACE: how is [N] connected with [S]?"
   ]
  },
  {
   "cell_type": "code",
   "execution_count": 4,
   "metadata": {
    "collapsed": true
   },
   "outputs": [],
   "source": [
    "# Attribution - take the first 100 random middle and high texts, find the patterns."
   ]
  },
  {
   "cell_type": "code",
   "execution_count": null,
   "metadata": {
    "collapsed": true
   },
   "outputs": [],
   "source": []
  }
 ],
 "metadata": {
  "kernelspec": {
   "display_name": "Python 3",
   "language": "python",
   "name": "python3"
  },
  "language_info": {
   "codemirror_mode": {
    "name": "ipython",
    "version": 3
   },
   "file_extension": ".py",
   "mimetype": "text/x-python",
   "name": "python",
   "nbconvert_exporter": "python",
   "pygments_lexer": "ipython3",
   "version": "3.6.3"
  }
 },
 "nbformat": 4,
 "nbformat_minor": 2
}
