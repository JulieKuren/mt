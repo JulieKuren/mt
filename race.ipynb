{
 "cells": [
  {
   "cell_type": "code",
   "execution_count": 10,
   "metadata": {
    "collapsed": true
   },
   "outputs": [],
   "source": [
    "CHARS = [\"A\", \"B\", \"C\", \"D\", \"E\", \"F\", \"G\"]\n",
    "\n",
    "def show_file(file_path):\n",
    "    with open(file_path, \"rt\") as f:\n",
    "        contents = eval(f.read())\n",
    "    \n",
    "    print(\"ARTICLE\")\n",
    "    print(contents[\"article\"])\n",
    "    print(\"\")\n",
    "    \n",
    "    cnt = 1\n",
    "    for question, options, answer in zip(\n",
    "        contents[\"questions\"], \n",
    "        contents[\"options\"], \n",
    "        contents[\"answers\"]\n",
    "    ):\n",
    "        print(f\"QUESTION {cnt:2d}\")\n",
    "        print(question)\n",
    "        for i, option in enumerate(options):\n",
    "            print(f\"\\t {CHARS[i]}) \" + option)\n",
    "        print(f\"CORRECT ANSWER: {answer}.\")\n",
    "        print(\"\")\n",
    "        cnt += 1"
   ]
  },
  {
   "cell_type": "code",
   "execution_count": 11,
   "metadata": {
    "collapsed": true
   },
   "outputs": [],
   "source": [
    "# train, dev, test\n",
    "# middle, high"
   ]
  },
  {
   "cell_type": "code",
   "execution_count": 75,
   "metadata": {},
   "outputs": [
    {
     "name": "stdout",
     "output_type": "stream",
     "text": [
      "ARTICLE\n",
      "At midnight Mr. King coughed again. He got up and took some medicine. Before he lay down again, he smoked. And he couldn't go to sleep any longer. He found the medicine book and began to read it. He was afraid he had lung cancer. He seemed to see death was waiting for him. Tears  ran down his face. He didn't see his wife was standing by him.\n",
      "\"What's wrong with you, dear?\" asked the woman.\n",
      "\"Nothing,\" the old man answered and covered his face with his hands.\n",
      "The old woman opened the book and understood at once. She said, \"You must stop smoking right now.\"\n",
      "\"I began to smoke when I was nine, you know. How can't I do that?\"\n",
      "\"But I think health is more important.\"\n",
      "Mr. King coughed again and his wife said, \"Go to see a doctor tomorrow. He will be able to help you, I think.\"\n",
      "The doctor told Mr. King to have an Xray examination of his lungs. And then he looked at the Xray carefully for a long time.\n",
      "\"Tell me the truth, doctor.\"said Mr.King, \"Do you see any shadows in my lungs?\"\n",
      "\"No, I don't see anything.\"\n",
      "\"Yes?\" the old man said happily. \"Really?\"\n",
      "\"Yes. Your lungs are turning black. How can I see any shadows?\"\n",
      "\n",
      "QUESTION  1\n",
      "Mr.King got up to  _  .\n",
      "\t A) smoke again\n",
      "\t B) talk with his wife\n",
      "\t C) read the medicine book\n",
      "\t D) take some medicine\n",
      "CORRECT ANSWER: D.\n",
      "\n",
      "QUESTION  2\n",
      "Mr. King coughed because  _  .\n",
      "\t A) he couldn't go to sleep\n",
      "\t B) he was afraid to die\n",
      "\t C) he smoked too much\n",
      "\t D) he was too old\n",
      "CORRECT ANSWER: C.\n",
      "\n",
      "QUESTION  3\n",
      "_  , so tears ran down his face.\n",
      "\t A) Mr. King thought he had lung cancer\n",
      "\t B) Mr. King couldn't understand the book\n",
      "\t C) Mr. King was too sad to go to sleep\n",
      "\t D) The doctors refused to help Mr. King\n",
      "CORRECT ANSWER: A.\n",
      "\n",
      "QUESTION  4\n",
      "The doctor told Mr. King to have an Xray examination because  _  .\n",
      "\t A) he was sure the man would die soon\n",
      "\t B) he wanted the man to stop smoking right now\n",
      "\t C) he wanted to know if there was something wrong with his lungs\n",
      "\t D) he was sure the man would soon be all right\n",
      "CORRECT ANSWER: C.\n",
      "\n",
      "QUESTION  5\n",
      "Which of the following is true?\n",
      "\t A) There was nothing serious with Mr. King.\n",
      "\t B) Smoking too much caused Mr. King's lungs to turn black.\n",
      "\t C) The doctor found some shadows in Mr. King's lungs.\n",
      "\t D) Mr. King decided to stop smoking at once.\n",
      "CORRECT ANSWER: B.\n",
      "\n"
     ]
    }
   ],
   "source": [
    "show_file(\"RACE/train/middle/624.txt\")"
   ]
  },
  {
   "cell_type": "code",
   "execution_count": 13,
   "metadata": {
    "collapsed": true
   },
   "outputs": [],
   "source": [
    "def fix_file(file_path):\n",
    "    with open(file_path, \"rt\") as f:\n",
    "        text = f.read()\n",
    "    with open(file_path, \"wb\") as f:\n",
    "        f.write(text.encode(\"ascii\"))"
   ]
  },
  {
   "cell_type": "code",
   "execution_count": 14,
   "metadata": {},
   "outputs": [],
   "source": [
    "fix_file(\"RACE/test/high/3645.txt\")"
   ]
  },
  {
   "cell_type": "code",
   "execution_count": 15,
   "metadata": {
    "collapsed": true
   },
   "outputs": [],
   "source": [
    "with open(\"RACE/test/high/3645.txt\", \"rt\") as f:\n",
    "    text = f.read()"
   ]
  },
  {
   "cell_type": "code",
   "execution_count": 16,
   "metadata": {
    "collapsed": true
   },
   "outputs": [],
   "source": [
    "with open(\"tmp\", \"wb\") as f:\n",
    "    f.write(text.encode(\"ascii\"))"
   ]
  },
  {
   "cell_type": "code",
   "execution_count": 17,
   "metadata": {},
   "outputs": [
    {
     "name": "stdout",
     "output_type": "stream",
     "text": [
      "{\"answers\": [\"A\", \"C\", \"D\"], \"options\": [[\"people recruiting employers\", \"members in the Careers Centre\", \"job-hunters in university of Sydney\", \"undergraduates who need to improve the ability to study and work\"], [\"Registering a new account every time you log in\", \"Advertisements are displayed for a minimum of two months.\", \"Advertising unpaid positions with registered non-profit organizations is permitted.\", \"All job ads will appear online once they are submitted.\"], [\"job title, experience required and sex\", \"hours worked, age and location of the work\", \"marriage, contact details and location of the work\", \"experience required, payment and contact details\"]], \"questions\": [\"What kind of people is the passage intended for?\", \"Which of the following is TRUE according to the article?\", \"What should be included in your advertisement?\"], \"article\": \"Job advertising on the web\\nRegister a new account\\nLog in to an existing account\\nPromote your casual work, graduate or internship ,opportunity with an advertisement on the Careers Centre database free of charge. Your advertisement will be viewable to all university of Sydney students and appear in 'Job Alert' - a daily email to subscribing students. You can also target alumni (up to five years after graduation) - advertise on our database and it will be visible at AlumniOnline.\\nIf you advertise through the Careers Centre you will need to agree to our advertising terms and conditions.\\nUnpaid work\\nWe are unable to advertise unpaid internship work experience or volunteer positions unless:\\nthe position fulfills part of a University curriculum and has faculty approval, or\\nit is a volunteer position with a registered not-for-profit organisation.\\nOur unpaid and volunteering work info brochure has essential information for employers wishing to offer unpaid work including alternative suggestions. You can also contact the Careers Centre for assistance.\\nSubmit an advertisement\\nTo upload your job advertisement:\\nlog in to the Careers Centre employer database - if you don't have a username you'll need to request a new account\\nclick 'job ads' and fill out the form\\nagree to our advertising terms and conditions\\nsubmit your advertisement for review by the Careers Centre.\\nAdvertisements are displayed for a maximum of two months. If your position is filled before your registered deadline please log in to the database and withdraw your ad.\\nWhat to include in your advertisement\\nWe've found there is generally a better response to advertisements that are clear and informative. The following information is important to include:\\njob title and description of duties\\nskills and/or experience required\\nhours worked, and flexibility with regard to study/exam timetables\\nlocation of the work\\npay rate/basis of payment - visit the Fair Work online website for pay rates and other employment conditions, or call their help line on 131394\\nhow to apply and close date for applications\\nyour contact details, including email address and phone number for Careers Centre staff (these do not appear with the job advertisement, however they are required for office purposes should we need to contact you).\\nCost\\nIt is free to advertise on our jobs database.\\nRelated services\\nFor greater promotion of your opportunities, consider:\\nsending a targeted email-out to the students you wish to recruit( )\\nbooking a booth at a careers fair if you are promoting a graduate or internship program.\\nContact us\\nFor help submitting an advertisement or more information, contact the Industry Development Team:\\nP (02) 8627 8408\\nE careers.administration@sydney.edu.aucareers.administration[at]sydney.edu.au.\", \"id\": \"high3645.txt\"}"
     ]
    }
   ],
   "source": [
    "!head tmp"
   ]
  },
  {
   "cell_type": "code",
   "execution_count": null,
   "metadata": {
    "collapsed": true
   },
   "outputs": [],
   "source": []
  }
 ],
 "metadata": {
  "kernelspec": {
   "display_name": "Python 3",
   "language": "python",
   "name": "python3"
  },
  "language_info": {
   "codemirror_mode": {
    "name": "ipython",
    "version": 3
   },
   "file_extension": ".py",
   "mimetype": "text/x-python",
   "name": "python",
   "nbconvert_exporter": "python",
   "pygments_lexer": "ipython3",
   "version": "3.6.3"
  }
 },
 "nbformat": 4,
 "nbformat_minor": 2
}
