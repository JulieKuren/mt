{
 "cells": [
  {
   "cell_type": "code",
   "execution_count": 35,
   "metadata": {
    "collapsed": true
   },
   "outputs": [],
   "source": [
    "CHARS = [\"A\", \"B\", \"C\", \"D\", \"E\", \"F\", \"G\"]\n",
    "\n",
    "def show_file(file_path):\n",
    "    with open(file_path, \"rt\") as f:\n",
    "        contents = eval(f.read())\n",
    "    \n",
    "    print(\"ARTICLE\")\n",
    "    print(contents[\"article\"])\n",
    "    print(\"\")\n",
    "    \n",
    "    cnt = 1\n",
    "    for question, options, answer in zip(\n",
    "        contents[\"questions\"], \n",
    "        contents[\"options\"], \n",
    "        contents[\"answers\"]\n",
    "    ):\n",
    "        print(f\"QUESTION {cnt:2d}\")\n",
    "        print(question)\n",
    "        for i, option in enumerate(options):\n",
    "            print(f\"\\t {CHARS[i]}) \" + option)\n",
    "        print(f\"CORRECT ANSWER: {answer}.\")\n",
    "        print(\"\")\n",
    "        cnt += 1"
   ]
  },
  {
   "cell_type": "code",
   "execution_count": null,
   "metadata": {
    "collapsed": true
   },
   "outputs": [],
   "source": [
    "# train, dev, test\n",
    "# middle, high"
   ]
  },
  {
   "cell_type": "code",
   "execution_count": 113,
   "metadata": {},
   "outputs": [
    {
     "name": "stdout",
     "output_type": "stream",
     "text": [
      "ARTICLE\n",
      "When I was a kid, the Easter   holidays in Australia were my favorite time of the year. As soon as they began in April, my family would head straight to the beach for a weekend of camping.\n",
      "Unlike most of the world, Easter falls in autumn in Australia. This means that Easter is our last chance to enjoy the warm weather, swim in the ocean and sleep in the bush under the stars.\n",
      "We'd pitch our tents  on clear patches of grass and look out onto an almost empty beach. Often we were the only ones camping and the whole beach would be ours alone.\n",
      "We used to spend all day outside - swimming, hiking and fishing. On Easter morning, my parents would wake up early and plan an Easter egg hunt for my three brothers and me. They would hide the eggs in the strangest places - in abandoned  bird nests in the trees, under our tents and in every corner of the stones that surround  the beach.\n",
      "In Australia, instead of chocolate bunnies, we had chocolate bilbies  . Bilbies are Australian animals with long ears. Chocolate bilbies were the best treat to find and there was always one for each of us.\n",
      "But sometimes, other animals found them first, and all we'd find were brightly colored wrappers  with animal tooth marks.\n",
      "After the hunt we would come back to the campsite with our bellies   full of chocolate. For us, Easter wasn't about chocolate eggs or religious tradition. It was about being with our family in the great outdoors.\n",
      "\n",
      "QUESTION  1\n",
      "The writer loved Easter because   _  .\n",
      "\t A) she enjoyed a great time out with her family\n",
      "\t B) she could get up late during the holidays\n",
      "\t C) she could eat eggs on that day\n",
      "\t D) it was the most important holiday of the year\n",
      "CORRECT ANSWER: A.\n",
      "\n",
      "QUESTION  2\n",
      "Which of the following is TRUE of Easter in Australia?\n",
      "\t A) It falls in spring.\n",
      "\t B) Many animals come out that day.\n",
      "\t C) It's different from that in other countries.\n",
      "\t D) It's about the rebirth of Jesus.\n",
      "CORRECT ANSWER: C.\n",
      "\n",
      "QUESTION  3\n",
      "The writer usually had   _   during Easter holidays.\n",
      "\t A) chocolate bunnies\n",
      "\t B) chocolate eggs\n",
      "\t C) chocolate bilbies\n",
      "\t D) chocolate bars\n",
      "CORRECT ANSWER: C.\n",
      "\n",
      "QUESTION  4\n",
      "What does the passage mainly talk about?\n",
      "\t A) Holidays in Australia.\n",
      "\t B) Easter celebrations in Australia.\n",
      "\t C) The history of Australian Easter.\n",
      "\t D) Australian traditions.\n",
      "CORRECT ANSWER: B.\n",
      "\n"
     ]
    }
   ],
   "source": [
    "show_file(\"RACE/train/middle/5909.txt\")"
   ]
  },
  {
   "cell_type": "code",
   "execution_count": 20,
   "metadata": {
    "collapsed": true
   },
   "outputs": [],
   "source": [
    "def fix_file(file_path):\n",
    "    with open(file_path, \"rt\") as f:\n",
    "        text = f.read()\n",
    "    with open(file_path, \"wb\") as f:\n",
    "        f.write(text.encode(\"ascii\"))"
   ]
  },
  {
   "cell_type": "code",
   "execution_count": 21,
   "metadata": {},
   "outputs": [
    {
     "ename": "TypeError",
     "evalue": "write() argument must be str, not bytes",
     "output_type": "error",
     "traceback": [
      "\u001b[0;31m---------------------------------------------------------------------------\u001b[0m",
      "\u001b[0;31mTypeError\u001b[0m                                 Traceback (most recent call last)",
      "\u001b[0;32m<ipython-input-21-f393941a8fa4>\u001b[0m in \u001b[0;36m<module>\u001b[0;34m()\u001b[0m\n\u001b[0;32m----> 1\u001b[0;31m \u001b[0mfix_file\u001b[0m\u001b[0;34m(\u001b[0m\u001b[0;34m\"RACE/test/high/3645.txt\"\u001b[0m\u001b[0;34m)\u001b[0m\u001b[0;34m\u001b[0m\u001b[0m\n\u001b[0m",
      "\u001b[0;32m<ipython-input-20-af4013d91967>\u001b[0m in \u001b[0;36mfix_file\u001b[0;34m(file_path)\u001b[0m\n\u001b[1;32m      3\u001b[0m         \u001b[0mtext\u001b[0m \u001b[0;34m=\u001b[0m \u001b[0mf\u001b[0m\u001b[0;34m.\u001b[0m\u001b[0mread\u001b[0m\u001b[0;34m(\u001b[0m\u001b[0;34m)\u001b[0m\u001b[0;34m\u001b[0m\u001b[0m\n\u001b[1;32m      4\u001b[0m     \u001b[0;32mwith\u001b[0m \u001b[0mopen\u001b[0m\u001b[0;34m(\u001b[0m\u001b[0mfile_path\u001b[0m\u001b[0;34m,\u001b[0m \u001b[0;34m\"wt\"\u001b[0m\u001b[0;34m)\u001b[0m \u001b[0;32mas\u001b[0m \u001b[0mf\u001b[0m\u001b[0;34m:\u001b[0m\u001b[0;34m\u001b[0m\u001b[0m\n\u001b[0;32m----> 5\u001b[0;31m         \u001b[0mf\u001b[0m\u001b[0;34m.\u001b[0m\u001b[0mwrite\u001b[0m\u001b[0;34m(\u001b[0m\u001b[0mtext\u001b[0m\u001b[0;34m.\u001b[0m\u001b[0mencode\u001b[0m\u001b[0;34m(\u001b[0m\u001b[0;34m\"ascii\"\u001b[0m\u001b[0;34m)\u001b[0m\u001b[0;34m)\u001b[0m\u001b[0;34m\u001b[0m\u001b[0m\n\u001b[0m",
      "\u001b[0;31mTypeError\u001b[0m: write() argument must be str, not bytes"
     ]
    }
   ],
   "source": [
    "fix_file(\"RACE/test/high/3645.txt\")"
   ]
  },
  {
   "cell_type": "code",
   "execution_count": 26,
   "metadata": {
    "collapsed": true
   },
   "outputs": [],
   "source": [
    "with open(\"RACE/test/high/3645.txt\", \"rt\") as f:\n",
    "    text = f.read()"
   ]
  },
  {
   "cell_type": "code",
   "execution_count": 29,
   "metadata": {
    "collapsed": true
   },
   "outputs": [],
   "source": [
    "with open(\"tmp\", \"wb\") as f:\n",
    "    f.write(text.encode(\"ascii\"))"
   ]
  },
  {
   "cell_type": "code",
   "execution_count": 30,
   "metadata": {},
   "outputs": [
    {
     "name": "stdout",
     "output_type": "stream",
     "text": [
      "{\"answers\": [\"A\", \"C\", \"D\"], \"options\": [[\"people recruiting employers\", \"members in the Careers Centre\", \"job-hunters in university of Sydney\", \"undergraduates who need to improve the ability to study and work\"], [\"Registering a new account every time you log in\", \"Advertisements are displayed for a minimum of two months.\", \"Advertising unpaid positions with registered non-profit organizations is permitted.\", \"All job ads will appear online once they are submitted.\"], [\"job title, experience required and sex\", \"hours worked, age and location of the work\", \"marriage, contact details and location of the work\", \"experience required, payment and contact details\"]], \"questions\": [\"What kind of people is the passage intended for?\", \"Which of the following is TRUE according to the article?\", \"What should be included in your advertisement?\"], \"article\": \"Job advertising on the web\\nRegister a new account\\nLog in to an existing account\\nPromote your casual work, graduate or internship ,opportunity with an advertisement on the Careers Centre database free of charge. Your advertisement will be viewable to all university of Sydney students and appear in 'Job Alert' - a daily email to subscribing students. You can also target alumni (up to five years after graduation) - advertise on our database and it will be visible at AlumniOnline.\\nIf you advertise through the Careers Centre you will need to agree to our advertising terms and conditions.\\nUnpaid work\\nWe are unable to advertise unpaid internship work experience or volunteer positions unless:\\nthe position fulfills part of a University curriculum and has faculty approval, or\\nit is a volunteer position with a registered not-for-profit organisation.\\nOur unpaid and volunteering work info brochure has essential information for employers wishing to offer unpaid work including alternative suggestions. You can also contact the Careers Centre for assistance.\\nSubmit an advertisement\\nTo upload your job advertisement:\\nlog in to the Careers Centre employer database - if you don't have a username you'll need to request a new account\\nclick 'job ads' and fill out the form\\nagree to our advertising terms and conditions\\nsubmit your advertisement for review by the Careers Centre.\\nAdvertisements are displayed for a maximum of two months. If your position is filled before your registered deadline please log in to the database and withdraw your ad.\\nWhat to include in your advertisement\\nWe've found there is generally a better response to advertisements that are clear and informative. The following information is important to include:\\njob title and description of duties\\nskills and/or experience required\\nhours worked, and flexibility with regard to study/exam timetables\\nlocation of the work\\npay rate/basis of payment - visit the Fair Work online website for pay rates and other employment conditions, or call their help line on 131394\\nhow to apply and close date for applications\\nyour contact details, including email address and phone number for Careers Centre staff (these do not appear with the job advertisement, however they are required for office purposes should we need to contact you).\\nCost\\nIt is free to advertise on our jobs database.\\nRelated services\\nFor greater promotion of your opportunities, consider:\\nsending a targeted email-out to the students you wish to recruit( )\\nbooking a booth at a careers fair if you are promoting a graduate or internship program.\\nContact us\\nFor help submitting an advertisement or more information, contact the Industry Development Team:\\nP (02) 8627 8408\\nE careers.administration@sydney.edu.aucareers.administration[at]sydney.edu.au.\", \"id\": \"high3645.txt\"}"
     ]
    }
   ],
   "source": [
    "!head tmp"
   ]
  },
  {
   "cell_type": "code",
   "execution_count": null,
   "metadata": {
    "collapsed": true
   },
   "outputs": [],
   "source": []
  }
 ],
 "metadata": {
  "kernelspec": {
   "display_name": "Python 3",
   "language": "python",
   "name": "python3"
  },
  "language_info": {
   "codemirror_mode": {
    "name": "ipython",
    "version": 3
   },
   "file_extension": ".py",
   "mimetype": "text/x-python",
   "name": "python",
   "nbconvert_exporter": "python",
   "pygments_lexer": "ipython3",
   "version": "3.6.3"
  }
 },
 "nbformat": 4,
 "nbformat_minor": 2
}
