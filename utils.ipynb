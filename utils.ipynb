{
 "cells": [
  {
   "cell_type": "code",
   "execution_count": 41,
   "metadata": {
    "collapsed": true
   },
   "outputs": [],
   "source": [
    "def clean(string):\n",
    "    cleaned = string.replace(\"<s>\", \"\").replace(\"<P>\", \"\")\n",
    "    cleaned = re.sub(\"\\s+([.,?!'])\", \"\\\\1\", cleaned)\n",
    "    return cleaned.strip()"
   ]
  },
  {
   "cell_type": "code",
   "execution_count": 2,
   "metadata": {
    "collapsed": true
   },
   "outputs": [],
   "source": [
    "def find_nested_relation(relation_type, relation):\n",
    "    if relation is None:\n",
    "        return None\n",
    "    elif relation_type == relation.type:\n",
    "        return relation\n",
    "    else:\n",
    "        left_result = find_nested_relation(\n",
    "            relation_type, relation.left_child\n",
    "        )\n",
    "        if left_result is None:\n",
    "            return find_nested_relation(\n",
    "                relation_type, relation.right_child\n",
    "            )\n",
    "        else:\n",
    "            return left_result"
   ]
  },
  {
   "cell_type": "code",
   "execution_count": 15,
   "metadata": {},
   "outputs": [
    {
     "name": "stdout",
     "output_type": "stream",
     "text": [
      "None\n",
      "Relation(type='Explanation', left=1, right=None, left_child=Relation(type='Background', left=2, right=None, left_child=None, right_child=None), right_child=None)\n",
      "Relation(type='Background', left=2, right=None, left_child=None, right_child=None)\n",
      "Relation(type='Background', left=2, right=None, left_child=None, right_child=None)\n",
      "Relation(type='Elaboration', left=4, right=None, left_child=None, right_child=None)\n"
     ]
    }
   ],
   "source": [
    "# Testing\n",
    "\n",
    "# %run ./relation_extraction.ipynb\n",
    "\n",
    "# relation = Relation(\n",
    "#     \"Explanation\", \n",
    "#     1, \n",
    "#     None,\n",
    "#     Relation(\n",
    "#         \"Background\",\n",
    "#         2,\n",
    "#         None,\n",
    "#         None,\n",
    "#         None\n",
    "#     ),\n",
    "#     None\n",
    "# )\n",
    "\n",
    "# print(find_nested_relation(\"Background\", None))\n",
    "\n",
    "# print(find_nested_relation(\"Explanation\", relation))\n",
    "\n",
    "# print(find_nested_relation(\"Background\", relation))\n",
    "\n",
    "# relation = Relation(\n",
    "#     \"Explanation\", \n",
    "#     1, \n",
    "#     None,\n",
    "#     Relation(\n",
    "#         \"Background\",\n",
    "#         2,\n",
    "#         None,\n",
    "#         None,\n",
    "#         None\n",
    "#     ),\n",
    "#     Relation(\n",
    "#         \"Background\",\n",
    "#         3,\n",
    "#         None,\n",
    "#         Relation(\n",
    "#             \"Elaboration\",\n",
    "#             4,\n",
    "#             None,\n",
    "#             None,\n",
    "#             None\n",
    "#         ),\n",
    "#         None\n",
    "#     )\n",
    "# )\n",
    "\n",
    "# print(find_nested_relation(\"Background\", relation))\n",
    "\n",
    "# print(find_nested_relation(\"Elaboration\", relation))"
   ]
  },
  {
   "cell_type": "code",
   "execution_count": 28,
   "metadata": {
    "collapsed": true
   },
   "outputs": [],
   "source": [
    "with open(\"connectives.txt\", \"rt\") as f:\n",
    "    connectives = set(\n",
    "        [line.strip() for line in f.readlines()]\n",
    "    )"
   ]
  },
  {
   "cell_type": "code",
   "execution_count": 34,
   "metadata": {
    "collapsed": true
   },
   "outputs": [],
   "source": [
    "def trim_connective(string):\n",
    "    lower = string.lower()\n",
    "    for c in connectives:\n",
    "        if lower[:len(c)] == c:\n",
    "            return string[len(c):].strip()\n",
    "    return string"
   ]
  },
  {
   "cell_type": "code",
   "execution_count": 43,
   "metadata": {
    "collapsed": true
   },
   "outputs": [],
   "source": [
    "punctuation = set([\".\", \",\", \"!\", \"?\", \";\"])"
   ]
  },
  {
   "cell_type": "code",
   "execution_count": 44,
   "metadata": {
    "collapsed": true
   },
   "outputs": [],
   "source": [
    "def remove_trailing_punctuation(string):\n",
    "    if len(string) == 0 or string[-1] not in punctuation:\n",
    "        return string\n",
    "    else:\n",
    "        return string[:-1]"
   ]
  }
 ],
 "metadata": {
  "kernelspec": {
   "display_name": "Python 3",
   "language": "python",
   "name": "python3"
  },
  "language_info": {
   "codemirror_mode": {
    "name": "ipython",
    "version": 3
   },
   "file_extension": ".py",
   "mimetype": "text/x-python",
   "name": "python",
   "nbconvert_exporter": "python",
   "pygments_lexer": "ipython3",
   "version": "3.6.3"
  }
 },
 "nbformat": 4,
 "nbformat_minor": 2
}
